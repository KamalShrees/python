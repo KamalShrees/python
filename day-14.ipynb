{
 "cells": [
  {
   "cell_type": "code",
   "execution_count": 1,
   "id": "ebc24f3e",
   "metadata": {},
   "outputs": [],
   "source": [
    "import csv "
   ]
  },
  {
   "cell_type": "code",
   "execution_count": 38,
   "id": "d6f2dad3",
   "metadata": {},
   "outputs": [],
   "source": [
    "columns = ['college', 'universitie', 'estd']"
   ]
  },
  {
   "cell_type": "code",
   "execution_count": 3,
   "id": "ffd5eb4b",
   "metadata": {},
   "outputs": [],
   "source": [
    "rows = [['Herald', 'ABC', '1990'], ['thapathali', 'tu', '1910']]"
   ]
  },
  {
   "cell_type": "code",
   "execution_count": 7,
   "id": "62abb421",
   "metadata": {},
   "outputs": [],
   "source": [
    "with open('colleges.csv', 'w') as file:\n",
    "    writer = csv.writer(file) #gives writer\n",
    "    writer.writerow(columns) \n",
    "    for row in rows:\n",
    "        writer.writerow(row)"
   ]
  },
  {
   "cell_type": "code",
   "execution_count": 8,
   "id": "a661329a",
   "metadata": {},
   "outputs": [
    {
     "ename": "SyntaxError",
     "evalue": "invalid syntax (<ipython-input-8-d1ef12e8b674>, line 1)",
     "output_type": "error",
     "traceback": [
      "\u001b[1;36m  File \u001b[1;32m\"<ipython-input-8-d1ef12e8b674>\"\u001b[1;36m, line \u001b[1;32m1\u001b[0m\n\u001b[1;33m    cat colleges.csv\u001b[0m\n\u001b[1;37m        ^\u001b[0m\n\u001b[1;31mSyntaxError\u001b[0m\u001b[1;31m:\u001b[0m invalid syntax\n"
     ]
    }
   ],
   "source": [
    "cat colleges.csv"
   ]
  },
  {
   "cell_type": "code",
   "execution_count": 9,
   "id": "ef34692f",
   "metadata": {},
   "outputs": [],
   "source": [
    "file = open('colleges.csv')"
   ]
  },
  {
   "cell_type": "code",
   "execution_count": 10,
   "id": "4653e898",
   "metadata": {},
   "outputs": [
    {
     "data": {
      "text/plain": [
       "<_io.TextIOWrapper name='colleges.csv' mode='r' encoding='cp1252'>"
      ]
     },
     "execution_count": 10,
     "metadata": {},
     "output_type": "execute_result"
    }
   ],
   "source": [
    "file"
   ]
  },
  {
   "cell_type": "code",
   "execution_count": 14,
   "id": "4dec928e",
   "metadata": {},
   "outputs": [],
   "source": [
    "with open('colleges_2.csv', 'w', newline='') as file:\n",
    "    writer = csv.writer(file) #gives writer\n",
    "    writer.writerow(columns)\n",
    "    writer.writerows(rows)"
   ]
  },
  {
   "cell_type": "code",
   "execution_count": 20,
   "id": "5e92dfdf",
   "metadata": {},
   "outputs": [],
   "source": [
    "with open('colleges_2.csv', 'r', newline='') as file:\n",
    "    reader = csv.reader(file)\n",
    "    for row in reader:\n",
    "        print(row)"
   ]
  },
  {
   "cell_type": "code",
   "execution_count": 21,
   "id": "a5449eb4",
   "metadata": {},
   "outputs": [
    {
     "data": {
      "text/plain": [
       "['thapathali', 'tu', '1910']"
      ]
     },
     "execution_count": 21,
     "metadata": {},
     "output_type": "execute_result"
    }
   ],
   "source": [
    "row"
   ]
  },
  {
   "cell_type": "code",
   "execution_count": 22,
   "id": "e0c952ef",
   "metadata": {},
   "outputs": [],
   "source": [
    "file = open('colleges_2.csv')"
   ]
  },
  {
   "cell_type": "code",
   "execution_count": 42,
   "id": "a12a35d0",
   "metadata": {},
   "outputs": [
    {
     "name": "stdout",
     "output_type": "stream",
     "text": [
      "['college', 'universitie', 'estd'] ['thapathali', 'tu', '1910']\n",
      "['college', 'universitie', 'estd'] ['thapathali', 'tu', '1910']\n",
      "['college', 'universitie', 'estd'] ['thapathali', 'tu', '1910']\n"
     ]
    }
   ],
   "source": [
    "for i in zip(columns,row):\n",
    "    print(columns, row)"
   ]
  },
  {
   "cell_type": "code",
   "execution_count": 32,
   "id": "75cbdb1b",
   "metadata": {},
   "outputs": [
    {
     "data": {
      "text/plain": [
       "{'universitie': ['Herald', 'ABC', '1990'],\n",
       " 'estd': ['thapathali', 'tu', '1910']}"
      ]
     },
     "execution_count": 32,
     "metadata": {},
     "output_type": "execute_result"
    }
   ],
   "source": [
    "dict(zip(columns, rows))"
   ]
  },
  {
   "cell_type": "code",
   "execution_count": 46,
   "id": "86e3a3b1",
   "metadata": {},
   "outputs": [],
   "source": [
    "[dict(zip(columns, row)) for row in rows]"
   ]
  },
  {
   "cell_type": "code",
   "execution_count": 34,
   "id": "86da144d",
   "metadata": {},
   "outputs": [
    {
     "data": {
      "text/plain": [
       "[{'universitie': 'Herald', 'estd': 'ABC'},\n",
       " {'universitie': 'thapathali', 'estd': 'tu'}]"
      ]
     },
     "execution_count": 34,
     "metadata": {},
     "output_type": "execute_result"
    }
   ],
   "source": [
    "[{key:value for key, value in zip(columns, row)} for row in rows]"
   ]
  },
  {
   "cell_type": "code",
   "execution_count": 41,
   "id": "c1617870",
   "metadata": {},
   "outputs": [
    {
     "data": {
      "text/plain": [
       "[{'college': 'Herald', 'universitie': 'ABC', 'estd': '1990'},\n",
       " {'college': 'thapathali', 'universitie': 'tu', 'estd': '1910'}]"
      ]
     },
     "execution_count": 41,
     "metadata": {},
     "output_type": "execute_result"
    }
   ],
   "source": [
    "[{columns[i]:row[i] for i in range(3)} for row in rows]"
   ]
  },
  {
   "cell_type": "code",
   "execution_count": 39,
   "id": "a3bddd7c",
   "metadata": {},
   "outputs": [
    {
     "data": {
      "text/plain": [
       "['college', 'universitie', 'estd']"
      ]
     },
     "execution_count": 39,
     "metadata": {},
     "output_type": "execute_result"
    }
   ],
   "source": [
    "columns"
   ]
  },
  {
   "cell_type": "code",
   "execution_count": 37,
   "id": "3d653135",
   "metadata": {},
   "outputs": [
    {
     "data": {
      "text/plain": [
       "[['Herald', 'ABC', '1990'], ['thapathali', 'tu', '1910']]"
      ]
     },
     "execution_count": 37,
     "metadata": {},
     "output_type": "execute_result"
    }
   ],
   "source": [
    "rows"
   ]
  },
  {
   "cell_type": "code",
   "execution_count": null,
   "id": "f9303b6f",
   "metadata": {},
   "outputs": [],
   "source": [
    "rows_dict= [dict(zip(columns, row)) for row in rows]"
   ]
  },
  {
   "cell_type": "code",
   "execution_count": 1,
   "id": "764e09cb",
   "metadata": {},
   "outputs": [
    {
     "ename": "NameError",
     "evalue": "name 'csv' is not defined",
     "output_type": "error",
     "traceback": [
      "\u001b[1;31m---------------------------------------------------------------------------\u001b[0m",
      "\u001b[1;31mNameError\u001b[0m                                 Traceback (most recent call last)",
      "\u001b[1;32m<ipython-input-1-41f3991a53c4>\u001b[0m in \u001b[0;36m<module>\u001b[1;34m\u001b[0m\n\u001b[0;32m      1\u001b[0m \u001b[1;32mwith\u001b[0m \u001b[0mopen\u001b[0m\u001b[1;33m(\u001b[0m\u001b[1;34m'colleges_3.csv'\u001b[0m\u001b[1;33m,\u001b[0m \u001b[1;34m'w'\u001b[0m\u001b[1;33m,\u001b[0m \u001b[0mnewline\u001b[0m\u001b[1;33m=\u001b[0m\u001b[1;34m''\u001b[0m\u001b[1;33m)\u001b[0m \u001b[1;32mas\u001b[0m \u001b[0mfile\u001b[0m\u001b[1;33m:\u001b[0m\u001b[1;33m\u001b[0m\u001b[1;33m\u001b[0m\u001b[0m\n\u001b[1;32m----> 2\u001b[1;33m     \u001b[0mwriter\u001b[0m \u001b[1;33m=\u001b[0m \u001b[0mcsv\u001b[0m\u001b[1;33m.\u001b[0m\u001b[0mDictWriter\u001b[0m\u001b[1;33m(\u001b[0m\u001b[0mfile\u001b[0m\u001b[1;33m,\u001b[0m \u001b[0mfieldnames\u001b[0m \u001b[1;33m=\u001b[0m \u001b[0mcolumns\u001b[0m\u001b[1;33m)\u001b[0m\u001b[1;33m\u001b[0m\u001b[1;33m\u001b[0m\u001b[0m\n\u001b[0m\u001b[0;32m      3\u001b[0m     \u001b[0mwriter\u001b[0m\u001b[1;33m.\u001b[0m\u001b[0mwriteheader\u001b[0m\u001b[1;33m(\u001b[0m\u001b[1;33m)\u001b[0m\u001b[1;33m\u001b[0m\u001b[1;33m\u001b[0m\u001b[0m\n\u001b[0;32m      4\u001b[0m     \u001b[0mwriter\u001b[0m\u001b[1;33m.\u001b[0m\u001b[0mwriterows\u001b[0m\u001b[1;33m(\u001b[0m\u001b[0mrows_dict\u001b[0m\u001b[1;33m)\u001b[0m\u001b[1;33m\u001b[0m\u001b[1;33m\u001b[0m\u001b[0m\n",
      "\u001b[1;31mNameError\u001b[0m: name 'csv' is not defined"
     ]
    }
   ],
   "source": [
    "with open('colleges_3.csv', 'w', newline='') as file:\n",
    "    writer = csv.DictWriter(file, fieldnames = columns)\n",
    "    writer.writeheader()\n",
    "    writer.writerows(rows_dict)"
   ]
  },
  {
   "cell_type": "code",
   "execution_count": 49,
   "id": "0a4d1cbd",
   "metadata": {},
   "outputs": [],
   "source": [
    "# dict_reader do research"
   ]
  },
  {
   "cell_type": "markdown",
   "id": "80c753cb",
   "metadata": {},
   "source": [
    "# Error Handling"
   ]
  },
  {
   "cell_type": "code",
   "execution_count": 50,
   "id": "06583d38",
   "metadata": {},
   "outputs": [],
   "source": [
    "try:\n",
    "    pass\n",
    "except:\n",
    "    pass\n",
    "else:\n",
    "    pass\n",
    "finally:\n",
    "    pass"
   ]
  },
  {
   "cell_type": "code",
   "execution_count": 52,
   "id": "ac94c581",
   "metadata": {},
   "outputs": [],
   "source": [
    "# for multipul error use multiple except"
   ]
  },
  {
   "cell_type": "code",
   "execution_count": 60,
   "id": "556dabfe",
   "metadata": {},
   "outputs": [
    {
     "name": "stdout",
     "output_type": "stream",
     "text": [
      "pythonlover\n"
     ]
    }
   ],
   "source": [
    "s= \"python\"\n",
    "value= \"lover\"\n",
    "if isinstance(value, str):\n",
    "    r = s+value\n",
    "    print(r)"
   ]
  },
  {
   "cell_type": "code",
   "execution_count": 62,
   "id": "b6117f23",
   "metadata": {},
   "outputs": [
    {
     "data": {
      "text/plain": [
       "'pythonlover'"
      ]
     },
     "execution_count": 62,
     "metadata": {},
     "output_type": "execute_result"
    }
   ],
   "source": [
    "r"
   ]
  },
  {
   "cell_type": "code",
   "execution_count": 1,
   "id": "e186a4af",
   "metadata": {},
   "outputs": [],
   "source": [
    "modules = ['request', 'BeautifulSoup', {'Parsers': ['html.parser', 'lxml', '...']}]"
   ]
  },
  {
   "cell_type": "code",
   "execution_count": 2,
   "id": "98ff3378",
   "metadata": {},
   "outputs": [
    {
     "data": {
      "text/plain": [
       "['request', 'BeautifulSoup', {'Parsers': ['html.parser', 'lxml', '...']}]"
      ]
     },
     "execution_count": 2,
     "metadata": {},
     "output_type": "execute_result"
    }
   ],
   "source": [
    "modules"
   ]
  },
  {
   "cell_type": "code",
   "execution_count": 1,
   "id": "f5f94e62",
   "metadata": {},
   "outputs": [],
   "source": [
    "try:\n",
    "   # do something\n",
    "   pass\n",
    "\n",
    "except ValueError:\n",
    "   # handle ValueError exception\n",
    "   pass\n",
    "\n",
    "except (TypeError, ZeroDivisionError):\n",
    "   # handle multiple exceptions\n",
    "   # TypeError and ZeroDivisionError\n",
    "   pass\n",
    "\n",
    "except:\n",
    "   # handle all other exceptions\n",
    "   pass"
   ]
  },
  {
   "cell_type": "code",
   "execution_count": 4,
   "id": "eb0572dd",
   "metadata": {},
   "outputs": [
    {
     "name": "stdout",
     "output_type": "stream",
     "text": [
      "Enter a number: uu\n",
      "Not an even number!\n"
     ]
    }
   ],
   "source": [
    "# program to print the reciprocal of even numbers\n",
    "\n",
    "try:\n",
    "    num = int(input(\"Enter a number: \"))\n",
    "    assert num % 2 == 0\n",
    "except:\n",
    "    print(\"Not an even number!\")\n",
    "else:\n",
    "    reciprocal = 1/num\n",
    "    print(reciprocal)"
   ]
  },
  {
   "cell_type": "code",
   "execution_count": 9,
   "id": "936cc86c",
   "metadata": {},
   "outputs": [
    {
     "name": "stdout",
     "output_type": "stream",
     "text": [
      "[Errno 2] No such file or directory: 'test.txt'\n"
     ]
    },
    {
     "ename": "NameError",
     "evalue": "name 'file' is not defined",
     "output_type": "error",
     "traceback": [
      "\u001b[1;31m---------------------------------------------------------------------------\u001b[0m",
      "\u001b[1;31mNameError\u001b[0m                                 Traceback (most recent call last)",
      "\u001b[1;32m<ipython-input-9-834734f5de32>\u001b[0m in \u001b[0;36m<module>\u001b[1;34m\u001b[0m\n\u001b[0;32m      5\u001b[0m     \u001b[0mprint\u001b[0m\u001b[1;33m(\u001b[0m\u001b[1;34mf\"{e}\"\u001b[0m\u001b[1;33m)\u001b[0m\u001b[1;33m\u001b[0m\u001b[1;33m\u001b[0m\u001b[0m\n\u001b[0;32m      6\u001b[0m \u001b[1;32mfinally\u001b[0m\u001b[1;33m:\u001b[0m\u001b[1;33m\u001b[0m\u001b[1;33m\u001b[0m\u001b[0m\n\u001b[1;32m----> 7\u001b[1;33m     \u001b[0mfile\u001b[0m\u001b[1;33m.\u001b[0m\u001b[0mclose\u001b[0m\u001b[1;33m(\u001b[0m\u001b[1;33m)\u001b[0m\u001b[1;33m\u001b[0m\u001b[1;33m\u001b[0m\u001b[0m\n\u001b[0m",
      "\u001b[1;31mNameError\u001b[0m: name 'file' is not defined"
     ]
    }
   ],
   "source": [
    "try:\n",
    "    file = open(\"test.txt\",encoding = 'utf-8')\n",
    "   # perform file operations\n",
    "except FileNotFoundError as e:\n",
    "    print(f\"{e}\")\n",
    "finally:\n",
    "    file.close()"
   ]
  },
  {
   "cell_type": "code",
   "execution_count": null,
   "id": "b610d7e0",
   "metadata": {},
   "outputs": [],
   "source": []
  }
 ],
 "metadata": {
  "kernelspec": {
   "display_name": "Python 3",
   "language": "python",
   "name": "python3"
  },
  "language_info": {
   "codemirror_mode": {
    "name": "ipython",
    "version": 3
   },
   "file_extension": ".py",
   "mimetype": "text/x-python",
   "name": "python",
   "nbconvert_exporter": "python",
   "pygments_lexer": "ipython3",
   "version": "3.8.8"
  }
 },
 "nbformat": 4,
 "nbformat_minor": 5
}
