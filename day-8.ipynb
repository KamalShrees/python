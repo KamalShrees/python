{
 "cells": [
  {
   "cell_type": "code",
   "execution_count": 1,
   "id": "ee0b864b",
   "metadata": {},
   "outputs": [],
   "source": [
    "s=\"broadwaysinfosysnepal\""
   ]
  },
  {
   "cell_type": "code",
   "execution_count": 2,
   "id": "5189b542",
   "metadata": {},
   "outputs": [
    {
     "name": "stdout",
     "output_type": "stream",
     "text": [
      "{'b': 1, 'r': 1, 'o': 2, 'a': 3, 'd': 1, 'w': 1, 'y': 2, 's': 3, 'i': 1, 'n': 2, 'f': 1, 'e': 1, 'p': 1, 'l': 1}\n"
     ]
    }
   ],
   "source": [
    "d = {}\n",
    "for i in s:  \n",
    "   d[i] = d.get(i,0) +1\n",
    "print(d)"
   ]
  },
  {
   "cell_type": "code",
   "execution_count": 3,
   "id": "0054ca93",
   "metadata": {},
   "outputs": [
    {
     "data": {
      "text/plain": [
       "21"
      ]
     },
     "execution_count": 3,
     "metadata": {},
     "output_type": "execute_result"
    }
   ],
   "source": [
    "len(s)"
   ]
  },
  {
   "cell_type": "code",
   "execution_count": 4,
   "id": "9398849b",
   "metadata": {},
   "outputs": [
    {
     "name": "stdout",
     "output_type": "stream",
     "text": [
      "b :  1\n",
      "r :  1\n",
      "o :  2\n",
      "a :  3\n",
      "d :  1\n",
      "w :  1\n",
      "a :  3\n",
      "y :  2\n",
      "s :  3\n",
      "i :  1\n",
      "n :  2\n",
      "f :  1\n",
      "o :  2\n",
      "s :  3\n",
      "y :  2\n",
      "s :  3\n",
      "n :  2\n",
      "e :  1\n",
      "p :  1\n",
      "a :  3\n",
      "l :  1\n"
     ]
    }
   ],
   "source": [
    "for i in s:\n",
    "    result= s.count(i)\n",
    "    print(f\"{i} : \", result)"
   ]
  },
  {
   "cell_type": "markdown",
   "id": "7634f437",
   "metadata": {},
   "source": [
    "# Mapping, filtering, reduce, comprehension"
   ]
  },
  {
   "cell_type": "code",
   "execution_count": 4,
   "id": "53933486",
   "metadata": {},
   "outputs": [],
   "source": [
    "def is_odd(x):\n",
    "    if x%2==1:\n",
    "        return True\n",
    "    else:\n",
    "        return False"
   ]
  },
  {
   "cell_type": "code",
   "execution_count": 5,
   "id": "9ba147fd",
   "metadata": {},
   "outputs": [
    {
     "data": {
      "text/plain": [
       "True"
      ]
     },
     "execution_count": 5,
     "metadata": {},
     "output_type": "execute_result"
    }
   ],
   "source": [
    "is_odd(3)"
   ]
  },
  {
   "cell_type": "code",
   "execution_count": 6,
   "id": "e65b86eb",
   "metadata": {},
   "outputs": [
    {
     "data": {
      "text/plain": [
       "False"
      ]
     },
     "execution_count": 6,
     "metadata": {},
     "output_type": "execute_result"
    }
   ],
   "source": [
    "is_odd(4)"
   ]
  },
  {
   "cell_type": "code",
   "execution_count": 7,
   "id": "46dfd7af",
   "metadata": {},
   "outputs": [],
   "source": [
    "def rtn_squre(x):\n",
    "    return x**2  "
   ]
  },
  {
   "cell_type": "code",
   "execution_count": 8,
   "id": "2ce4f2ad",
   "metadata": {},
   "outputs": [
    {
     "data": {
      "text/plain": [
       "16"
      ]
     },
     "execution_count": 8,
     "metadata": {},
     "output_type": "execute_result"
    }
   ],
   "source": [
    "rtn_squre(4)"
   ]
  },
  {
   "cell_type": "code",
   "execution_count": 9,
   "id": "ec47369b",
   "metadata": {},
   "outputs": [
    {
     "name": "stdout",
     "output_type": "stream",
     "text": [
      "Help on class map in module builtins:\n",
      "\n",
      "class map(object)\n",
      " |  map(func, *iterables) --> map object\n",
      " |  \n",
      " |  Make an iterator that computes the function using arguments from\n",
      " |  each of the iterables.  Stops when the shortest iterable is exhausted.\n",
      " |  \n",
      " |  Methods defined here:\n",
      " |  \n",
      " |  __getattribute__(self, name, /)\n",
      " |      Return getattr(self, name).\n",
      " |  \n",
      " |  __iter__(self, /)\n",
      " |      Implement iter(self).\n",
      " |  \n",
      " |  __next__(self, /)\n",
      " |      Implement next(self).\n",
      " |  \n",
      " |  __reduce__(...)\n",
      " |      Return state information for pickling.\n",
      " |  \n",
      " |  ----------------------------------------------------------------------\n",
      " |  Static methods defined here:\n",
      " |  \n",
      " |  __new__(*args, **kwargs) from builtins.type\n",
      " |      Create and return a new object.  See help(type) for accurate signature.\n",
      "\n"
     ]
    }
   ],
   "source": [
    "help(map)"
   ]
  },
  {
   "cell_type": "code",
   "execution_count": 10,
   "id": "ea783570",
   "metadata": {},
   "outputs": [
    {
     "data": {
      "text/plain": [
       "<map at 0x129f06c6cd0>"
      ]
     },
     "execution_count": 10,
     "metadata": {},
     "output_type": "execute_result"
    }
   ],
   "source": [
    "map(rtn_squre, range(5,15))"
   ]
  },
  {
   "cell_type": "code",
   "execution_count": 11,
   "id": "7071bcdb",
   "metadata": {},
   "outputs": [],
   "source": [
    "a = map(rtn_squre, range(5,15))"
   ]
  },
  {
   "cell_type": "code",
   "execution_count": 12,
   "id": "146e8dea",
   "metadata": {},
   "outputs": [
    {
     "name": "stdout",
     "output_type": "stream",
     "text": [
      "25\n",
      "36\n",
      "49\n",
      "64\n",
      "81\n",
      "100\n",
      "121\n",
      "144\n",
      "169\n",
      "196\n"
     ]
    }
   ],
   "source": [
    "for i in a:\n",
    "    print(i)"
   ]
  },
  {
   "cell_type": "code",
   "execution_count": 13,
   "id": "ce91a1ce",
   "metadata": {},
   "outputs": [],
   "source": [
    "a = map(lambda x:x**2, range(5,10))"
   ]
  },
  {
   "cell_type": "code",
   "execution_count": 14,
   "id": "57470727",
   "metadata": {},
   "outputs": [
    {
     "data": {
      "text/plain": [
       "[25, 36, 49, 64, 81]"
      ]
     },
     "execution_count": 14,
     "metadata": {},
     "output_type": "execute_result"
    }
   ],
   "source": [
    "list(a)"
   ]
  },
  {
   "cell_type": "code",
   "execution_count": 15,
   "id": "75aa2d64",
   "metadata": {},
   "outputs": [
    {
     "data": {
      "text/plain": [
       "[]"
      ]
     },
     "execution_count": 15,
     "metadata": {},
     "output_type": "execute_result"
    }
   ],
   "source": [
    "list(a)"
   ]
  },
  {
   "cell_type": "code",
   "execution_count": 16,
   "id": "9dbdc553",
   "metadata": {},
   "outputs": [],
   "source": [
    "a = filter(is_odd, range(5,10))"
   ]
  },
  {
   "cell_type": "code",
   "execution_count": 17,
   "id": "a7205e17",
   "metadata": {},
   "outputs": [
    {
     "data": {
      "text/plain": [
       "[5, 7, 9]"
      ]
     },
     "execution_count": 17,
     "metadata": {},
     "output_type": "execute_result"
    }
   ],
   "source": [
    "list(a)"
   ]
  },
  {
   "cell_type": "code",
   "execution_count": 18,
   "id": "954e4d4b",
   "metadata": {},
   "outputs": [],
   "source": [
    "a = filter(lambda x:x%2==1, range(5,15))"
   ]
  },
  {
   "cell_type": "code",
   "execution_count": 19,
   "id": "b66349f5",
   "metadata": {},
   "outputs": [
    {
     "data": {
      "text/plain": [
       "[5, 7, 9, 11, 13]"
      ]
     },
     "execution_count": 19,
     "metadata": {},
     "output_type": "execute_result"
    }
   ],
   "source": [
    "list(a)"
   ]
  },
  {
   "cell_type": "code",
   "execution_count": 20,
   "id": "258116e3",
   "metadata": {},
   "outputs": [],
   "source": [
    "odd_number = filter(lambda x:x%2==1, range(1,10))"
   ]
  },
  {
   "cell_type": "code",
   "execution_count": 21,
   "id": "c6f949fa",
   "metadata": {},
   "outputs": [
    {
     "data": {
      "text/plain": [
       "[1, 3, 5, 7, 9]"
      ]
     },
     "execution_count": 21,
     "metadata": {},
     "output_type": "execute_result"
    }
   ],
   "source": [
    "list(odd_number)"
   ]
  },
  {
   "cell_type": "code",
   "execution_count": 22,
   "id": "295a209f",
   "metadata": {},
   "outputs": [],
   "source": [
    "def odd_num_square(odd_number):\n",
    "    return odd_number**2"
   ]
  },
  {
   "cell_type": "code",
   "execution_count": 23,
   "id": "a896af49",
   "metadata": {},
   "outputs": [
    {
     "data": {
      "text/plain": [
       "1"
      ]
     },
     "execution_count": 23,
     "metadata": {},
     "output_type": "execute_result"
    }
   ],
   "source": [
    "odd_num_square(1)"
   ]
  },
  {
   "cell_type": "code",
   "execution_count": 24,
   "id": "dae7d7fc",
   "metadata": {},
   "outputs": [
    {
     "data": {
      "text/plain": [
       "<map at 0x129f06c6a00>"
      ]
     },
     "execution_count": 24,
     "metadata": {},
     "output_type": "execute_result"
    }
   ],
   "source": [
    "map(lambda x:x**2, odd_number)"
   ]
  },
  {
   "cell_type": "code",
   "execution_count": 26,
   "id": "fbb3108e",
   "metadata": {},
   "outputs": [
    {
     "data": {
      "text/plain": [
       "[1, 9, 25, 49, 81]"
      ]
     },
     "execution_count": 26,
     "metadata": {},
     "output_type": "execute_result"
    }
   ],
   "source": [
    "list(map(lambda x: x**2,filter(lambda x: x%2==1,range(1,10))))"
   ]
  },
  {
   "cell_type": "code",
   "execution_count": null,
   "id": "393814af",
   "metadata": {},
   "outputs": [],
   "source": []
  }
 ],
 "metadata": {
  "kernelspec": {
   "display_name": "Python 3",
   "language": "python",
   "name": "python3"
  },
  "language_info": {
   "codemirror_mode": {
    "name": "ipython",
    "version": 3
   },
   "file_extension": ".py",
   "mimetype": "text/x-python",
   "name": "python",
   "nbconvert_exporter": "python",
   "pygments_lexer": "ipython3",
   "version": "3.8.8"
  }
 },
 "nbformat": 4,
 "nbformat_minor": 5
}
