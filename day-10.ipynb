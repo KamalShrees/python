{
 "cells": [
  {
   "cell_type": "code",
   "execution_count": 1,
   "id": "dfa30889",
   "metadata": {},
   "outputs": [],
   "source": [
    "alist = [2,7,4,1,5,9]\n",
    "r= 12"
   ]
  },
  {
   "cell_type": "code",
   "execution_count": 2,
   "id": "5f674108",
   "metadata": {},
   "outputs": [
    {
     "name": "stdout",
     "output_type": "stream",
     "text": [
      "5 7\n"
     ]
    }
   ],
   "source": [
    "for i in alist:\n",
    "    if r-i in alist:\n",
    "        print(r-i,i)\n",
    "        break"
   ]
  },
  {
   "cell_type": "code",
   "execution_count": 3,
   "id": "6ff9a649",
   "metadata": {},
   "outputs": [],
   "source": [
    "blist = [2,9,7,1,4,10]\n",
    "#find out the two number that makes gretest sum"
   ]
  },
  {
   "cell_type": "code",
   "execution_count": null,
   "id": "dcf4cb7d",
   "metadata": {},
   "outputs": [],
   "source": [
    "for i in blist:\n",
    "    sum = 0\n",
    "    for j in range(i, i+1):\n",
    "        if \n",
    "    "
   ]
  },
  {
   "cell_type": "code",
   "execution_count": 22,
   "id": "101617a0",
   "metadata": {},
   "outputs": [],
   "source": [
    "#dunder method"
   ]
  },
  {
   "cell_type": "code",
   "execution_count": 24,
   "id": "72c3aa73",
   "metadata": {},
   "outputs": [],
   "source": [
    "#arguments\n",
    "#1. positional arguments, 2. keyword rguments\n",
    "\n",
    "# ** = all keys and all values\n",
    "\n",
    "#arguments order\n",
    "#(positional arguments, keyword arguments)"
   ]
  },
  {
   "cell_type": "code",
   "execution_count": null,
   "id": "2b926f67",
   "metadata": {},
   "outputs": [],
   "source": []
  },
  {
   "cell_type": "code",
   "execution_count": null,
   "id": "4c05ac32",
   "metadata": {},
   "outputs": [],
   "source": []
  }
 ],
 "metadata": {
  "kernelspec": {
   "display_name": "Python 3",
   "language": "python",
   "name": "python3"
  },
  "language_info": {
   "codemirror_mode": {
    "name": "ipython",
    "version": 3
   },
   "file_extension": ".py",
   "mimetype": "text/x-python",
   "name": "python",
   "nbconvert_exporter": "python",
   "pygments_lexer": "ipython3",
   "version": "3.8.8"
  }
 },
 "nbformat": 4,
 "nbformat_minor": 5
}
