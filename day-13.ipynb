{
 "cells": [
  {
   "cell_type": "markdown",
   "id": "3c37a134",
   "metadata": {},
   "source": [
    "# OOP\n",
    "#class & object"
   ]
  },
  {
   "cell_type": "code",
   "execution_count": 1,
   "id": "f12913b6",
   "metadata": {},
   "outputs": [],
   "source": [
    "class Test:\n",
    "    x= 3000\n",
    "    def __init__(self,y): #by default call huney method __init__ (like constroctor)\n",
    "        print(\"i am init method\")\n",
    "        self.y = y\n",
    "    def callme(self):\n",
    "        print(\"iam called\")"
   ]
  },
  {
   "cell_type": "code",
   "execution_count": 2,
   "id": "2498c498",
   "metadata": {},
   "outputs": [],
   "source": [
    "t = Test.x"
   ]
  },
  {
   "cell_type": "code",
   "execution_count": 3,
   "id": "2fd7d3a8",
   "metadata": {},
   "outputs": [
    {
     "data": {
      "text/plain": [
       "3000"
      ]
     },
     "execution_count": 3,
     "metadata": {},
     "output_type": "execute_result"
    }
   ],
   "source": [
    "t"
   ]
  },
  {
   "cell_type": "code",
   "execution_count": 4,
   "id": "52a9761f",
   "metadata": {},
   "outputs": [
    {
     "ename": "TypeError",
     "evalue": "__init__() missing 1 required positional argument: 'y'",
     "output_type": "error",
     "traceback": [
      "\u001b[1;31m---------------------------------------------------------------------------\u001b[0m",
      "\u001b[1;31mTypeError\u001b[0m                                 Traceback (most recent call last)",
      "\u001b[1;32m<ipython-input-4-57ee07e6cc45>\u001b[0m in \u001b[0;36m<module>\u001b[1;34m\u001b[0m\n\u001b[1;32m----> 1\u001b[1;33m \u001b[0mt\u001b[0m \u001b[1;33m=\u001b[0m \u001b[0mTest\u001b[0m\u001b[1;33m(\u001b[0m\u001b[1;33m)\u001b[0m\u001b[1;33m\u001b[0m\u001b[1;33m\u001b[0m\u001b[0m\n\u001b[0m",
      "\u001b[1;31mTypeError\u001b[0m: __init__() missing 1 required positional argument: 'y'"
     ]
    }
   ],
   "source": [
    "t = Test()"
   ]
  },
  {
   "cell_type": "code",
   "execution_count": 5,
   "id": "4da76bee",
   "metadata": {},
   "outputs": [
    {
     "name": "stdout",
     "output_type": "stream",
     "text": [
      "i am init method\n"
     ]
    }
   ],
   "source": [
    "t = Test(10)"
   ]
  },
  {
   "cell_type": "code",
   "execution_count": 6,
   "id": "c0ca1cfb",
   "metadata": {},
   "outputs": [
    {
     "data": {
      "text/plain": [
       "<__main__.Test at 0x22b3e8f74c0>"
      ]
     },
     "execution_count": 6,
     "metadata": {},
     "output_type": "execute_result"
    }
   ],
   "source": [
    "t"
   ]
  },
  {
   "cell_type": "code",
   "execution_count": 7,
   "id": "be783110",
   "metadata": {},
   "outputs": [
    {
     "data": {
      "text/plain": [
       "10"
      ]
     },
     "execution_count": 7,
     "metadata": {},
     "output_type": "execute_result"
    }
   ],
   "source": [
    "t.y"
   ]
  },
  {
   "cell_type": "code",
   "execution_count": 8,
   "id": "e05fa2af",
   "metadata": {},
   "outputs": [
    {
     "data": {
      "text/plain": [
       "{'y': 10}"
      ]
     },
     "execution_count": 8,
     "metadata": {},
     "output_type": "execute_result"
    }
   ],
   "source": [
    "t.__dict__"
   ]
  },
  {
   "cell_type": "code",
   "execution_count": 9,
   "id": "cbe76624",
   "metadata": {},
   "outputs": [
    {
     "data": {
      "text/plain": [
       "mappingproxy({'__module__': '__main__',\n",
       "              'x': 3000,\n",
       "              '__init__': <function __main__.Test.__init__(self, y)>,\n",
       "              'callme': <function __main__.Test.callme(self)>,\n",
       "              '__dict__': <attribute '__dict__' of 'Test' objects>,\n",
       "              '__weakref__': <attribute '__weakref__' of 'Test' objects>,\n",
       "              '__doc__': None})"
      ]
     },
     "execution_count": 9,
     "metadata": {},
     "output_type": "execute_result"
    }
   ],
   "source": [
    "Test.__dict__"
   ]
  },
  {
   "cell_type": "code",
   "execution_count": 10,
   "id": "6651174e",
   "metadata": {},
   "outputs": [],
   "source": [
    "class Test:\n",
    "    x= 3000\n",
    "    def __init__(self,y): #by default call huney method __init__ (like constroctor)\n",
    "        print(\"i am init method\")\n",
    "        self.y = y\n",
    "    def callme(self, value):\n",
    "        print(\"iam called\")\n",
    "        self.y = self.y + value\n",
    "        print(\"value : {self.y}\")"
   ]
  },
  {
   "cell_type": "code",
   "execution_count": 11,
   "id": "60d06009",
   "metadata": {},
   "outputs": [
    {
     "name": "stdout",
     "output_type": "stream",
     "text": [
      "iam called\n"
     ]
    }
   ],
   "source": [
    "t.callme()"
   ]
  },
  {
   "cell_type": "code",
   "execution_count": 12,
   "id": "0594b227",
   "metadata": {},
   "outputs": [
    {
     "ename": "TypeError",
     "evalue": "callme() takes 1 positional argument but 2 were given",
     "output_type": "error",
     "traceback": [
      "\u001b[1;31m---------------------------------------------------------------------------\u001b[0m",
      "\u001b[1;31mTypeError\u001b[0m                                 Traceback (most recent call last)",
      "\u001b[1;32m<ipython-input-12-8433656d9f3b>\u001b[0m in \u001b[0;36m<module>\u001b[1;34m\u001b[0m\n\u001b[1;32m----> 1\u001b[1;33m \u001b[0mt\u001b[0m\u001b[1;33m.\u001b[0m\u001b[0mcallme\u001b[0m\u001b[1;33m(\u001b[0m\u001b[1;36m10\u001b[0m\u001b[1;33m)\u001b[0m\u001b[1;33m\u001b[0m\u001b[1;33m\u001b[0m\u001b[0m\n\u001b[0m",
      "\u001b[1;31mTypeError\u001b[0m: callme() takes 1 positional argument but 2 were given"
     ]
    }
   ],
   "source": [
    "t.callme(10)"
   ]
  },
  {
   "cell_type": "code",
   "execution_count": 13,
   "id": "c0a4dd65",
   "metadata": {},
   "outputs": [],
   "source": [
    "class Pair:\n",
    "    def __init__(self, x,y):\n",
    "        self.x=x\n",
    "        self.y=y\n",
    "    def __repr__(self):\n",
    "        return f\"({self.x}, {self.y})\"\n",
    "    def __str__ (self):\n",
    "        return f\"pair({self.x}, {self.y})\""
   ]
  },
  {
   "cell_type": "code",
   "execution_count": 14,
   "id": "d7068d81",
   "metadata": {},
   "outputs": [],
   "source": [
    "p=Pair(2,3)"
   ]
  },
  {
   "cell_type": "code",
   "execution_count": 15,
   "id": "8bd9e457",
   "metadata": {},
   "outputs": [
    {
     "data": {
      "text/plain": [
       "(2, 3)"
      ]
     },
     "execution_count": 15,
     "metadata": {},
     "output_type": "execute_result"
    }
   ],
   "source": [
    "p"
   ]
  },
  {
   "cell_type": "code",
   "execution_count": 16,
   "id": "dfb7d6fd",
   "metadata": {},
   "outputs": [
    {
     "name": "stdout",
     "output_type": "stream",
     "text": [
      "pair(2, 3)\n"
     ]
    }
   ],
   "source": [
    "print(p)"
   ]
  },
  {
   "cell_type": "code",
   "execution_count": 17,
   "id": "d723b7e3",
   "metadata": {},
   "outputs": [],
   "source": [
    "class Pair:\n",
    "    def __init__(self, x,y):\n",
    "        self.x=x\n",
    "        self.y=y\n",
    "    def __repr__(self):\n",
    "        print(\"__repr__ is called\")\n",
    "        return f\"({self.x}, {self.y})\"\n",
    "    def __str__ (self):\n",
    "        print(\"__str__ is called\")\n",
    "        return f\"pair({self.x}, {self.y})\""
   ]
  },
  {
   "cell_type": "code",
   "execution_count": 18,
   "id": "263de9d4",
   "metadata": {},
   "outputs": [],
   "source": [
    "q= Pair(5,6)"
   ]
  },
  {
   "cell_type": "code",
   "execution_count": 19,
   "id": "597e2d9a",
   "metadata": {},
   "outputs": [
    {
     "name": "stdout",
     "output_type": "stream",
     "text": [
      "__repr__ is called\n"
     ]
    },
    {
     "data": {
      "text/plain": [
       "(5, 6)"
      ]
     },
     "execution_count": 19,
     "metadata": {},
     "output_type": "execute_result"
    }
   ],
   "source": [
    "q"
   ]
  },
  {
   "cell_type": "code",
   "execution_count": 20,
   "id": "541f8143",
   "metadata": {},
   "outputs": [
    {
     "name": "stdout",
     "output_type": "stream",
     "text": [
      "__str__ is called\n",
      "pair(5, 6)\n"
     ]
    }
   ],
   "source": [
    "print(q)"
   ]
  },
  {
   "cell_type": "code",
   "execution_count": 21,
   "id": "e328b8f1",
   "metadata": {},
   "outputs": [
    {
     "name": "stdout",
     "output_type": "stream",
     "text": [
      "__str__ is called\n",
      "pair(2, 3)+pair(5, 6)\n"
     ]
    }
   ],
   "source": [
    "# solve this question\n",
    "print(f\"{p}+{q}\")"
   ]
  },
  {
   "cell_type": "code",
   "execution_count": 24,
   "id": "fad18b1e",
   "metadata": {},
   "outputs": [
    {
     "data": {
      "text/plain": [
       "__main__.Pair"
      ]
     },
     "execution_count": 24,
     "metadata": {},
     "output_type": "execute_result"
    }
   ],
   "source": [
    "type(p)"
   ]
  },
  {
   "cell_type": "code",
   "execution_count": 25,
   "id": "61aae33d",
   "metadata": {},
   "outputs": [
    {
     "data": {
      "text/plain": [
       "__main__.Pair"
      ]
     },
     "execution_count": 25,
     "metadata": {},
     "output_type": "execute_result"
    }
   ],
   "source": [
    "type(q)"
   ]
  },
  {
   "cell_type": "markdown",
   "id": "aa8c7b10",
   "metadata": {},
   "source": [
    "# File Handaling\n",
    "#read, write and append"
   ]
  },
  {
   "cell_type": "code",
   "execution_count": 41,
   "id": "38879934",
   "metadata": {},
   "outputs": [],
   "source": [
    "#file types : text fiel, binary file\n",
    "# to read the file the file must exist\n"
   ]
  },
  {
   "cell_type": "code",
   "execution_count": 42,
   "id": "ba8a985c",
   "metadata": {},
   "outputs": [
    {
     "name": "stdout",
     "output_type": "stream",
     "text": [
      " Volume in drive C has no label.\n",
      " Volume Serial Number is 5EC5-227E\n",
      "\n",
      " Directory of C:\\Users\\Toshiba\\Desktop\\corePython\n",
      "\n",
      "08/10/2021  08:12 AM    <DIR>          .\n",
      "08/10/2021  08:12 AM    <DIR>          ..\n",
      "08/10/2021  07:10 AM    <DIR>          .ipynb_checkpoints\n",
      "07/31/2021  10:06 AM             4,512 contorls.ipynb\n",
      "07/29/2021  05:05 PM               477 day-1 note.txt\n",
      "07/27/2021  06:17 PM             5,543 day-1.ipynb\n",
      "08/07/2021  07:37 PM             2,217 day-10.ipynb\n",
      "08/08/2021  05:40 PM             6,146 day-11.ipynb\n",
      "08/09/2021  08:23 AM             1,274 day-12.ipynb\n",
      "08/10/2021  07:17 AM                80 day-12.txt\n",
      "08/10/2021  08:12 AM            10,320 day-13.ipynb\n",
      "07/28/2021  12:35 PM            14,137 day2_list.ipynb\n",
      "07/29/2021  05:44 PM               589 day-3 note.txt\n",
      "07/28/2021  12:13 PM             8,418 day-3.ipynb\n",
      "07/29/2021  05:01 PM            16,256 day-4.ipynb\n",
      "07/30/2021  08:49 AM                60 day-5 notes.txt\n",
      "07/30/2021  08:39 PM             3,892 Day-5.ipynb\n",
      "08/03/2021  08:30 AM               287 day-6 note.txt\n",
      "08/02/2021  10:55 AM            24,610 day-6.ipynb\n",
      "08/03/2021  06:21 AM             7,887 Day-7.1.ipynb\n",
      "08/03/2021  06:20 AM            11,654 day-7.ipynb\n",
      "08/04/2021  07:06 AM             9,699 day-8.ipynb\n",
      "08/04/2021  06:04 PM                81 day-9 note.txt\n",
      "08/08/2021  05:06 PM            14,063 day-9.ipynb\n",
      "08/09/2021  04:58 PM            29,572 decorator-function.ipynb\n",
      "08/09/2021  05:43 PM             4,177 example of decoretor.ipynb\n",
      "08/04/2021  06:22 PM             6,381 level 1 problems.ipynb\n",
      "08/08/2021  05:45 PM            10,801 map-reduce.ipynb\n",
      "08/03/2021  12:20 PM             8,099 map-reduce-filter.ipynb\n",
      "07/31/2021  11:19 AM             3,380 pattern exercise.ipynb\n",
      "08/09/2021  06:12 AM             5,804 prime number.ipynb\n",
      "07/28/2021  12:51 PM             5,037 Untitled.ipynb\n",
      "07/29/2021  05:30 PM            19,267 Untitled1.ipynb\n",
      "              30 File(s)        234,720 bytes\n",
      "               3 Dir(s)  90,937,090,048 bytes free\n"
     ]
    }
   ],
   "source": [
    "ls"
   ]
  },
  {
   "cell_type": "code",
   "execution_count": 54,
   "id": "09180ac7",
   "metadata": {},
   "outputs": [],
   "source": [
    "file = open('text.txt', 'r')"
   ]
  },
  {
   "cell_type": "code",
   "execution_count": 55,
   "id": "89e52994",
   "metadata": {},
   "outputs": [],
   "source": [
    "file = open('text.txt', 'w')"
   ]
  },
  {
   "cell_type": "code",
   "execution_count": 56,
   "id": "49632956",
   "metadata": {},
   "outputs": [
    {
     "name": "stdout",
     "output_type": "stream",
     "text": [
      " Volume in drive C has no label.\n",
      " Volume Serial Number is 5EC5-227E\n",
      "\n",
      " Directory of C:\\Users\\Toshiba\\Desktop\\corePython\n",
      "\n",
      "08/10/2021  08:18 AM    <DIR>          .\n",
      "08/10/2021  08:18 AM    <DIR>          ..\n",
      "08/10/2021  07:10 AM    <DIR>          .ipynb_checkpoints\n",
      "07/31/2021  10:06 AM             4,512 contorls.ipynb\n",
      "07/29/2021  05:05 PM               477 day-1 note.txt\n",
      "07/27/2021  06:17 PM             5,543 day-1.ipynb\n",
      "08/07/2021  07:37 PM             2,217 day-10.ipynb\n",
      "08/08/2021  05:40 PM             6,146 day-11.ipynb\n",
      "08/09/2021  08:23 AM             1,274 day-12.ipynb\n",
      "08/10/2021  07:17 AM                80 day-12.txt\n",
      "08/10/2021  08:18 AM            18,342 day-13.ipynb\n",
      "07/28/2021  12:35 PM            14,137 day2_list.ipynb\n",
      "07/29/2021  05:44 PM               589 day-3 note.txt\n",
      "07/28/2021  12:13 PM             8,418 day-3.ipynb\n",
      "07/29/2021  05:01 PM            16,256 day-4.ipynb\n",
      "07/30/2021  08:49 AM                60 day-5 notes.txt\n",
      "07/30/2021  08:39 PM             3,892 Day-5.ipynb\n",
      "08/03/2021  08:30 AM               287 day-6 note.txt\n",
      "08/02/2021  10:55 AM            24,610 day-6.ipynb\n",
      "08/03/2021  06:21 AM             7,887 Day-7.1.ipynb\n",
      "08/03/2021  06:20 AM            11,654 day-7.ipynb\n",
      "08/04/2021  07:06 AM             9,699 day-8.ipynb\n",
      "08/04/2021  06:04 PM                81 day-9 note.txt\n",
      "08/08/2021  05:06 PM            14,063 day-9.ipynb\n",
      "08/09/2021  04:58 PM            29,572 decorator-function.ipynb\n",
      "08/09/2021  05:43 PM             4,177 example of decoretor.ipynb\n",
      "08/04/2021  06:22 PM             6,381 level 1 problems.ipynb\n",
      "08/08/2021  05:45 PM            10,801 map-reduce.ipynb\n",
      "08/03/2021  12:20 PM             8,099 map-reduce-filter.ipynb\n",
      "07/31/2021  11:19 AM             3,380 pattern exercise.ipynb\n",
      "08/09/2021  06:12 AM             5,804 prime number.ipynb\n",
      "08/10/2021  08:19 AM                 0 text.txt\n",
      "07/28/2021  12:51 PM             5,037 Untitled.ipynb\n",
      "07/29/2021  05:30 PM            19,267 Untitled1.ipynb\n",
      "              31 File(s)        242,742 bytes\n",
      "               3 Dir(s)  90,936,094,720 bytes free\n"
     ]
    }
   ],
   "source": [
    "ls"
   ]
  },
  {
   "cell_type": "code",
   "execution_count": 57,
   "id": "fd49248c",
   "metadata": {},
   "outputs": [
    {
     "data": {
      "text/plain": [
       "11"
      ]
     },
     "execution_count": 57,
     "metadata": {},
     "output_type": "execute_result"
    }
   ],
   "source": [
    "file.write('1.line one\\n')"
   ]
  },
  {
   "cell_type": "code",
   "execution_count": 58,
   "id": "35db08a6",
   "metadata": {},
   "outputs": [],
   "source": [
    "file.close() # to save the file"
   ]
  },
  {
   "cell_type": "code",
   "execution_count": 61,
   "id": "aa99dcab",
   "metadata": {},
   "outputs": [],
   "source": [
    "file = open('text.txt', 'r')"
   ]
  },
  {
   "cell_type": "code",
   "execution_count": 62,
   "id": "b55b3788",
   "metadata": {},
   "outputs": [
    {
     "data": {
      "text/plain": [
       "0"
      ]
     },
     "execution_count": 62,
     "metadata": {},
     "output_type": "execute_result"
    }
   ],
   "source": [
    "file.tell()"
   ]
  },
  {
   "cell_type": "code",
   "execution_count": 63,
   "id": "ad84d712",
   "metadata": {},
   "outputs": [
    {
     "data": {
      "text/plain": [
       "'1.line one\\n'"
      ]
     },
     "execution_count": 63,
     "metadata": {},
     "output_type": "execute_result"
    }
   ],
   "source": [
    "file.read()"
   ]
  },
  {
   "cell_type": "code",
   "execution_count": 64,
   "id": "917f6fcc",
   "metadata": {},
   "outputs": [
    {
     "name": "stdout",
     "output_type": "stream",
     "text": [
      "\n"
     ]
    }
   ],
   "source": [
    "print(file.read())"
   ]
  },
  {
   "cell_type": "code",
   "execution_count": 65,
   "id": "afa016cb",
   "metadata": {},
   "outputs": [],
   "source": [
    "file.flush()"
   ]
  },
  {
   "cell_type": "code",
   "execution_count": 66,
   "id": "727d10ab",
   "metadata": {},
   "outputs": [
    {
     "data": {
      "text/plain": [
       "0"
      ]
     },
     "execution_count": 66,
     "metadata": {},
     "output_type": "execute_result"
    }
   ],
   "source": [
    "file.seek(0)"
   ]
  },
  {
   "cell_type": "code",
   "execution_count": 69,
   "id": "851751c3",
   "metadata": {},
   "outputs": [],
   "source": [
    "file = open('text.txt', 'r')"
   ]
  },
  {
   "cell_type": "code",
   "execution_count": 70,
   "id": "fb84cc04",
   "metadata": {},
   "outputs": [],
   "source": [
    "lists = ['1. thi is test']"
   ]
  },
  {
   "cell_type": "code",
   "execution_count": 71,
   "id": "c13b4ae3",
   "metadata": {},
   "outputs": [
    {
     "ename": "UnsupportedOperation",
     "evalue": "not writable",
     "output_type": "error",
     "traceback": [
      "\u001b[1;31m---------------------------------------------------------------------------\u001b[0m",
      "\u001b[1;31mUnsupportedOperation\u001b[0m                      Traceback (most recent call last)",
      "\u001b[1;32m<ipython-input-71-38b4ee51d1f0>\u001b[0m in \u001b[0;36m<module>\u001b[1;34m\u001b[0m\n\u001b[1;32m----> 1\u001b[1;33m \u001b[0mfile\u001b[0m\u001b[1;33m.\u001b[0m\u001b[0mwritelines\u001b[0m\u001b[1;33m(\u001b[0m\u001b[0mlists\u001b[0m\u001b[1;33m)\u001b[0m\u001b[1;33m\u001b[0m\u001b[1;33m\u001b[0m\u001b[0m\n\u001b[0m",
      "\u001b[1;31mUnsupportedOperation\u001b[0m: not writable"
     ]
    }
   ],
   "source": [
    "file.writelines(lists)"
   ]
  },
  {
   "cell_type": "code",
   "execution_count": 72,
   "id": "b4a9b33c",
   "metadata": {},
   "outputs": [],
   "source": [
    "with open ('text.txt', 'a') as file:\n",
    "    file.write('\\n6. line two')"
   ]
  },
  {
   "cell_type": "code",
   "execution_count": 73,
   "id": "3f709c82",
   "metadata": {},
   "outputs": [
    {
     "ename": "ValueError",
     "evalue": "I/O operation on closed file.",
     "output_type": "error",
     "traceback": [
      "\u001b[1;31m---------------------------------------------------------------------------\u001b[0m",
      "\u001b[1;31mValueError\u001b[0m                                Traceback (most recent call last)",
      "\u001b[1;32m<ipython-input-73-f3fc120c03c1>\u001b[0m in \u001b[0;36m<module>\u001b[1;34m\u001b[0m\n\u001b[1;32m----> 1\u001b[1;33m \u001b[0mfile\u001b[0m\u001b[1;33m.\u001b[0m\u001b[0mread\u001b[0m\u001b[1;33m(\u001b[0m\u001b[1;33m)\u001b[0m\u001b[1;33m\u001b[0m\u001b[1;33m\u001b[0m\u001b[0m\n\u001b[0m",
      "\u001b[1;31mValueError\u001b[0m: I/O operation on closed file."
     ]
    }
   ],
   "source": [
    "file.read()"
   ]
  },
  {
   "cell_type": "code",
   "execution_count": 74,
   "id": "d45abd8d",
   "metadata": {},
   "outputs": [],
   "source": [
    "# context manager: do research"
   ]
  },
  {
   "cell_type": "code",
   "execution_count": 76,
   "id": "103be3eb",
   "metadata": {},
   "outputs": [],
   "source": [
    "file = open('text.txt', 'r')"
   ]
  },
  {
   "cell_type": "code",
   "execution_count": 77,
   "id": "be5b1358",
   "metadata": {},
   "outputs": [
    {
     "data": {
      "text/plain": [
       "['1.line one\\n', '\\n', '6. line two']"
      ]
     },
     "execution_count": 77,
     "metadata": {},
     "output_type": "execute_result"
    }
   ],
   "source": [
    "file.readlines()"
   ]
  },
  {
   "cell_type": "code",
   "execution_count": 79,
   "id": "1f9960b5",
   "metadata": {},
   "outputs": [],
   "source": [
    "# log.txt file \n",
    "#banauney\n",
    "#loop lagauney"
   ]
  },
  {
   "cell_type": "code",
   "execution_count": 26,
   "id": "26b03ce3",
   "metadata": {},
   "outputs": [],
   "source": [
    "with open('para.txt', 'w') as file:\n",
    "    file.write('I love python. Lorem Ipsum is simply dummy text of the printing and typesetting industry, Lorem Ipsum has been the industry standard dummy text ever since the 1500s, when an unknown printer took a galley of type and scrambled it to make a type specimen book. It has survived not only five centuries, but also the leap into electronic typesetting, remaining essentially unchanged. It was popularised in the 1960s with the release of Letraset sheets containing Lorem Ipsum passages, and more recently with desktop publishing software like Aldus PageMaker including versions of Lorem Ipsum.')"
   ]
  },
  {
   "cell_type": "code",
   "execution_count": 27,
   "id": "d35a474a",
   "metadata": {},
   "outputs": [
    {
     "name": "stdout",
     "output_type": "stream",
     "text": [
      " Volume in drive C has no label.\n",
      " Volume Serial Number is 5EC5-227E\n",
      "\n",
      " Directory of C:\\Users\\Toshiba\\Desktop\\corePython\n",
      "\n",
      "08/11/2021  02:43 PM    <DIR>          .\n",
      "08/11/2021  02:43 PM    <DIR>          ..\n",
      "08/11/2021  07:08 AM    <DIR>          .ipynb_checkpoints\n",
      "08/11/2021  07:26 AM                58 colleges.csv\n",
      "08/11/2021  07:30 AM                80 colleges_1.csv\n",
      "08/11/2021  07:34 AM                 0 colleges_2.csv\n",
      "08/11/2021  12:50 PM                 0 colleges_3.csv\n",
      "07/31/2021  10:06 AM             4,512 contorls.ipynb\n",
      "07/29/2021  05:05 PM               477 day-1 note.txt\n",
      "07/27/2021  06:17 PM             5,543 day-1.ipynb\n",
      "08/07/2021  07:37 PM             2,217 day-10.ipynb\n",
      "08/08/2021  05:40 PM             6,146 day-11.ipynb\n",
      "08/09/2021  08:23 AM             1,274 day-12.ipynb\n",
      "08/10/2021  07:17 AM                80 day-12.txt\n",
      "08/11/2021  02:43 PM            22,155 day-13.ipynb\n",
      "08/11/2021  12:50 PM            10,544 day-14.ipynb\n",
      "07/28/2021  12:35 PM            14,137 day2_list.ipynb\n",
      "07/29/2021  05:44 PM               589 day-3 note.txt\n",
      "07/28/2021  12:13 PM             8,418 day-3.ipynb\n",
      "07/29/2021  05:01 PM            16,256 day-4.ipynb\n",
      "07/30/2021  08:49 AM                60 day-5 notes.txt\n",
      "07/30/2021  08:39 PM             3,892 Day-5.ipynb\n",
      "08/03/2021  08:30 AM               287 day-6 note.txt\n",
      "08/02/2021  10:55 AM            24,610 day-6.ipynb\n",
      "08/03/2021  06:21 AM             7,887 Day-7.1.ipynb\n",
      "08/03/2021  06:20 AM            11,654 day-7.ipynb\n",
      "08/04/2021  07:06 AM             9,699 day-8.ipynb\n",
      "08/04/2021  06:04 PM                81 day-9 note.txt\n",
      "08/08/2021  05:06 PM            14,063 day-9.ipynb\n",
      "08/09/2021  04:58 PM            29,572 decorator-function.ipynb\n",
      "08/09/2021  05:43 PM             4,177 example of decoretor.ipynb\n",
      "08/04/2021  06:22 PM             6,381 level 1 problems.ipynb\n",
      "08/08/2021  05:45 PM            10,801 map-reduce.ipynb\n",
      "08/03/2021  12:20 PM             8,099 map-reduce-filter.ipynb\n",
      "08/11/2021  02:43 PM               587 para.txt\n",
      "07/31/2021  11:19 AM             3,380 pattern exercise.ipynb\n",
      "08/09/2021  06:12 AM             5,804 prime number.ipynb\n",
      "08/10/2021  08:25 AM                25 text.txt\n",
      "07/28/2021  12:51 PM             5,037 Untitled.ipynb\n",
      "07/29/2021  05:30 PM            19,267 Untitled1.ipynb\n",
      "              37 File(s)        257,849 bytes\n",
      "               3 Dir(s)  91,019,464,704 bytes free\n"
     ]
    }
   ],
   "source": [
    "ls\n"
   ]
  },
  {
   "cell_type": "code",
   "execution_count": 28,
   "id": "fc9c631e",
   "metadata": {},
   "outputs": [],
   "source": [
    "file = open('para.txt', 'r')"
   ]
  },
  {
   "cell_type": "code",
   "execution_count": 30,
   "id": "b92f0c49",
   "metadata": {},
   "outputs": [
    {
     "name": "stdout",
     "output_type": "stream",
     "text": [
      "I love python. Lorem Ipsum is simply dummy text of the printing and typesetting industry, Lorem Ipsum has been the industry standard dummy text ever since the 1500s, when an unknown printer took a galley of type and scrambled it to make a type specimen book. It has survived not only five centuries, but also the leap into electronic typesetting, remaining essentially unchanged. It was popularised in the 1960s with the release of Letraset sheets containing Lorem Ipsum passages, and more recently with desktop publishing software like Aldus PageMaker including versions of Lorem Ipsum.\n"
     ]
    }
   ],
   "source": [
    "for read in file:\n",
    "    print(read)"
   ]
  },
  {
   "cell_type": "code",
   "execution_count": 35,
   "id": "f9646c70",
   "metadata": {},
   "outputs": [],
   "source": [
    "file= open('para.txt', 'a')\n",
    "file.write('python has a big libiries so i love python')\n",
    "file.close()"
   ]
  },
  {
   "cell_type": "code",
   "execution_count": 36,
   "id": "40039748",
   "metadata": {},
   "outputs": [],
   "source": [
    "file=open('para.txt')"
   ]
  },
  {
   "cell_type": "code",
   "execution_count": 37,
   "id": "8d33abd0",
   "metadata": {},
   "outputs": [
    {
     "name": "stdout",
     "output_type": "stream",
     "text": [
      "I love python. Lorem Ipsum is simply dummy text of the printing and typesetting industry, Lorem Ipsum has been the industry standard dummy text ever since the 1500s, when an unknown printer took a galley of type and scrambled it to make a type specimen book. It has survived not only five centuries, but also the leap into electronic typesetting, remaining essentially unchanged. It was popularised in the 1960s with the release of Letraset sheets containing Lorem Ipsum passages, and more recently with desktop publishing software like Aldus PageMaker including versions of Lorem Ipsum.python has a big libiries so i love pythonpython has a big libiries so i love python\n"
     ]
    }
   ],
   "source": [
    "for read in file:\n",
    "    print(read)"
   ]
  },
  {
   "cell_type": "code",
   "execution_count": 38,
   "id": "3562e832",
   "metadata": {},
   "outputs": [
    {
     "name": "stdout",
     "output_type": "stream",
     "text": [
      "['I', 'love', 'python.', 'Lorem', 'Ipsum', 'is', 'simply', 'dummy', 'text', 'of', 'the', 'printing', 'and', 'typesetting', 'industry,', 'Lorem', 'Ipsum', 'has', 'been', 'the', 'industry', 'standard', 'dummy', 'text', 'ever', 'since', 'the', '1500s,', 'when', 'an', 'unknown', 'printer', 'took', 'a', 'galley', 'of', 'type', 'and', 'scrambled', 'it', 'to', 'make', 'a', 'type', 'specimen', 'book.', 'It', 'has', 'survived', 'not', 'only', 'five', 'centuries,', 'but', 'also', 'the', 'leap', 'into', 'electronic', 'typesetting,', 'remaining', 'essentially', 'unchanged.', 'It', 'was', 'popularised', 'in', 'the', '1960s', 'with', 'the', 'release', 'of', 'Letraset', 'sheets', 'containing', 'Lorem', 'Ipsum', 'passages,', 'and', 'more', 'recently', 'with', 'desktop', 'publishing', 'software', 'like', 'Aldus', 'PageMaker', 'including', 'versions', 'of', 'Lorem', 'Ipsum.python', 'has', 'a', 'big', 'libiries', 'so', 'i', 'love', 'pythonpython', 'has', 'a', 'big', 'libiries', 'so', 'i', 'love', 'python']\n"
     ]
    }
   ],
   "source": [
    "with open(\"para.txt\", \"r\") as file:\n",
    "    data = file.readlines()\n",
    "    for line in data:\n",
    "        word = line.split()\n",
    "        print (word)"
   ]
  },
  {
   "cell_type": "code",
   "execution_count": 116,
   "id": "1675a3c3",
   "metadata": {},
   "outputs": [],
   "source": [
    "from datetime import datetime\n",
    "word = \"word\"\n",
    "with open('para.txt', 'r') as reader:\n",
    "    # Note: readlines doesn't trim the line endings\n",
    "    data = reader.readlines()\n",
    "    log_time = datetime.now()\n",
    "\n",
    "with open('logfile.txt', 'w') as writer:\n",
    "    for i in data:\n",
    "        if word in i:\n",
    "            writer.write(word, log_time)\n",
    "            print(word, log_time)"
   ]
  },
  {
   "cell_type": "code",
   "execution_count": 98,
   "id": "48c2c63d",
   "metadata": {},
   "outputs": [
    {
     "name": "stdout",
     "output_type": "stream",
     "text": [
      " Volume in drive C has no label.\n",
      " Volume Serial Number is 5EC5-227E\n",
      "\n",
      " Directory of C:\\Users\\Toshiba\\Desktop\\corePython\n",
      "\n",
      "08/11/2021  03:47 PM    <DIR>          .\n",
      "08/11/2021  03:47 PM    <DIR>          ..\n",
      "08/11/2021  07:08 AM    <DIR>          .ipynb_checkpoints\n",
      "08/11/2021  07:26 AM                58 colleges.csv\n",
      "08/11/2021  07:30 AM                80 colleges_1.csv\n",
      "08/11/2021  07:34 AM                 0 colleges_2.csv\n",
      "08/11/2021  12:50 PM                 0 colleges_3.csv\n",
      "07/31/2021  10:06 AM             4,512 contorls.ipynb\n",
      "07/29/2021  05:05 PM               477 day-1 note.txt\n",
      "07/27/2021  06:17 PM             5,543 day-1.ipynb\n",
      "08/07/2021  07:37 PM             2,217 day-10.ipynb\n",
      "08/08/2021  05:40 PM             6,146 day-11.ipynb\n",
      "08/09/2021  08:23 AM             1,274 day-12.ipynb\n",
      "08/10/2021  07:17 AM                80 day-12.txt\n",
      "08/11/2021  03:47 PM            33,688 day-13.ipynb\n",
      "08/11/2021  12:50 PM            10,544 day-14.ipynb\n",
      "07/28/2021  12:35 PM            14,137 day2_list.ipynb\n",
      "07/29/2021  05:44 PM               589 day-3 note.txt\n",
      "07/28/2021  12:13 PM             8,418 day-3.ipynb\n",
      "07/29/2021  05:01 PM            16,256 day-4.ipynb\n",
      "07/30/2021  08:49 AM                60 day-5 notes.txt\n",
      "07/30/2021  08:39 PM             3,892 Day-5.ipynb\n",
      "08/03/2021  08:30 AM               287 day-6 note.txt\n",
      "08/02/2021  10:55 AM            24,610 day-6.ipynb\n",
      "08/03/2021  06:21 AM             7,887 Day-7.1.ipynb\n",
      "08/03/2021  06:20 AM            11,654 day-7.ipynb\n",
      "08/04/2021  07:06 AM             9,699 day-8.ipynb\n",
      "08/04/2021  06:04 PM                81 day-9 note.txt\n",
      "08/08/2021  05:06 PM            14,063 day-9.ipynb\n",
      "08/09/2021  04:58 PM            29,572 decorator-function.ipynb\n",
      "08/09/2021  05:43 PM             4,177 example of decoretor.ipynb\n",
      "08/04/2021  06:22 PM             6,381 level 1 problems.ipynb\n",
      "08/11/2021  03:14 PM                12 log_love.txt\n",
      "08/11/2021  03:48 PM                 0 logfile.txt\n",
      "08/08/2021  05:45 PM            10,801 map-reduce.ipynb\n",
      "08/03/2021  12:20 PM             8,099 map-reduce-filter.ipynb\n",
      "08/11/2021  02:54 PM               671 para.txt\n",
      "07/31/2021  11:19 AM             3,380 pattern exercise.ipynb\n",
      "08/09/2021  06:12 AM             5,804 prime number.ipynb\n",
      "08/10/2021  08:25 AM                25 text.txt\n",
      "07/28/2021  12:51 PM             5,037 Untitled.ipynb\n",
      "07/29/2021  05:30 PM            19,267 Untitled1.ipynb\n",
      "              39 File(s)        269,478 bytes\n",
      "               3 Dir(s)  90,990,907,392 bytes free\n"
     ]
    }
   ],
   "source": [
    "ls"
   ]
  },
  {
   "cell_type": "code",
   "execution_count": 68,
   "id": "8d177ba4",
   "metadata": {},
   "outputs": [
    {
     "name": "stdout",
     "output_type": "stream",
     "text": [
      " Volume in drive C has no label.\n",
      " Volume Serial Number is 5EC5-227E\n",
      "\n",
      " Directory of C:\\Users\\Toshiba\\Desktop\\corePython\n",
      "\n",
      "08/11/2021  03:07 PM    <DIR>          .\n",
      "08/11/2021  03:07 PM    <DIR>          ..\n",
      "08/11/2021  07:08 AM    <DIR>          .ipynb_checkpoints\n",
      "08/11/2021  07:26 AM                58 colleges.csv\n",
      "08/11/2021  07:30 AM                80 colleges_1.csv\n",
      "08/11/2021  07:34 AM                 0 colleges_2.csv\n",
      "08/11/2021  12:50 PM                 0 colleges_3.csv\n",
      "07/31/2021  10:06 AM             4,512 contorls.ipynb\n",
      "07/29/2021  05:05 PM               477 day-1 note.txt\n",
      "07/27/2021  06:17 PM             5,543 day-1.ipynb\n",
      "08/07/2021  07:37 PM             2,217 day-10.ipynb\n",
      "08/08/2021  05:40 PM             6,146 day-11.ipynb\n",
      "08/09/2021  08:23 AM             1,274 day-12.ipynb\n",
      "08/10/2021  07:17 AM                80 day-12.txt\n",
      "08/11/2021  03:07 PM            33,316 day-13.ipynb\n",
      "08/11/2021  12:50 PM            10,544 day-14.ipynb\n",
      "07/28/2021  12:35 PM            14,137 day2_list.ipynb\n",
      "07/29/2021  05:44 PM               589 day-3 note.txt\n",
      "07/28/2021  12:13 PM             8,418 day-3.ipynb\n",
      "07/29/2021  05:01 PM            16,256 day-4.ipynb\n",
      "07/30/2021  08:49 AM                60 day-5 notes.txt\n",
      "07/30/2021  08:39 PM             3,892 Day-5.ipynb\n",
      "08/03/2021  08:30 AM               287 day-6 note.txt\n",
      "08/02/2021  10:55 AM            24,610 day-6.ipynb\n",
      "08/03/2021  06:21 AM             7,887 Day-7.1.ipynb\n",
      "08/03/2021  06:20 AM            11,654 day-7.ipynb\n",
      "08/04/2021  07:06 AM             9,699 day-8.ipynb\n",
      "08/04/2021  06:04 PM                81 day-9 note.txt\n",
      "08/08/2021  05:06 PM            14,063 day-9.ipynb\n",
      "08/09/2021  04:58 PM            29,572 decorator-function.ipynb\n",
      "08/09/2021  05:43 PM             4,177 example of decoretor.ipynb\n",
      "08/04/2021  06:22 PM             6,381 level 1 problems.ipynb\n",
      "08/11/2021  03:07 PM                 8 log_love.txt\n",
      "08/08/2021  05:45 PM            10,801 map-reduce.ipynb\n",
      "08/03/2021  12:20 PM             8,099 map-reduce-filter.ipynb\n",
      "08/11/2021  02:54 PM               671 para.txt\n",
      "07/31/2021  11:19 AM             3,380 pattern exercise.ipynb\n",
      "08/09/2021  06:12 AM             5,804 prime number.ipynb\n",
      "08/10/2021  08:25 AM                25 text.txt\n",
      "07/28/2021  12:51 PM             5,037 Untitled.ipynb\n",
      "07/29/2021  05:30 PM            19,267 Untitled1.ipynb\n",
      "              38 File(s)        269,102 bytes\n",
      "               3 Dir(s)  90,990,694,400 bytes free\n"
     ]
    }
   ],
   "source": [
    "ls"
   ]
  },
  {
   "cell_type": "code",
   "execution_count": 69,
   "id": "6781aa78",
   "metadata": {},
   "outputs": [],
   "source": [
    "logfile = open('log_love.txt', 'r')"
   ]
  },
  {
   "cell_type": "code",
   "execution_count": 70,
   "id": "1a1432de",
   "metadata": {},
   "outputs": [
    {
     "name": "stdout",
     "output_type": "stream",
     "text": [
      "lovename\n"
     ]
    }
   ],
   "source": [
    "for log in logfile:\n",
    "    print(log)"
   ]
  },
  {
   "cell_type": "code",
   "execution_count": 115,
   "id": "e06ba058",
   "metadata": {},
   "outputs": [
    {
     "name": "stdout",
     "output_type": "stream",
     "text": [
      "2021-08-11 15:59:54.676733\n"
     ]
    }
   ],
   "source": [
    "from datetime import datetime\n",
    "\n",
    "now = datetime.now()\n",
    "print(now)"
   ]
  },
  {
   "cell_type": "code",
   "execution_count": 161,
   "id": "080511fe",
   "metadata": {},
   "outputs": [],
   "source": [
    "from datetime import datetime\n",
    "\n",
    "with open('para.txt', 'r') as reader:\n",
    "    # Note: readlines doesn't trim the line endings\n",
    "    data = reader.readlines()\n",
    "    word = \"love\"\n",
    "    log_time = datetime.now()\n",
    "\n",
    "with open('logfile.txt', 'w') as writer:\n",
    "    for i in data:\n",
    "        if word in i:\n",
    "            writer.write(word)\n",
    "            writer.write(f\"\\n {log_time}\")"
   ]
  },
  {
   "cell_type": "code",
   "execution_count": 154,
   "id": "ad8bd202",
   "metadata": {},
   "outputs": [
    {
     "name": "stdout",
     "output_type": "stream",
     "text": [
      "love 2021-08-11 16:19:43.799643\n"
     ]
    }
   ],
   "source": [
    "print(word, log_time)"
   ]
  },
  {
   "cell_type": "code",
   "execution_count": 147,
   "id": "956b57fe",
   "metadata": {},
   "outputs": [
    {
     "name": "stdout",
     "output_type": "stream",
     "text": [
      "3\n"
     ]
    }
   ],
   "source": [
    "result = i.count(word)\n",
    "print(result)"
   ]
  },
  {
   "cell_type": "code",
   "execution_count": 150,
   "id": "93f44ec6",
   "metadata": {},
   "outputs": [
    {
     "name": "stdout",
     "output_type": "stream",
     "text": [
      "b\n",
      "b\n",
      "b\n"
     ]
    }
   ],
   "source": [
    "s = \"abababa\"\n",
    "b=\"b\"\n",
    "for i in s:\n",
    "    if b in i:\n",
    "        print(b)"
   ]
  },
  {
   "cell_type": "code",
   "execution_count": null,
   "id": "891eef7c",
   "metadata": {},
   "outputs": [],
   "source": []
  }
 ],
 "metadata": {
  "kernelspec": {
   "display_name": "Python 3",
   "language": "python",
   "name": "python3"
  },
  "language_info": {
   "codemirror_mode": {
    "name": "ipython",
    "version": 3
   },
   "file_extension": ".py",
   "mimetype": "text/x-python",
   "name": "python",
   "nbconvert_exporter": "python",
   "pygments_lexer": "ipython3",
   "version": "3.8.8"
  }
 },
 "nbformat": 4,
 "nbformat_minor": 5
}
