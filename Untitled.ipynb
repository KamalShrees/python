{
 "cells": [
  {
   "cell_type": "code",
   "execution_count": 12,
   "id": "17341d40",
   "metadata": {},
   "outputs": [],
   "source": [
    "ht = \"i love python\""
   ]
  },
  {
   "cell_type": "code",
   "execution_count": 20,
   "id": "a96abb58",
   "metadata": {},
   "outputs": [],
   "source": [
    "b=ht.split()"
   ]
  },
  {
   "cell_type": "code",
   "execution_count": 21,
   "id": "f9b05054",
   "metadata": {},
   "outputs": [
    {
     "data": {
      "text/plain": [
       "['i', 'love', 'python']"
      ]
     },
     "execution_count": 21,
     "metadata": {},
     "output_type": "execute_result"
    }
   ],
   "source": [
    "b"
   ]
  },
  {
   "cell_type": "code",
   "execution_count": 25,
   "id": "bb0fa0ef",
   "metadata": {},
   "outputs": [
    {
     "data": {
      "text/plain": [
       "'e'"
      ]
     },
     "execution_count": 25,
     "metadata": {},
     "output_type": "execute_result"
    }
   ],
   "source": [
    "ht[5]"
   ]
  },
  {
   "cell_type": "code",
   "execution_count": 28,
   "id": "ba861788",
   "metadata": {},
   "outputs": [
    {
     "data": {
      "text/plain": [
       "'nohtyp evol i'"
      ]
     },
     "execution_count": 28,
     "metadata": {},
     "output_type": "execute_result"
    }
   ],
   "source": [
    "ht[-1::-1]"
   ]
  },
  {
   "cell_type": "code",
   "execution_count": 29,
   "id": "aacd1eb6",
   "metadata": {},
   "outputs": [
    {
     "data": {
      "text/plain": [
       "'nhy vli'"
      ]
     },
     "execution_count": 29,
     "metadata": {},
     "output_type": "execute_result"
    }
   ],
   "source": [
    "ht[-1::-2]"
   ]
  },
  {
   "cell_type": "code",
   "execution_count": 30,
   "id": "3473769a",
   "metadata": {},
   "outputs": [
    {
     "data": {
      "text/plain": [
       "'i love python'"
      ]
     },
     "execution_count": 30,
     "metadata": {},
     "output_type": "execute_result"
    }
   ],
   "source": [
    "ht"
   ]
  },
  {
   "cell_type": "code",
   "execution_count": 36,
   "id": "9de8b69c",
   "metadata": {},
   "outputs": [
    {
     "data": {
      "text/plain": [
       "'ilv yhn'"
      ]
     },
     "execution_count": 36,
     "metadata": {},
     "output_type": "execute_result"
    }
   ],
   "source": [
    "ht[0:15:2]"
   ]
  },
  {
   "cell_type": "code",
   "execution_count": 37,
   "id": "51b69090",
   "metadata": {},
   "outputs": [
    {
     "data": {
      "text/plain": [
       "'i love python'"
      ]
     },
     "execution_count": 37,
     "metadata": {},
     "output_type": "execute_result"
    }
   ],
   "source": [
    "ht[0::1]"
   ]
  },
  {
   "cell_type": "code",
   "execution_count": 38,
   "id": "601254f1",
   "metadata": {},
   "outputs": [
    {
     "data": {
      "text/plain": [
       "'ilv yhn'"
      ]
     },
     "execution_count": 38,
     "metadata": {},
     "output_type": "execute_result"
    }
   ],
   "source": [
    "ht[0::2]"
   ]
  },
  {
   "cell_type": "code",
   "execution_count": 60,
   "id": "37ebf616",
   "metadata": {},
   "outputs": [],
   "source": [
    "test = [1,2,3,4,8,5,7,2,9,12,10,2]"
   ]
  },
  {
   "cell_type": "code",
   "execution_count": 66,
   "id": "12bb77ad",
   "metadata": {},
   "outputs": [
    {
     "data": {
      "text/plain": [
       "1"
      ]
     },
     "execution_count": 66,
     "metadata": {},
     "output_type": "execute_result"
    }
   ],
   "source": [
    "test.index(2)"
   ]
  },
  {
   "cell_type": "code",
   "execution_count": 69,
   "id": "40a1b5ce",
   "metadata": {},
   "outputs": [
    {
     "data": {
      "text/plain": [
       "7"
      ]
     },
     "execution_count": 69,
     "metadata": {},
     "output_type": "execute_result"
    }
   ],
   "source": [
    "test.index(2, test.index(2)+1)"
   ]
  },
  {
   "cell_type": "code",
   "execution_count": 70,
   "id": "86c1d5a6",
   "metadata": {},
   "outputs": [
    {
     "data": {
      "text/plain": [
       "[1, 2, 3, 4, 8, 5, 7, 2, 9, 12, 10, 2]"
      ]
     },
     "execution_count": 70,
     "metadata": {},
     "output_type": "execute_result"
    }
   ],
   "source": [
    "test"
   ]
  },
  {
   "cell_type": "code",
   "execution_count": 73,
   "id": "4169a50b",
   "metadata": {},
   "outputs": [
    {
     "data": {
      "text/plain": [
       "3"
      ]
     },
     "execution_count": 73,
     "metadata": {},
     "output_type": "execute_result"
    }
   ],
   "source": [
    "test.count(2)"
   ]
  },
  {
   "cell_type": "code",
   "execution_count": null,
   "id": "0026967f",
   "metadata": {},
   "outputs": [],
   "source": []
  }
 ],
 "metadata": {
  "kernelspec": {
   "display_name": "Python 3",
   "language": "python",
   "name": "python3"
  },
  "language_info": {
   "codemirror_mode": {
    "name": "ipython",
    "version": 3
   },
   "file_extension": ".py",
   "mimetype": "text/x-python",
   "name": "python",
   "nbconvert_exporter": "python",
   "pygments_lexer": "ipython3",
   "version": "3.8.8"
  }
 },
 "nbformat": 4,
 "nbformat_minor": 5
}
