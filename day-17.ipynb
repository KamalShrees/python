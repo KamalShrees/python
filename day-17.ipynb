{
 "cells": [
  {
   "cell_type": "markdown",
   "id": "301b8ef6",
   "metadata": {},
   "source": [
    "# Descriptor"
   ]
  },
  {
   "cell_type": "code",
   "execution_count": 2,
   "id": "58a6b3da",
   "metadata": {},
   "outputs": [],
   "source": [
    "# get, set, del\n",
    "# get - non dada descr\n",
    "# set, del - data descr"
   ]
  },
  {
   "cell_type": "code",
   "execution_count": 3,
   "id": "6f8d15e5",
   "metadata": {},
   "outputs": [],
   "source": [
    "class String:\n",
    "    def __init__(self, name=''):\n",
    "        self.name = name\n",
    "    def __get__(self, obj, objtype):\n",
    "        return f\" {self.name}\"\n",
    "    def __set__(self, obj, name):\n",
    "        if not isinstance(name, str):\n",
    "            raise ValueError(\"Value must be string\")\n",
    "        self.name = name\n",
    "    def __delete__(self):\n",
    "        raise AttributeError(f\"value cant be removed\")"
   ]
  },
  {
   "cell_type": "code",
   "execution_count": 4,
   "id": "4daeaf97",
   "metadata": {},
   "outputs": [],
   "source": [
    "name = String()"
   ]
  },
  {
   "cell_type": "code",
   "execution_count": 5,
   "id": "174eb9b6",
   "metadata": {},
   "outputs": [
    {
     "data": {
      "text/plain": [
       "<__main__.String at 0x1f4b03b6070>"
      ]
     },
     "execution_count": 5,
     "metadata": {},
     "output_type": "execute_result"
    }
   ],
   "source": [
    "name"
   ]
  },
  {
   "cell_type": "code",
   "execution_count": 6,
   "id": "8021c04b",
   "metadata": {},
   "outputs": [],
   "source": [
    "class Profile:\n",
    "    name = String(name = 'python')\n",
    "    age = 22"
   ]
  },
  {
   "cell_type": "code",
   "execution_count": 7,
   "id": "83137108",
   "metadata": {},
   "outputs": [],
   "source": [
    "p = Profile()"
   ]
  },
  {
   "cell_type": "code",
   "execution_count": 8,
   "id": "64396a5d",
   "metadata": {},
   "outputs": [
    {
     "data": {
      "text/plain": [
       "' python'"
      ]
     },
     "execution_count": 8,
     "metadata": {},
     "output_type": "execute_result"
    }
   ],
   "source": [
    "p.name"
   ]
  },
  {
   "cell_type": "code",
   "execution_count": 9,
   "id": "914aeef9",
   "metadata": {},
   "outputs": [
    {
     "data": {
      "text/plain": [
       "22"
      ]
     },
     "execution_count": 9,
     "metadata": {},
     "output_type": "execute_result"
    }
   ],
   "source": [
    "p.age"
   ]
  },
  {
   "cell_type": "code",
   "execution_count": 10,
   "id": "b929932c",
   "metadata": {},
   "outputs": [],
   "source": [
    "class Profile:\n",
    "    first_name = String()\n",
    "    last_name = String()\n",
    "    age = ()\n",
    "    @property # builtin descriptor and works like get\n",
    "    def full_name(self):\n",
    "        return f\"{self.first_name} {self.last_name}\".title()\n",
    "    "
   ]
  },
  {
   "cell_type": "code",
   "execution_count": 11,
   "id": "8a93fa99",
   "metadata": {},
   "outputs": [],
   "source": [
    "p= Profile()\n"
   ]
  },
  {
   "cell_type": "code",
   "execution_count": 12,
   "id": "dfa0083b",
   "metadata": {},
   "outputs": [],
   "source": [
    "p.first_name = \"Hari\""
   ]
  },
  {
   "cell_type": "code",
   "execution_count": 13,
   "id": "37669efb",
   "metadata": {},
   "outputs": [],
   "source": [
    "p.last_name = \"Nepal\""
   ]
  },
  {
   "cell_type": "code",
   "execution_count": 14,
   "id": "bd69407a",
   "metadata": {},
   "outputs": [
    {
     "data": {
      "text/plain": [
       "' Hari  Nepal'"
      ]
     },
     "execution_count": 14,
     "metadata": {},
     "output_type": "execute_result"
    }
   ],
   "source": [
    "p.full_name"
   ]
  },
  {
   "cell_type": "code",
   "execution_count": 15,
   "id": "90dece3c",
   "metadata": {},
   "outputs": [],
   "source": [
    "class Integer:\n",
    "    def __init__(self, num):\n",
    "        self._num =num\n",
    "    @property\n",
    "    def num(self):\n",
    "        return slef._num\n",
    "    @num.setter\n",
    "    def num(self, value):\n",
    "        if not isinstance(value, int):\n",
    "            raise ValueError(\"Value must be number\")\n",
    "        self._num = value\n",
    "    @num .deleter\n",
    "    def num(self):\n",
    "        raise AttributeError(f\"Value cant be removed\")"
   ]
  },
  {
   "cell_type": "code",
   "execution_count": 68,
   "id": "2e1dfab0",
   "metadata": {},
   "outputs": [],
   "source": [
    "class String:\n",
    "    def __init__(self, name=''):\n",
    "        self.name=name\n",
    "    def setvalue(self, value):\n",
    "        if not isinstance(value,str):\n",
    "            raise ValueError(\"Value must be str\")\n",
    "        self.name = value\n",
    "    def getvalue(self):\n",
    "        return self.name\n",
    "    property(fget=getvalue, fset=setvalue)"
   ]
  },
  {
   "cell_type": "code",
   "execution_count": 69,
   "id": "29aa0239",
   "metadata": {},
   "outputs": [],
   "source": [
    "s= String()"
   ]
  },
  {
   "cell_type": "code",
   "execution_count": 70,
   "id": "ce9f3b6a",
   "metadata": {},
   "outputs": [],
   "source": [
    "s=43"
   ]
  },
  {
   "cell_type": "code",
   "execution_count": 71,
   "id": "bf2715e5",
   "metadata": {},
   "outputs": [],
   "source": [
    "class Profile:\n",
    "    firstname = String()"
   ]
  },
  {
   "cell_type": "code",
   "execution_count": 72,
   "id": "14fff37e",
   "metadata": {},
   "outputs": [],
   "source": [
    "p = Profile()"
   ]
  },
  {
   "cell_type": "code",
   "execution_count": 73,
   "id": "af688d34",
   "metadata": {},
   "outputs": [
    {
     "data": {
      "text/plain": [
       "<__main__.String at 0x24667b7b490>"
      ]
     },
     "execution_count": 73,
     "metadata": {},
     "output_type": "execute_result"
    }
   ],
   "source": [
    "p.firstname"
   ]
  },
  {
   "cell_type": "code",
   "execution_count": 74,
   "id": "6eb6639f",
   "metadata": {},
   "outputs": [],
   "source": [
    "# dataclass in descriptor"
   ]
  },
  {
   "cell_type": "code",
   "execution_count": 75,
   "id": "72662c3f",
   "metadata": {},
   "outputs": [],
   "source": [
    "#postgresql for databse"
   ]
  },
  {
   "cell_type": "code",
   "execution_count": null,
   "id": "1d7a71b7",
   "metadata": {},
   "outputs": [],
   "source": []
  }
 ],
 "metadata": {
  "kernelspec": {
   "display_name": "Python 3",
   "language": "python",
   "name": "python3"
  },
  "language_info": {
   "codemirror_mode": {
    "name": "ipython",
    "version": 3
   },
   "file_extension": ".py",
   "mimetype": "text/x-python",
   "name": "python",
   "nbconvert_exporter": "python",
   "pygments_lexer": "ipython3",
   "version": "3.8.8"
  }
 },
 "nbformat": 4,
 "nbformat_minor": 5
}
