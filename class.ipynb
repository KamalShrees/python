{
 "cells": [
  {
   "cell_type": "raw",
   "metadata": {},
   "source": [
    "example:\n",
    "    class and object\n",
    "    class is blueprint and object is object made from blueprint\n",
    "    for one class there can be multiple objects"
   ]
  },
  {
   "cell_type": "raw",
   "metadata": {},
   "source": []
  },
  {
   "cell_type": "code",
   "execution_count": 1,
   "metadata": {},
   "outputs": [],
   "source": [
    "class Test:\n",
    "    x=3000\n",
    "    def __init__(self):  #constructor\n",
    "        print('i am init method')\n",
    "        y=1000\n",
    "    def callme(self):\n",
    "        print(\"i am called\")"
   ]
  },
  {
   "cell_type": "code",
   "execution_count": 2,
   "metadata": {},
   "outputs": [
    {
     "name": "stdout",
     "output_type": "stream",
     "text": [
      "i am init method\n"
     ]
    }
   ],
   "source": [
    "t=Test()"
   ]
  },
  {
   "cell_type": "code",
   "execution_count": 3,
   "metadata": {},
   "outputs": [
    {
     "data": {
      "text/plain": [
       "3000"
      ]
     },
     "execution_count": 3,
     "metadata": {},
     "output_type": "execute_result"
    }
   ],
   "source": [
    "t.x"
   ]
  },
  {
   "cell_type": "code",
   "execution_count": 4,
   "metadata": {},
   "outputs": [
    {
     "ename": "AttributeError",
     "evalue": "'Test' object has no attribute 'y'",
     "output_type": "error",
     "traceback": [
      "\u001b[1;31m---------------------------------------------------------------------------\u001b[0m",
      "\u001b[1;31mAttributeError\u001b[0m                            Traceback (most recent call last)",
      "\u001b[1;32m<ipython-input-4-1ddffdaaf850>\u001b[0m in \u001b[0;36m<module>\u001b[1;34m\u001b[0m\n\u001b[1;32m----> 1\u001b[1;33m \u001b[0mt\u001b[0m\u001b[1;33m.\u001b[0m\u001b[0my\u001b[0m\u001b[1;33m\u001b[0m\u001b[1;33m\u001b[0m\u001b[0m\n\u001b[0m",
      "\u001b[1;31mAttributeError\u001b[0m: 'Test' object has no attribute 'y'"
     ]
    }
   ],
   "source": [
    "t.y"
   ]
  },
  {
   "cell_type": "code",
   "execution_count": 5,
   "metadata": {},
   "outputs": [],
   "source": [
    "class Test:\n",
    "    x=3000\n",
    "    def __init__(self):  #constructor\n",
    "        print('i am init method')\n",
    "        self.y=1000\n",
    "    def callme(self):\n",
    "        print(\"i am called\")"
   ]
  },
  {
   "cell_type": "code",
   "execution_count": 6,
   "metadata": {},
   "outputs": [
    {
     "name": "stdout",
     "output_type": "stream",
     "text": [
      "i am init method\n"
     ]
    }
   ],
   "source": [
    "t=Test()"
   ]
  },
  {
   "cell_type": "code",
   "execution_count": 7,
   "metadata": {},
   "outputs": [
    {
     "data": {
      "text/plain": [
       "1000"
      ]
     },
     "execution_count": 7,
     "metadata": {},
     "output_type": "execute_result"
    }
   ],
   "source": [
    "t.y"
   ]
  },
  {
   "cell_type": "code",
   "execution_count": 8,
   "metadata": {},
   "outputs": [
    {
     "data": {
      "text/plain": [
       "{'y': 1000}"
      ]
     },
     "execution_count": 8,
     "metadata": {},
     "output_type": "execute_result"
    }
   ],
   "source": [
    "t.__dict__   #self use garyeu vani dict ma gayerw value basxa"
   ]
  },
  {
   "cell_type": "code",
   "execution_count": 9,
   "metadata": {},
   "outputs": [],
   "source": [
    "class Test:\n",
    "    x=3000\n",
    "    def __init__(self):  #constructor #kunai ni method ko first arg chai instance hunxa\n",
    "        print('i am init method')\n",
    "        self.y=1000\n",
    "    def callme(self,y):\n",
    "        print(\"i am called\")\n",
    "        self.y=self.y+y\n",
    "        print(f'the sum is {self.y}')"
   ]
  },
  {
   "cell_type": "code",
   "execution_count": 10,
   "metadata": {},
   "outputs": [
    {
     "name": "stdout",
     "output_type": "stream",
     "text": [
      "i am init method\n"
     ]
    }
   ],
   "source": [
    "t=Test()"
   ]
  },
  {
   "cell_type": "code",
   "execution_count": 11,
   "metadata": {},
   "outputs": [
    {
     "name": "stdout",
     "output_type": "stream",
     "text": [
      "i am called\n",
      "the sum is 1010\n"
     ]
    }
   ],
   "source": [
    "t.callme(10)"
   ]
  },
  {
   "cell_type": "code",
   "execution_count": 12,
   "metadata": {},
   "outputs": [],
   "source": [
    "class Pair:\n",
    "    def __init__(self,x,y):\n",
    "        self.x=x\n",
    "        self.y=y\n",
    "    def __repr__(self):\n",
    "        print('__repr__  is called')\n",
    "        return f'({self.x},{self.y})'\n",
    "    def __str__(self):\n",
    "        print('__str__  is called')\n",
    "        return f'pair({self.x},{self.y})'"
   ]
  },
  {
   "cell_type": "code",
   "execution_count": 13,
   "metadata": {},
   "outputs": [],
   "source": [
    "p=Pair(2,3)"
   ]
  },
  {
   "cell_type": "code",
   "execution_count": 14,
   "metadata": {},
   "outputs": [
    {
     "name": "stdout",
     "output_type": "stream",
     "text": [
      "__repr__  is called\n"
     ]
    },
    {
     "data": {
      "text/plain": [
       "(2,3)"
      ]
     },
     "execution_count": 14,
     "metadata": {},
     "output_type": "execute_result"
    }
   ],
   "source": [
    "p\n"
   ]
  },
  {
   "cell_type": "code",
   "execution_count": 15,
   "metadata": {},
   "outputs": [
    {
     "name": "stdout",
     "output_type": "stream",
     "text": [
      "__str__  is called\n",
      "pair(2,3)\n"
     ]
    }
   ],
   "source": [
    "print(p)"
   ]
  },
  {
   "cell_type": "code",
   "execution_count": 16,
   "metadata": {},
   "outputs": [],
   "source": [
    "q=Pair(3,4)"
   ]
  },
  {
   "cell_type": "code",
   "execution_count": 17,
   "metadata": {},
   "outputs": [
    {
     "ename": "TypeError",
     "evalue": "unsupported operand type(s) for +: 'Pair' and 'Pair'",
     "output_type": "error",
     "traceback": [
      "\u001b[1;31m---------------------------------------------------------------------------\u001b[0m",
      "\u001b[1;31mTypeError\u001b[0m                                 Traceback (most recent call last)",
      "\u001b[1;32m<ipython-input-17-e422d34e7445>\u001b[0m in \u001b[0;36m<module>\u001b[1;34m\u001b[0m\n\u001b[1;32m----> 1\u001b[1;33m \u001b[0mp\u001b[0m\u001b[1;33m+\u001b[0m\u001b[0mq\u001b[0m \u001b[1;31m#milauney ho yo assignment\u001b[0m\u001b[1;33m\u001b[0m\u001b[1;33m\u001b[0m\u001b[0m\n\u001b[0m",
      "\u001b[1;31mTypeError\u001b[0m: unsupported operand type(s) for +: 'Pair' and 'Pair'"
     ]
    }
   ],
   "source": [
    "p+q #milauney ho yo assignment"
   ]
  },
  {
   "cell_type": "code",
   "execution_count": 18,
   "metadata": {},
   "outputs": [],
   "source": [
    "#class method "
   ]
  },
  {
   "cell_type": "code",
   "execution_count": 19,
   "metadata": {},
   "outputs": [],
   "source": [
    "class Modify_Math:\n",
    "    def __init__(self, x,y):\n",
    "        self.x=x\n",
    "        self.y=y\n",
    "    def __add__(self, new):\n",
    "        x=self.x+new.x\n",
    "        y=self.y+new.y\n",
    "        return f'the sum of two instance is {x,y}'\n",
    "    def __mul__(self,new):\n",
    "        return f'the sum of two instance is {self.x*new.x,self.y+new.y}'   "
   ]
  },
  {
   "cell_type": "code",
   "execution_count": 20,
   "metadata": {},
   "outputs": [
    {
     "name": "stdout",
     "output_type": "stream",
     "text": [
      "the sum of two instance is (11, 13)\n",
      "the sum of two instance is (30, 13)\n"
     ]
    }
   ],
   "source": [
    "i=Modify_Math(5,6)\n",
    "j=Modify_Math(6,7)\n",
    "print(i+j)\n",
    "print(i*j)"
   ]
  },
  {
   "cell_type": "code",
   "execution_count": 24,
   "metadata": {},
   "outputs": [],
   "source": [
    "class Modify_Math1:\n",
    "    def __init__(self, arr):\n",
    "        self.items=arr\n",
    "    def __add__(self, new):\n",
    "        newlist = []\n",
    "        for i, j in zip(self.items, new.items):\n",
    "            newlist.append(i+j)\n",
    "        return f'the sum of two instance is {newlist}' "
   ]
  },
  {
   "cell_type": "code",
   "execution_count": 25,
   "metadata": {},
   "outputs": [
    {
     "name": "stdout",
     "output_type": "stream",
     "text": [
      "the sum of two instance is [11, 13, 2, 4, 6]\n"
     ]
    }
   ],
   "source": [
    "i=Modify_Math1([5,6,1,2,3])\n",
    "j=Modify_Math1([6,7,1,2,3])\n",
    "print(i+j)"
   ]
  },
  {
   "cell_type": "code",
   "execution_count": 26,
   "metadata": {},
   "outputs": [],
   "source": [
    "class MethodTypes:\n",
    "    def __init__(self,name):\n",
    "        self.name=name\n",
    "    def profile(self,address):  #object ko method//////class ley call garna mildaina profile lai\n",
    "        self.address=address\n",
    "        print(f'my name is {self.name} from {self.address}')\n",
    "    @classmethod\n",
    "    def clsmethod(cls,value):  #class ko method//object ley ni use garna milxa\n",
    "        cls.value=value\n",
    "        print(f'class method is called with value:{cls.value}')        \n",
    "    @staticmethod\n",
    "    def stamethod(value):\n",
    "        print(f'static method is called with value:{value}')    "
   ]
  },
  {
   "cell_type": "code",
   "execution_count": 27,
   "metadata": {},
   "outputs": [],
   "source": [
    "m=MethodTypes('john')"
   ]
  },
  {
   "cell_type": "code",
   "execution_count": 28,
   "metadata": {},
   "outputs": [
    {
     "name": "stdout",
     "output_type": "stream",
     "text": [
      "my name is john from pepsicola\n"
     ]
    }
   ],
   "source": [
    "m.profile('pepsicola')"
   ]
  },
  {
   "cell_type": "code",
   "execution_count": 29,
   "metadata": {},
   "outputs": [
    {
     "ename": "TypeError",
     "evalue": "profile() missing 1 required positional argument: 'address'",
     "output_type": "error",
     "traceback": [
      "\u001b[1;31m---------------------------------------------------------------------------\u001b[0m",
      "\u001b[1;31mTypeError\u001b[0m                                 Traceback (most recent call last)",
      "\u001b[1;32m<ipython-input-29-45854ba65341>\u001b[0m in \u001b[0;36m<module>\u001b[1;34m\u001b[0m\n\u001b[1;32m----> 1\u001b[1;33m \u001b[0mMethodTypes\u001b[0m\u001b[1;33m.\u001b[0m\u001b[0mprofile\u001b[0m\u001b[1;33m(\u001b[0m\u001b[1;34m'addd'\u001b[0m\u001b[1;33m)\u001b[0m\u001b[1;33m\u001b[0m\u001b[1;33m\u001b[0m\u001b[0m\n\u001b[0m",
      "\u001b[1;31mTypeError\u001b[0m: profile() missing 1 required positional argument: 'address'"
     ]
    }
   ],
   "source": [
    "MethodTypes.profile('addd')"
   ]
  },
  {
   "cell_type": "code",
   "execution_count": 30,
   "metadata": {},
   "outputs": [
    {
     "name": "stdout",
     "output_type": "stream",
     "text": [
      "class method is called with value:python\n"
     ]
    }
   ],
   "source": [
    "MethodTypes.clsmethod('python')"
   ]
  },
  {
   "cell_type": "code",
   "execution_count": 31,
   "metadata": {},
   "outputs": [
    {
     "name": "stdout",
     "output_type": "stream",
     "text": [
      "static method is called with value:python\n"
     ]
    }
   ],
   "source": [
    "m.stamethod('python')"
   ]
  },
  {
   "cell_type": "code",
   "execution_count": null,
   "metadata": {},
   "outputs": [],
   "source": []
  },
  {
   "cell_type": "code",
   "execution_count": 12,
   "metadata": {},
   "outputs": [],
   "source": [
    "class Account:\n",
    "    def __init__(self,_type,amount):\n",
    "        self.account_type={'nari_bachat':1000,'student':0}\n",
    "        self._type=_type\n",
    "        if _type not in self.account_type:\n",
    "            raise ValueError(f'unknown account type: {_type}')\n",
    "        self.total_amount=amount      \n",
    "    def deposit(self,value):\n",
    "        print(f'the total value is: {self.total_amount}')\n",
    "        self.total_amount+=value\n",
    "        print(f'the total value is: {self.total_amount}')\n",
    "    def withdraw(self,value):\n",
    "        if value%500!=0:\n",
    "            raise ValueError('amount must be multiple of 500')\n",
    "        if self.total_amount-value>=self.account_type[self._type]:\n",
    "            print(f'the total value is: {self.total_amount}')\n",
    "            self.total_amount=self.total_amount-value\n",
    "            print(f'the total value is: {self.total_amount}')\n",
    "        else:\n",
    "            raise ValueError(\"Insufficient balance\")\n",
    "    def inquery(self):\n",
    "        print(f\"total blnc is: {self.total_amount}\")\n",
    "                             \n",
    "        "
   ]
  },
  {
   "cell_type": "code",
   "execution_count": 13,
   "metadata": {},
   "outputs": [],
   "source": [
    "sita=Account('nari_bachat',500000)"
   ]
  },
  {
   "cell_type": "code",
   "execution_count": 14,
   "metadata": {},
   "outputs": [],
   "source": [
    "sita=Account('nari',500000) #account type should be matched"
   ]
  },
  {
   "cell_type": "code",
   "execution_count": 27,
   "metadata": {},
   "outputs": [
    {
     "ename": "SyntaxError",
     "evalue": "invalid syntax (<ipython-input-27-f8819e4faa63>, line 34)",
     "output_type": "error",
     "traceback": [
      "\u001b[1;36m  File \u001b[1;32m\"<ipython-input-27-f8819e4faa63>\"\u001b[1;36m, line \u001b[1;32m34\u001b[0m\n\u001b[1;33m    continue\u001b[0m\n\u001b[1;37m    ^\u001b[0m\n\u001b[1;31mSyntaxError\u001b[0m\u001b[1;31m:\u001b[0m invalid syntax\n"
     ]
    }
   ],
   "source": [
    "try:\n",
    "    name=input(\"enter the account name: \")\n",
    "    act_type=input('Enter the account type (valid account types are: nari_bachat,student): ')\n",
    "    valid_type=['nari_bachat','student']\n",
    "    if act_type not in valid_type:\n",
    "        raise ValueError(\"Invaid account type\")\n",
    "    amount=int(input('Enter the amount:'))\n",
    "    name=Account(act_type,amount)\n",
    "except ValueError as e:\n",
    "    print(e)\n",
    "\n",
    "else:\n",
    "    while True:\n",
    "        print('1. deposite')\n",
    "        print('2. withdraw')\n",
    "        print('3. inquery')\n",
    "        print('4. Exit')\n",
    "        action=int(input('choose any option from above: '))\n",
    "        valid_action=1,2,3,4\n",
    "        if action not in valid_action:\n",
    "            print(\"invalid option\")\n",
    "            continue\n",
    "        if action==1:\n",
    "            amount=int(input('enter the amount'))\n",
    "            name.deposit(amount)\n",
    "            print(\"amount deposite sucessfully\")\n",
    "        if  action==2:\n",
    "            amount=int(input(\"Enter the amount you want to withdraw(must be multiple of 500):\"))\n",
    "            name.withdraw(amount)\n",
    "            print(\"amount withdraw sucessfully\")\n",
    "            continue\n",
    "        if action==3:\n",
    "            name.inquery()\n",
    "            continue\n",
    "        if action==4:\n",
    "            break\n"
   ]
  },
  {
   "cell_type": "code",
   "execution_count": null,
   "metadata": {},
   "outputs": [],
   "source": []
  }
 ],
 "metadata": {
  "kernelspec": {
   "display_name": "Python 3",
   "language": "python",
   "name": "python3"
  },
  "language_info": {
   "codemirror_mode": {
    "name": "ipython",
    "version": 3
   },
   "file_extension": ".py",
   "mimetype": "text/x-python",
   "name": "python",
   "nbconvert_exporter": "python",
   "pygments_lexer": "ipython3",
   "version": "3.8.8"
  }
 },
 "nbformat": 4,
 "nbformat_minor": 4
}
