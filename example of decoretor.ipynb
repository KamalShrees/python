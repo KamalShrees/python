{
 "cells": [
  {
   "cell_type": "code",
   "execution_count": 1,
   "id": "97c8cd47",
   "metadata": {},
   "outputs": [],
   "source": [
    "# Python program to illustrate functions \n",
    "# can be passed as arguments to other functions "
   ]
  },
  {
   "cell_type": "code",
   "execution_count": 2,
   "id": "c022fb03",
   "metadata": {},
   "outputs": [],
   "source": [
    "def shout(text):\n",
    "    return text.upper()"
   ]
  },
  {
   "cell_type": "code",
   "execution_count": 5,
   "id": "8aee6c60",
   "metadata": {},
   "outputs": [
    {
     "data": {
      "text/plain": [
       "'HEY'"
      ]
     },
     "execution_count": 5,
     "metadata": {},
     "output_type": "execute_result"
    }
   ],
   "source": [
    "shout('hey')"
   ]
  },
  {
   "cell_type": "code",
   "execution_count": 6,
   "id": "c2f26795",
   "metadata": {},
   "outputs": [],
   "source": [
    "def call_name(text):\n",
    "    return text.capitalize()"
   ]
  },
  {
   "cell_type": "code",
   "execution_count": 7,
   "id": "9c5732d5",
   "metadata": {},
   "outputs": [
    {
     "data": {
      "text/plain": [
       "'Kamal'"
      ]
     },
     "execution_count": 7,
     "metadata": {},
     "output_type": "execute_result"
    }
   ],
   "source": [
    "call_name('Kamal')"
   ]
  },
  {
   "cell_type": "code",
   "execution_count": 8,
   "id": "30db6e3f",
   "metadata": {},
   "outputs": [
    {
     "data": {
      "text/plain": [
       "'Ram'"
      ]
     },
     "execution_count": 8,
     "metadata": {},
     "output_type": "execute_result"
    }
   ],
   "source": [
    "call_name('ram')"
   ]
  },
  {
   "cell_type": "code",
   "execution_count": 21,
   "id": "38d24f93",
   "metadata": {},
   "outputs": [
    {
     "name": "stdout",
     "output_type": "stream",
     "text": [
      "HEY THIS IS TEST\n"
     ]
    }
   ],
   "source": [
    "def greet(test): \n",
    "    # storing the function in a variable \n",
    "    greeting = test(\"hey this is test\") \n",
    "    print (greeting)\n",
    "    \n",
    "greet(shout)"
   ]
  },
  {
   "cell_type": "code",
   "execution_count": 22,
   "id": "3f929357",
   "metadata": {},
   "outputs": [],
   "source": [
    "# Python program to illustrate functions \n",
    "# Functions can return another function "
   ]
  },
  {
   "cell_type": "code",
   "execution_count": 27,
   "id": "5671e76c",
   "metadata": {},
   "outputs": [
    {
     "name": "stdout",
     "output_type": "stream",
     "text": [
      "enter a number : 20\n",
      "enter another number : 5\n",
      "25\n"
     ]
    }
   ],
   "source": [
    "def create_adder(x):\n",
    "    def adder(y):\n",
    "        return x+y\n",
    "    return adder\n",
    "\n",
    "n = int(input(\"enter a number : \"))\n",
    "add_n = create_adder(n)\n",
    "\n",
    "y = int(input(\"enter another number : \"))\n",
    "print(add_n(y))"
   ]
  },
  {
   "cell_type": "code",
   "execution_count": 29,
   "id": "19657ea4",
   "metadata": {},
   "outputs": [
    {
     "name": "stdout",
     "output_type": "stream",
     "text": [
      "100\n"
     ]
    }
   ],
   "source": [
    "# code for testing decorator chaining \n",
    "def decor1(func): \n",
    "    def inner(): \n",
    "        x = func() \n",
    "        return x * x \n",
    "    return inner \n",
    "  \n",
    "def decor(func): \n",
    "    def inner(): \n",
    "        x = func() \n",
    "        return 2 * x \n",
    "    return inner \n",
    "  \n",
    "@decor1\n",
    "@decor\n",
    "def num(): \n",
    "    return 5\n",
    "  \n",
    "print(num()) "
   ]
  },
  {
   "cell_type": "code",
   "execution_count": null,
   "id": "d04d0d11",
   "metadata": {},
   "outputs": [],
   "source": []
  }
 ],
 "metadata": {
  "kernelspec": {
   "display_name": "Python 3",
   "language": "python",
   "name": "python3"
  },
  "language_info": {
   "codemirror_mode": {
    "name": "ipython",
    "version": 3
   },
   "file_extension": ".py",
   "mimetype": "text/x-python",
   "name": "python",
   "nbconvert_exporter": "python",
   "pygments_lexer": "ipython3",
   "version": "3.8.8"
  }
 },
 "nbformat": 4,
 "nbformat_minor": 5
}
