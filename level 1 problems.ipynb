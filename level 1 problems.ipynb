{
 "cells": [
  {
   "cell_type": "code",
   "execution_count": 1,
   "id": "5580712e",
   "metadata": {},
   "outputs": [],
   "source": [
    "# Write a program which will find all such numbers which are divisible by 7 but are not a multiple of 5, between 2000 and 3200 \n",
    "#(both included).The numbers obtained should be printed in a comma-separated sequence on a single line."
   ]
  },
  {
   "cell_type": "code",
   "execution_count": 60,
   "id": "32978b65",
   "metadata": {},
   "outputs": [],
   "source": [
    "#for i in range(2000, 3200):\n",
    "#    if i%7==0:\n",
    "#        print(i, end=\" , \")"
   ]
  },
  {
   "cell_type": "code",
   "execution_count": 65,
   "id": "9f479eb0",
   "metadata": {},
   "outputs": [
    {
     "name": "stdout",
     "output_type": "stream",
     "text": [
      "{3073, 2562, 2051, 3080, 2569, 2058, 3087, 2576, 2065, 3094, 2583, 2072, 3101, 2590, 2079, 3108, 2597, 2086, 3115, 2604, 2093, 3122, 2611, 2100, 3129, 2618, 2107, 3136, 2625, 2114, 3143, 2632, 2121, 3150, 2639, 2128, 3157, 2646, 2135, 3164, 2653, 2142, 3171, 2660, 2149, 3178, 2667, 2156, 3185, 2674, 2163, 3192, 2681, 2170, 3199, 2688, 2177, 2695, 2184, 2702, 2191, 2709, 2198, 2716, 2205, 2723, 2212, 2730, 2219, 2737, 2226, 2744, 2233, 2751, 2240, 2758, 2247, 2765, 2254, 2772, 2261, 2779, 2268, 2786, 2275, 2793, 2282, 2800, 2289, 2807, 2296, 2814, 2303, 2821, 2310, 2828, 2317, 2835, 2324, 2842, 2331, 2849, 2338, 2856, 2345, 2863, 2352, 2870, 2359, 2877, 2366, 2884, 2373, 2891, 2380, 2898, 2387, 2905, 2394, 2912, 2401, 2919, 2408, 2926, 2415, 2933, 2422, 2940, 2429, 2947, 2436, 2954, 2443, 2961, 2450, 2968, 2457, 2975, 2464, 2982, 2471, 2989, 2478, 2996, 2485, 3003, 2492, 3010, 2499, 3017, 2506, 3024, 2513, 2002, 3031, 2520, 2009, 3038, 2527, 2016, 3045, 2534, 2023, 3052, 2541, 2030, 3059, 2548, 2037, 3066, 2555, 2044}\n"
     ]
    }
   ],
   "source": [
    "r ={i if i%5!=0 else i for i in range(2000, 3200) if i%7==0}\n",
    "print(r)"
   ]
  },
  {
   "cell_type": "code",
   "execution_count": 63,
   "id": "aaafa3de",
   "metadata": {},
   "outputs": [
    {
     "name": "stdout",
     "output_type": "stream",
     "text": [
      "2002,2009,2016,2023,2037,2044,2051,2058,2072,2079,2086,2093,2107,2114,2121,2128,2142,2149,2156,2163,2177,2184,2191,2198,2212,2219,2226,2233,2247,2254,2261,2268,2282,2289,2296,2303,2317,2324,2331,2338,2352,2359,2366,2373,2387,2394,2401,2408,2422,2429,2436,2443,2457,2464,2471,2478,2492,2499,2506,2513,2527,2534,2541,2548,2562,2569,2576,2583,2597,2604,2611,2618,2632,2639,2646,2653,2667,2674,2681,2688,2702,2709,2716,2723,2737,2744,2751,2758,2772,2779,2786,2793,2807,2814,2821,2828,2842,2849,2856,2863,2877,2884,2891,2898,2912,2919,2926,2933,2947,2954,2961,2968,2982,2989,2996,3003,3017,3024,3031,3038,3052,3059,3066,3073,3087,3094,3101,3108,3122,3129,3136,3143,3157,3164,3171,3178,3192,3199\n"
     ]
    }
   ],
   "source": [
    "l=[]\n",
    "for i in range(2000, 3201):\n",
    "    if (i%7==0) and (i%5!=0):\n",
    "        l.append(str(i))\n",
    "\n",
    "print(','.join(l))"
   ]
  },
  {
   "cell_type": "code",
   "execution_count": 67,
   "id": "f096f7d3",
   "metadata": {},
   "outputs": [],
   "source": [
    "#Write a program which can compute the factorial of a given numbers.\n",
    "#The results should be printed in a comma-separated sequence on a single line.\n",
    "#Suppose the following input is supplied to the program: 8\n",
    "#Then, the output should be: 40320"
   ]
  },
  {
   "cell_type": "code",
   "execution_count": 108,
   "id": "f6f3c901",
   "metadata": {},
   "outputs": [
    {
     "name": "stdout",
     "output_type": "stream",
     "text": [
      "enter a number : 8\n"
     ]
    },
    {
     "data": {
      "text/plain": [
       "40320"
      ]
     },
     "execution_count": 108,
     "metadata": {},
     "output_type": "execute_result"
    }
   ],
   "source": [
    "def factorial(n):\n",
    "    if n<2:\n",
    "        return n\n",
    "    return n * factorial(n-1)\n",
    "n = int(input(\"enter a number : \"))\n",
    "factorial(n)"
   ]
  },
  {
   "cell_type": "code",
   "execution_count": null,
   "id": "f7264afa",
   "metadata": {},
   "outputs": [],
   "source": [
    "#With a given integral number n, write a program to generate a dictionary that contains (i, i*i) such that is an integral \n",
    "#number between 1 and n (both included). and then the program should print the dictionary."
   ]
  },
  {
   "cell_type": "code",
   "execution_count": 112,
   "id": "b77f726a",
   "metadata": {},
   "outputs": [
    {
     "name": "stdout",
     "output_type": "stream",
     "text": [
      "enter a number : y\n",
      "input must be numeric\n",
      "Enter Again : 8\n",
      "the entered number is 8\n"
     ]
    }
   ],
   "source": [
    "n = input(\"enter a number : \")\n",
    "while True:\n",
    "    if not n.isnumeric():\n",
    "        print(\"input must be numeric\")\n",
    "        n= input(\"Enter Again : \")\n",
    "        continue\n",
    "    if n.isnumeric():\n",
    "        print(f\"the entered number is {n}\")\n",
    "        \n",
    "    break"
   ]
  },
  {
   "cell_type": "code",
   "execution_count": 119,
   "id": "780e2ffb",
   "metadata": {},
   "outputs": [
    {
     "name": "stdout",
     "output_type": "stream",
     "text": [
      "enter a number: 4\n"
     ]
    },
    {
     "data": {
      "text/plain": [
       "{1: 1, 2: 4, 3: 27, 4: 256}"
      ]
     },
     "execution_count": 119,
     "metadata": {},
     "output_type": "execute_result"
    }
   ],
   "source": [
    "n= int(input(\"enter a number: \"))\n",
    "{i:i**i for i in range(1,n+1)}"
   ]
  },
  {
   "cell_type": "code",
   "execution_count": null,
   "id": "b3d77e19",
   "metadata": {},
   "outputs": [],
   "source": []
  },
  {
   "cell_type": "code",
   "execution_count": null,
   "id": "c687bfa1",
   "metadata": {},
   "outputs": [],
   "source": []
  }
 ],
 "metadata": {
  "kernelspec": {
   "display_name": "Python 3",
   "language": "python",
   "name": "python3"
  },
  "language_info": {
   "codemirror_mode": {
    "name": "ipython",
    "version": 3
   },
   "file_extension": ".py",
   "mimetype": "text/x-python",
   "name": "python",
   "nbconvert_exporter": "python",
   "pygments_lexer": "ipython3",
   "version": "3.8.8"
  }
 },
 "nbformat": 4,
 "nbformat_minor": 5
}
