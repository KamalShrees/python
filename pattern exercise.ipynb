{
 "cells": [
  {
   "cell_type": "code",
   "execution_count": 9,
   "id": "a52fedf7",
   "metadata": {},
   "outputs": [
    {
     "name": "stdout",
     "output_type": "stream",
     "text": [
      "enter a number : 4\n",
      "the entered number is 4\n",
      "the given number is even\n"
     ]
    }
   ],
   "source": [
    "inputval = input(\"enter a number : \")\n",
    "while True:\n",
    "    if not inputval.isnumeric():\n",
    "        print(\"input must be numeric\")\n",
    "        inputval= input(\"Enter Again : \")\n",
    "        continue\n",
    "    if inputval.isnumeric():\n",
    "        print(f\"the entered number is {inputval}\")\n",
    "        if int(inputval)%2==0:\n",
    "            print(\"the given number is even\")\n",
    "        else:\n",
    "            print(\"the given number is odd\")\n",
    "\n",
    "    break\n",
    "    "
   ]
  },
  {
   "cell_type": "code",
   "execution_count": 38,
   "id": "e4ca7c99",
   "metadata": {},
   "outputs": [
    {
     "name": "stdout",
     "output_type": "stream",
     "text": [
      "*******\n",
      " *****\n",
      "  ***\n",
      "   *\n"
     ]
    }
   ],
   "source": [
    "n=4\n",
    "for i in range(n,0,-1):\n",
    "    for k in range(n-i):\n",
    "        print(\" \", end=\"\")\n",
    "    for j in range(2*i-1):\n",
    "        print(\"*\", end=\"\")\n",
    "    print()\n",
    "    "
   ]
  },
  {
   "cell_type": "code",
   "execution_count": 68,
   "id": "77678b41",
   "metadata": {},
   "outputs": [
    {
     "name": "stdout",
     "output_type": "stream",
     "text": [
      "*\n",
      "***\n",
      "*****\n",
      "*******\n",
      "*********\n"
     ]
    }
   ],
   "source": [
    "n=5\n",
    "for i in range(1,n+1):\n",
    "    for j in range(i*2-1):\n",
    "        print(\"*\", end=\"\")\n",
    "    print()\n"
   ]
  },
  {
   "cell_type": "code",
   "execution_count": 70,
   "id": "9069a9fe",
   "metadata": {},
   "outputs": [
    {
     "name": "stdout",
     "output_type": "stream",
     "text": [
      "***********\n",
      "*********\n",
      "*******\n",
      "*****\n",
      "***\n",
      "*\n"
     ]
    }
   ],
   "source": [
    "n=5\n",
    "for i in range(n+1,0,-1):\n",
    "    for j in range(i*2-1):\n",
    "        print(\"*\", end=\"\")\n",
    "    print()\n"
   ]
  },
  {
   "cell_type": "code",
   "execution_count": 74,
   "id": "4abbd0a6",
   "metadata": {},
   "outputs": [
    {
     "name": "stdout",
     "output_type": "stream",
     "text": [
      "\n",
      "*\n",
      "***\n",
      "*****\n",
      "*******\n",
      "*********\n"
     ]
    }
   ],
   "source": [
    "n=5\n",
    "for i in range(n+1):\n",
    "    for j in range(i*2-1):\n",
    "        print(\"*\", end=\"\")\n",
    "    print()\n"
   ]
  },
  {
   "cell_type": "code",
   "execution_count": 38,
   "id": "b73f084d",
   "metadata": {},
   "outputs": [
    {
     "name": "stdout",
     "output_type": "stream",
     "text": [
      "enter a number : 4\n",
      "# # # # \n",
      "# # # # \n",
      "# # # # \n",
      "# # # # \n"
     ]
    }
   ],
   "source": [
    "r = int(input(\"enter a number : \"))\n",
    "for i in range(r):\n",
    "    for j in range(r):\n",
    "            print('#', end = ' ')\n",
    "    print()"
   ]
  },
  {
   "cell_type": "code",
   "execution_count": null,
   "id": "c8685102",
   "metadata": {},
   "outputs": [],
   "source": []
  }
 ],
 "metadata": {
  "kernelspec": {
   "display_name": "Python 3",
   "language": "python",
   "name": "python3"
  },
  "language_info": {
   "codemirror_mode": {
    "name": "ipython",
    "version": 3
   },
   "file_extension": ".py",
   "mimetype": "text/x-python",
   "name": "python",
   "nbconvert_exporter": "python",
   "pygments_lexer": "ipython3",
   "version": "3.8.8"
  }
 },
 "nbformat": 4,
 "nbformat_minor": 5
}
