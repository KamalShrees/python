{
 "cells": [
  {
   "cell_type": "markdown",
   "id": "58021cc9",
   "metadata": {},
   "source": [
    "# Set"
   ]
  },
  {
   "cell_type": "code",
   "execution_count": 1,
   "id": "c67f1924",
   "metadata": {},
   "outputs": [],
   "source": [
    "alist = [1,2,3, [5,6]]"
   ]
  },
  {
   "cell_type": "code",
   "execution_count": 2,
   "id": "027c6642",
   "metadata": {},
   "outputs": [
    {
     "ename": "TypeError",
     "evalue": "unhashable type: 'list'",
     "output_type": "error",
     "traceback": [
      "\u001b[1;31m---------------------------------------------------------------------------\u001b[0m",
      "\u001b[1;31mTypeError\u001b[0m                                 Traceback (most recent call last)",
      "\u001b[1;32m<ipython-input-2-cf90261566b6>\u001b[0m in \u001b[0;36m<module>\u001b[1;34m\u001b[0m\n\u001b[1;32m----> 1\u001b[1;33m \u001b[0mset\u001b[0m\u001b[1;33m(\u001b[0m\u001b[0malist\u001b[0m\u001b[1;33m)\u001b[0m\u001b[1;33m\u001b[0m\u001b[1;33m\u001b[0m\u001b[0m\n\u001b[0m",
      "\u001b[1;31mTypeError\u001b[0m: unhashable type: 'list'"
     ]
    }
   ],
   "source": [
    "set(alist)"
   ]
  },
  {
   "cell_type": "code",
   "execution_count": 3,
   "id": "e48ae74c",
   "metadata": {},
   "outputs": [],
   "source": [
    "alist = [1,2,4,(9,8)]"
   ]
  },
  {
   "cell_type": "code",
   "execution_count": 4,
   "id": "2628e52f",
   "metadata": {},
   "outputs": [
    {
     "data": {
      "text/plain": [
       "{(9, 8), 1, 2, 4}"
      ]
     },
     "execution_count": 4,
     "metadata": {},
     "output_type": "execute_result"
    }
   ],
   "source": [
    "set(alist)"
   ]
  },
  {
   "cell_type": "code",
   "execution_count": 5,
   "id": "54eaf90f",
   "metadata": {},
   "outputs": [
    {
     "data": {
      "text/plain": [
       "['__and__',\n",
       " '__class__',\n",
       " '__contains__',\n",
       " '__delattr__',\n",
       " '__dir__',\n",
       " '__doc__',\n",
       " '__eq__',\n",
       " '__format__',\n",
       " '__ge__',\n",
       " '__getattribute__',\n",
       " '__gt__',\n",
       " '__hash__',\n",
       " '__iand__',\n",
       " '__init__',\n",
       " '__init_subclass__',\n",
       " '__ior__',\n",
       " '__isub__',\n",
       " '__iter__',\n",
       " '__ixor__',\n",
       " '__le__',\n",
       " '__len__',\n",
       " '__lt__',\n",
       " '__ne__',\n",
       " '__new__',\n",
       " '__or__',\n",
       " '__rand__',\n",
       " '__reduce__',\n",
       " '__reduce_ex__',\n",
       " '__repr__',\n",
       " '__ror__',\n",
       " '__rsub__',\n",
       " '__rxor__',\n",
       " '__setattr__',\n",
       " '__sizeof__',\n",
       " '__str__',\n",
       " '__sub__',\n",
       " '__subclasshook__',\n",
       " '__xor__',\n",
       " 'add',\n",
       " 'clear',\n",
       " 'copy',\n",
       " 'difference',\n",
       " 'difference_update',\n",
       " 'discard',\n",
       " 'intersection',\n",
       " 'intersection_update',\n",
       " 'isdisjoint',\n",
       " 'issubset',\n",
       " 'issuperset',\n",
       " 'pop',\n",
       " 'remove',\n",
       " 'symmetric_difference',\n",
       " 'symmetric_difference_update',\n",
       " 'union',\n",
       " 'update']"
      ]
     },
     "execution_count": 5,
     "metadata": {},
     "output_type": "execute_result"
    }
   ],
   "source": [
    "dir(set)"
   ]
  },
  {
   "cell_type": "code",
   "execution_count": 7,
   "id": "73468916",
   "metadata": {},
   "outputs": [],
   "source": [
    "aset = {2,4,6,8}"
   ]
  },
  {
   "cell_type": "code",
   "execution_count": 9,
   "id": "10ceaac9",
   "metadata": {},
   "outputs": [],
   "source": [
    "aset.add(10)"
   ]
  },
  {
   "cell_type": "code",
   "execution_count": 10,
   "id": "b29ac94d",
   "metadata": {},
   "outputs": [
    {
     "data": {
      "text/plain": [
       "{2, 4, 6, 8, 10}"
      ]
     },
     "execution_count": 10,
     "metadata": {},
     "output_type": "execute_result"
    }
   ],
   "source": [
    "aset"
   ]
  },
  {
   "cell_type": "code",
   "execution_count": 11,
   "id": "889fbb44",
   "metadata": {},
   "outputs": [
    {
     "ename": "TypeError",
     "evalue": "unhashable type: 'list'",
     "output_type": "error",
     "traceback": [
      "\u001b[1;31m---------------------------------------------------------------------------\u001b[0m",
      "\u001b[1;31mTypeError\u001b[0m                                 Traceback (most recent call last)",
      "\u001b[1;32m<ipython-input-11-be972b18a5a8>\u001b[0m in \u001b[0;36m<module>\u001b[1;34m\u001b[0m\n\u001b[1;32m----> 1\u001b[1;33m \u001b[0maset\u001b[0m\u001b[1;33m.\u001b[0m\u001b[0madd\u001b[0m\u001b[1;33m(\u001b[0m\u001b[1;33m[\u001b[0m\u001b[1;36m1\u001b[0m\u001b[1;33m,\u001b[0m\u001b[1;36m2\u001b[0m\u001b[1;33m,\u001b[0m\u001b[1;36m3\u001b[0m\u001b[1;33m,\u001b[0m\u001b[1;36m4\u001b[0m\u001b[1;33m]\u001b[0m\u001b[1;33m)\u001b[0m\u001b[1;33m\u001b[0m\u001b[1;33m\u001b[0m\u001b[0m\n\u001b[0m",
      "\u001b[1;31mTypeError\u001b[0m: unhashable type: 'list'"
     ]
    }
   ],
   "source": [
    "aset.add([1,2,3,4])"
   ]
  },
  {
   "cell_type": "code",
   "execution_count": 12,
   "id": "ff74522b",
   "metadata": {},
   "outputs": [
    {
     "name": "stdout",
     "output_type": "stream",
     "text": [
      "\f",
      "\n"
     ]
    }
   ],
   "source": [
    "clear"
   ]
  },
  {
   "cell_type": "code",
   "execution_count": 13,
   "id": "578ea8ab",
   "metadata": {},
   "outputs": [],
   "source": [
    "aset.clear()"
   ]
  },
  {
   "cell_type": "code",
   "execution_count": 14,
   "id": "901ae568",
   "metadata": {},
   "outputs": [
    {
     "data": {
      "text/plain": [
       "set()"
      ]
     },
     "execution_count": 14,
     "metadata": {},
     "output_type": "execute_result"
    }
   ],
   "source": [
    "aset"
   ]
  },
  {
   "cell_type": "code",
   "execution_count": 15,
   "id": "b77450dc",
   "metadata": {},
   "outputs": [],
   "source": [
    "aset.add((1,2,3,5,6))"
   ]
  },
  {
   "cell_type": "code",
   "execution_count": 16,
   "id": "6fc86e29",
   "metadata": {},
   "outputs": [
    {
     "data": {
      "text/plain": [
       "{(1, 2, 3, 5, 6)}"
      ]
     },
     "execution_count": 16,
     "metadata": {},
     "output_type": "execute_result"
    }
   ],
   "source": [
    "aset"
   ]
  },
  {
   "cell_type": "code",
   "execution_count": 17,
   "id": "ca141214",
   "metadata": {},
   "outputs": [],
   "source": [
    "tset = {3,5,7,9}"
   ]
  },
  {
   "cell_type": "code",
   "execution_count": 18,
   "id": "494f17ea",
   "metadata": {},
   "outputs": [],
   "source": [
    "newset = tset.copy()"
   ]
  },
  {
   "cell_type": "code",
   "execution_count": 39,
   "id": "967a4ab4",
   "metadata": {},
   "outputs": [
    {
     "data": {
      "text/plain": [
       "{3, 5, 7, 9}"
      ]
     },
     "execution_count": 39,
     "metadata": {},
     "output_type": "execute_result"
    }
   ],
   "source": [
    "newset"
   ]
  },
  {
   "cell_type": "code",
   "execution_count": 40,
   "id": "39b0154d",
   "metadata": {},
   "outputs": [],
   "source": [
    "tset.difference_update()"
   ]
  },
  {
   "cell_type": "code",
   "execution_count": 41,
   "id": "66f33090",
   "metadata": {},
   "outputs": [
    {
     "data": {
      "text/plain": [
       "set()"
      ]
     },
     "execution_count": 41,
     "metadata": {},
     "output_type": "execute_result"
    }
   ],
   "source": [
    "tset"
   ]
  },
  {
   "cell_type": "code",
   "execution_count": 43,
   "id": "021f72d5",
   "metadata": {},
   "outputs": [
    {
     "data": {
      "text/plain": [
       "9"
      ]
     },
     "execution_count": 43,
     "metadata": {},
     "output_type": "execute_result"
    }
   ],
   "source": [
    "newset.pop()"
   ]
  },
  {
   "cell_type": "code",
   "execution_count": 45,
   "id": "486ce5c6",
   "metadata": {},
   "outputs": [],
   "source": [
    "newset.remove(5)"
   ]
  },
  {
   "cell_type": "code",
   "execution_count": 46,
   "id": "a9c510d0",
   "metadata": {},
   "outputs": [
    {
     "data": {
      "text/plain": [
       "{3, 7}"
      ]
     },
     "execution_count": 46,
     "metadata": {},
     "output_type": "execute_result"
    }
   ],
   "source": [
    "newset"
   ]
  },
  {
   "cell_type": "code",
   "execution_count": 47,
   "id": "db468e60",
   "metadata": {},
   "outputs": [],
   "source": [
    "newset.add(1)"
   ]
  },
  {
   "cell_type": "code",
   "execution_count": 48,
   "id": "b63cfe3c",
   "metadata": {},
   "outputs": [],
   "source": [
    "newset.add(9)"
   ]
  },
  {
   "cell_type": "code",
   "execution_count": 49,
   "id": "40321f3a",
   "metadata": {},
   "outputs": [
    {
     "data": {
      "text/plain": [
       "{1, 3, 7, 9}"
      ]
     },
     "execution_count": 49,
     "metadata": {},
     "output_type": "execute_result"
    }
   ],
   "source": [
    "newset"
   ]
  },
  {
   "cell_type": "code",
   "execution_count": 51,
   "id": "55c35fc5",
   "metadata": {},
   "outputs": [
    {
     "ename": "TypeError",
     "evalue": "remove() takes exactly one argument (2 given)",
     "output_type": "error",
     "traceback": [
      "\u001b[1;31m---------------------------------------------------------------------------\u001b[0m",
      "\u001b[1;31mTypeError\u001b[0m                                 Traceback (most recent call last)",
      "\u001b[1;32m<ipython-input-51-d483b70ff788>\u001b[0m in \u001b[0;36m<module>\u001b[1;34m\u001b[0m\n\u001b[1;32m----> 1\u001b[1;33m \u001b[0mnewset\u001b[0m\u001b[1;33m.\u001b[0m\u001b[0mremove\u001b[0m\u001b[1;33m(\u001b[0m\u001b[1;36m1\u001b[0m\u001b[1;33m,\u001b[0m\u001b[1;36m3\u001b[0m\u001b[1;33m)\u001b[0m\u001b[1;33m\u001b[0m\u001b[1;33m\u001b[0m\u001b[0m\n\u001b[0m",
      "\u001b[1;31mTypeError\u001b[0m: remove() takes exactly one argument (2 given)"
     ]
    }
   ],
   "source": [
    "newset.remove(1,3)"
   ]
  },
  {
   "cell_type": "code",
   "execution_count": 53,
   "id": "c240a4ce",
   "metadata": {},
   "outputs": [],
   "source": [
    "a = {1,3,5,7}\n",
    "b={2,4,6,8}\n",
    "result = a.union(b)"
   ]
  },
  {
   "cell_type": "code",
   "execution_count": 54,
   "id": "54144f25",
   "metadata": {},
   "outputs": [
    {
     "data": {
      "text/plain": [
       "{1, 2, 3, 4, 5, 6, 7, 8}"
      ]
     },
     "execution_count": 54,
     "metadata": {},
     "output_type": "execute_result"
    }
   ],
   "source": [
    "result"
   ]
  },
  {
   "cell_type": "code",
   "execution_count": 57,
   "id": "99eea636",
   "metadata": {},
   "outputs": [],
   "source": [
    "c = {10,12}"
   ]
  },
  {
   "cell_type": "code",
   "execution_count": 64,
   "id": "693bf33c",
   "metadata": {},
   "outputs": [
    {
     "name": "stdout",
     "output_type": "stream",
     "text": [
      "None\n"
     ]
    }
   ],
   "source": [
    "newresult = result.update(c)\n",
    "print(newresult)"
   ]
  },
  {
   "cell_type": "code",
   "execution_count": 61,
   "id": "5a97c8b1",
   "metadata": {},
   "outputs": [],
   "source": [
    "newresult"
   ]
  },
  {
   "cell_type": "code",
   "execution_count": null,
   "id": "8bb60ef2",
   "metadata": {},
   "outputs": [],
   "source": []
  }
 ],
 "metadata": {
  "kernelspec": {
   "display_name": "Python 3",
   "language": "python",
   "name": "python3"
  },
  "language_info": {
   "codemirror_mode": {
    "name": "ipython",
    "version": 3
   },
   "file_extension": ".py",
   "mimetype": "text/x-python",
   "name": "python",
   "nbconvert_exporter": "python",
   "pygments_lexer": "ipython3",
   "version": "3.8.8"
  }
 },
 "nbformat": 4,
 "nbformat_minor": 5
}
