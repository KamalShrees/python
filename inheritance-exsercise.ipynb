{
 "cells": [
  {
   "cell_type": "code",
   "execution_count": 6,
   "id": "82c57add",
   "metadata": {},
   "outputs": [
    {
     "name": "stdout",
     "output_type": "stream",
     "text": [
      "Kamal\n",
      "886012\n"
     ]
    }
   ],
   "source": [
    "# parent class\n",
    "class Person( object ):    \n",
    "  \n",
    "        # __init__ is known as the constructor         \n",
    "        def __init__(self, name, idnumber):   \n",
    "                self.name = name\n",
    "                self.idnumber = idnumber\n",
    "        def display(self):\n",
    "                print(self.name)\n",
    "                print(self.idnumber)\n",
    "  \n",
    "# child class\n",
    "class Employee( Person ):           \n",
    "        def __init__(self, name, idnumber, salary, post):\n",
    "                self.salary = salary\n",
    "                self.post = post\n",
    "  \n",
    "                # invoking the __init__ of the parent class \n",
    "                Person.__init__(self, name, idnumber) \n",
    "  \n",
    "                  \n",
    "# creation of an object variable or an instance\n",
    "a = Employee('Kamal', 886012, 200000, \"Intern\")    \n",
    "  \n",
    "# calling a function of the class Person using its instance\n",
    "a.display() "
   ]
  },
  {
   "cell_type": "code",
   "execution_count": null,
   "id": "306155c8",
   "metadata": {},
   "outputs": [],
   "source": []
  },
  {
   "cell_type": "code",
   "execution_count": null,
   "id": "0f791a62",
   "metadata": {},
   "outputs": [],
   "source": []
  }
 ],
 "metadata": {
  "kernelspec": {
   "display_name": "Python 3",
   "language": "python",
   "name": "python3"
  },
  "language_info": {
   "codemirror_mode": {
    "name": "ipython",
    "version": 3
   },
   "file_extension": ".py",
   "mimetype": "text/x-python",
   "name": "python",
   "nbconvert_exporter": "python",
   "pygments_lexer": "ipython3",
   "version": "3.8.8"
  }
 },
 "nbformat": 4,
 "nbformat_minor": 5
}
