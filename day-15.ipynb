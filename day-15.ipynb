{
 "cells": [
  {
   "cell_type": "code",
   "execution_count": 1,
   "id": "8bccd18b",
   "metadata": {},
   "outputs": [],
   "source": [
    "from collections import Counter"
   ]
  },
  {
   "cell_type": "code",
   "execution_count": 2,
   "id": "36d05a13",
   "metadata": {},
   "outputs": [],
   "source": [
    "s = \"boardwayinfosys\""
   ]
  },
  {
   "cell_type": "code",
   "execution_count": 3,
   "id": "5e9545bd",
   "metadata": {},
   "outputs": [
    {
     "data": {
      "text/plain": [
       "Counter({'b': 1,\n",
       "         'o': 2,\n",
       "         'a': 2,\n",
       "         'r': 1,\n",
       "         'd': 1,\n",
       "         'w': 1,\n",
       "         'y': 2,\n",
       "         'i': 1,\n",
       "         'n': 1,\n",
       "         'f': 1,\n",
       "         's': 2})"
      ]
     },
     "execution_count": 3,
     "metadata": {},
     "output_type": "execute_result"
    }
   ],
   "source": [
    "Counter(s)"
   ]
  },
  {
   "cell_type": "code",
   "execution_count": 4,
   "id": "8bffeb95",
   "metadata": {},
   "outputs": [],
   "source": [
    "class MethodTypes:\n",
    "    def __init__(self, name):\n",
    "        self.name= name\n",
    "        def profile(self, address): #object instance \n",
    "            self.address = address\n",
    "            print(f\"my name is {self.name} from {self.address}\")\n",
    "        @classmethod #bulitin decoretor\n",
    "        def clsmethod(cls, value):\n",
    "            self.value= value\n",
    "            print(f\"class method is called with value: {value}\")\n",
    "        @staticmethod\n",
    "        def statemethod(value): # this function can not access any of the above methods because it is not uses any instance of the above methods\n",
    "            print(f\"static method is called with value: {value}\")"
   ]
  },
  {
   "cell_type": "code",
   "execution_count": 5,
   "id": "3bd62ce6",
   "metadata": {},
   "outputs": [],
   "source": [
    "m = MethodTypes('Jhon')"
   ]
  },
  {
   "cell_type": "code",
   "execution_count": 6,
   "id": "66a2e5ff",
   "metadata": {},
   "outputs": [
    {
     "data": {
      "text/plain": [
       "'Jhon'"
      ]
     },
     "execution_count": 6,
     "metadata": {},
     "output_type": "execute_result"
    }
   ],
   "source": [
    "m.name"
   ]
  },
  {
   "cell_type": "code",
   "execution_count": null,
   "id": "fcf94845",
   "metadata": {},
   "outputs": [],
   "source": []
  },
  {
   "cell_type": "code",
   "execution_count": 7,
   "id": "2fdd06ed",
   "metadata": {},
   "outputs": [
    {
     "data": {
      "text/plain": [
       "mappingproxy({'__module__': '__main__',\n",
       "              '__init__': <function __main__.MethodTypes.__init__(self, name)>,\n",
       "              '__dict__': <attribute '__dict__' of 'MethodTypes' objects>,\n",
       "              '__weakref__': <attribute '__weakref__' of 'MethodTypes' objects>,\n",
       "              '__doc__': None})"
      ]
     },
     "execution_count": 7,
     "metadata": {},
     "output_type": "execute_result"
    }
   ],
   "source": [
    "MethodTypes.__dict__"
   ]
  },
  {
   "cell_type": "code",
   "execution_count": 8,
   "id": "f4da4aa8",
   "metadata": {},
   "outputs": [],
   "source": [
    "class Account:\n",
    "    def __init__(self,_type,amount):\n",
    "        self.account_type={'nari_bachat':1000,'student':0}\n",
    "        self._type=_type\n",
    "        if _type not in self.account_type:\n",
    "            raise ValueError(f'unknown account type: {_type}')\n",
    "        self.total_amount=amount      \n",
    "    def deposit(self,value):\n",
    "        print(f'the total value is: {self.total_amount}')\n",
    "        self.total_amount+=value\n",
    "        print(f'the total value is: {self.total_amount}')\n",
    "    def withdraw(self,value):\n",
    "        if value%500!=0:\n",
    "            raise ValueError('amount must be multiple of 500')\n",
    "        if self.total_amount-value>=self.account_type[self._type]:\n",
    "            print(f'the total value is: {self.total_amount}')\n",
    "            self.total_amount=self.total_amount-value\n",
    "            print(f'the total value is: {self.total_amount}')\n",
    "        else:\n",
    "            raise ValueError(\"Insufficient balance\")\n",
    "    def inquery(self):\n",
    "        print(f\"total blnc is: {self.total_amount}\")\n",
    "                             "
   ]
  },
  {
   "cell_type": "code",
   "execution_count": 9,
   "id": "b8981c1a",
   "metadata": {},
   "outputs": [],
   "source": [
    "sita=Account('nari_bachat',500000)"
   ]
  },
  {
   "cell_type": "code",
   "execution_count": 10,
   "id": "7babfe9b",
   "metadata": {},
   "outputs": [
    {
     "ename": "ValueError",
     "evalue": "unknown account type: nari",
     "output_type": "error",
     "traceback": [
      "\u001b[1;31m---------------------------------------------------------------------------\u001b[0m",
      "\u001b[1;31mValueError\u001b[0m                                Traceback (most recent call last)",
      "\u001b[1;32m<ipython-input-10-16a542b803a5>\u001b[0m in \u001b[0;36m<module>\u001b[1;34m\u001b[0m\n\u001b[1;32m----> 1\u001b[1;33m \u001b[0msita\u001b[0m\u001b[1;33m=\u001b[0m\u001b[0mAccount\u001b[0m\u001b[1;33m(\u001b[0m\u001b[1;34m'nari'\u001b[0m\u001b[1;33m,\u001b[0m\u001b[1;36m500000\u001b[0m\u001b[1;33m)\u001b[0m \u001b[1;31m#account type should be matched\u001b[0m\u001b[1;33m\u001b[0m\u001b[1;33m\u001b[0m\u001b[0m\n\u001b[0m",
      "\u001b[1;32m<ipython-input-8-c25fa688ed5e>\u001b[0m in \u001b[0;36m__init__\u001b[1;34m(self, _type, amount)\u001b[0m\n\u001b[0;32m      4\u001b[0m         \u001b[0mself\u001b[0m\u001b[1;33m.\u001b[0m\u001b[0m_type\u001b[0m\u001b[1;33m=\u001b[0m\u001b[0m_type\u001b[0m\u001b[1;33m\u001b[0m\u001b[1;33m\u001b[0m\u001b[0m\n\u001b[0;32m      5\u001b[0m         \u001b[1;32mif\u001b[0m \u001b[0m_type\u001b[0m \u001b[1;32mnot\u001b[0m \u001b[1;32min\u001b[0m \u001b[0mself\u001b[0m\u001b[1;33m.\u001b[0m\u001b[0maccount_type\u001b[0m\u001b[1;33m:\u001b[0m\u001b[1;33m\u001b[0m\u001b[1;33m\u001b[0m\u001b[0m\n\u001b[1;32m----> 6\u001b[1;33m             \u001b[1;32mraise\u001b[0m \u001b[0mValueError\u001b[0m\u001b[1;33m(\u001b[0m\u001b[1;34mf'unknown account type: {_type}'\u001b[0m\u001b[1;33m)\u001b[0m\u001b[1;33m\u001b[0m\u001b[1;33m\u001b[0m\u001b[0m\n\u001b[0m\u001b[0;32m      7\u001b[0m         \u001b[0mself\u001b[0m\u001b[1;33m.\u001b[0m\u001b[0mtotal_amount\u001b[0m\u001b[1;33m=\u001b[0m\u001b[0mamount\u001b[0m\u001b[1;33m\u001b[0m\u001b[1;33m\u001b[0m\u001b[0m\n\u001b[0;32m      8\u001b[0m     \u001b[1;32mdef\u001b[0m \u001b[0mdeposit\u001b[0m\u001b[1;33m(\u001b[0m\u001b[0mself\u001b[0m\u001b[1;33m,\u001b[0m\u001b[0mvalue\u001b[0m\u001b[1;33m)\u001b[0m\u001b[1;33m:\u001b[0m\u001b[1;33m\u001b[0m\u001b[1;33m\u001b[0m\u001b[0m\n",
      "\u001b[1;31mValueError\u001b[0m: unknown account type: nari"
     ]
    }
   ],
   "source": [
    "sita=Account('nari',500000) #account type should be matched"
   ]
  },
  {
   "cell_type": "code",
   "execution_count": 11,
   "id": "2f02d9b4",
   "metadata": {},
   "outputs": [
    {
     "name": "stdout",
     "output_type": "stream",
     "text": [
      "enter the account name: nari_bachat\n",
      "Enter the account type (valid account types are: nari_bachat,student): nari_bachat\n",
      "Enter the amount:4\n",
      "1. deposite\n",
      "2. withdraw\n",
      "3. inquery\n",
      "4. Exit\n",
      "choose any option from above: 4\n"
     ]
    }
   ],
   "source": [
    "try:\n",
    "    name=input(\"enter the account name: \")\n",
    "    act_type=input('Enter the account type (valid account types are: nari_bachat,student): ')\n",
    "    valid_type=['nari_bachat','student']\n",
    "    if act_type not in valid_type:\n",
    "        raise ValueError(\"Invaid account type\")\n",
    "    amount=int(input('Enter the amount:'))\n",
    "    name=Account(act_type,amount)\n",
    "except ValueError as e:\n",
    "    print(e)\n",
    "\n",
    "else:\n",
    "    while True:\n",
    "        print('1. deposite')\n",
    "        print('2. withdraw')\n",
    "        print('3. inquery')\n",
    "        print('4. Exit')\n",
    "        action=int(input('choose any option from above: '))\n",
    "        valid_action=1,2,3,4\n",
    "        if action not in valid_action:\n",
    "            print(\"invalid option\")\n",
    "            continue\n",
    "        if action==1:\n",
    "            amount=int(input('enter the amount'))\n",
    "            name.deposit(amount)\n",
    "            print(\"amount deposite sucessfully\")\n",
    "        if  action==2:\n",
    "            amount=int(input(\"Enter the amount you want to withdraw(must be multiple of 500):\"))\n",
    "            name.withdraw(amount)\n",
    "            print(\"amount withdraw sucessfully\")\n",
    "            continue\n",
    "        if action==3:\n",
    "            name.inquery()\n",
    "            continue\n",
    "        if action==4:\n",
    "            break\n"
   ]
  },
  {
   "cell_type": "markdown",
   "id": "5581ea9f",
   "metadata": {},
   "source": [
    "# example"
   ]
  },
  {
   "cell_type": "code",
   "execution_count": 12,
   "id": "276219cc",
   "metadata": {},
   "outputs": [],
   "source": [
    "class Employee:\n",
    "    employee_count = 0\n",
    "    def __init__(self, name, salary):\n",
    "        self.name= name\n",
    "        self.salary = salary\n",
    "        Employee.employee_count += 1\n",
    "        \n",
    "    def displayCount(self):\n",
    "        print(f\"The total number of employee are : {Employee.employee_count}\")\n",
    "    \n",
    "    def displayEmployee(self):\n",
    "        print(f\"The employee name is : {self.name} and {self.name}'s salary is : {self.salary}\")\n",
    "        "
   ]
  },
  {
   "cell_type": "code",
   "execution_count": 13,
   "id": "2d900dbd",
   "metadata": {},
   "outputs": [],
   "source": [
    "emp1 = Employee('Kamal', 100000)"
   ]
  },
  {
   "cell_type": "code",
   "execution_count": 14,
   "id": "fafc8fb0",
   "metadata": {},
   "outputs": [
    {
     "name": "stdout",
     "output_type": "stream",
     "text": [
      "The employee name is : Kamal and Kamal's salary is : 100000\n"
     ]
    }
   ],
   "source": [
    "display = emp1.displayEmployee()"
   ]
  },
  {
   "cell_type": "code",
   "execution_count": null,
   "id": "45777cde",
   "metadata": {},
   "outputs": [],
   "source": []
  },
  {
   "cell_type": "code",
   "execution_count": 15,
   "id": "6f2cc79c",
   "metadata": {},
   "outputs": [],
   "source": [
    "count = Employee.employee_count"
   ]
  },
  {
   "cell_type": "code",
   "execution_count": 16,
   "id": "d03e2b0b",
   "metadata": {},
   "outputs": [
    {
     "data": {
      "text/plain": [
       "1"
      ]
     },
     "execution_count": 16,
     "metadata": {},
     "output_type": "execute_result"
    }
   ],
   "source": [
    "count"
   ]
  },
  {
   "cell_type": "code",
   "execution_count": 17,
   "id": "bd61cccc",
   "metadata": {},
   "outputs": [],
   "source": [
    "emp2 = Employee('Ram', 100000)"
   ]
  },
  {
   "cell_type": "code",
   "execution_count": 18,
   "id": "a23ef18b",
   "metadata": {},
   "outputs": [
    {
     "name": "stdout",
     "output_type": "stream",
     "text": [
      "The employee name is : Ram and Ram's salary is : 100000\n"
     ]
    }
   ],
   "source": [
    "emp2.displayEmployee()"
   ]
  },
  {
   "cell_type": "code",
   "execution_count": 19,
   "id": "3f1c36e9",
   "metadata": {},
   "outputs": [
    {
     "data": {
      "text/plain": [
       "1"
      ]
     },
     "execution_count": 19,
     "metadata": {},
     "output_type": "execute_result"
    }
   ],
   "source": [
    "count"
   ]
  },
  {
   "cell_type": "code",
   "execution_count": 215,
   "id": "bfa16d20",
   "metadata": {},
   "outputs": [],
   "source": [
    "class Student:\n",
    "    stdCount = 0\n",
    "    subjects = []\n",
    "    def __init__(self, _id, name, sub):\n",
    "        self._id = _id\n",
    "        self.name = name\n",
    "        self.sub = sub\n",
    "        Student.stdCount += 1\n",
    "        Student.subjects.append(sub)\n",
    "        \n",
    "        \n",
    "    def dispalyStudent(self):\n",
    "        print(f\"Student Id : {self._id},  Student name : {self.name},  Student Choice Subject : {self.sub}\")\n",
    "        \n",
    "    def dispalyCount(self):\n",
    "        print(f\"The Total number of student is : {Student.stdCount}\")\n",
    "    \n",
    "    def displaysub(self):\n",
    "        print(f\"The Total number of subject are : {Student.sub}\")\n",
    "        \n",
    "    def countSub():\n",
    "        subjects = {}\n",
    "        for i in allsubjects:\n",
    "            subjects[i] = subjects.get(i,0) +1\n",
    "        print(f\"The total number of students by Subjects are : {subjects}\")\n",
    "            "
   ]
  },
  {
   "cell_type": "code",
   "execution_count": 199,
   "id": "c01be752",
   "metadata": {},
   "outputs": [],
   "source": [
    "student1 = Student(101, 'Kamal', 'IT')"
   ]
  },
  {
   "cell_type": "code",
   "execution_count": 200,
   "id": "c79ee1bb",
   "metadata": {},
   "outputs": [
    {
     "name": "stdout",
     "output_type": "stream",
     "text": [
      "Student Id : 101,  Student name : Kamal,  Student Choice Subject : IT\n"
     ]
    }
   ],
   "source": [
    "student1.dispalyStudent()"
   ]
  },
  {
   "cell_type": "code",
   "execution_count": 201,
   "id": "795b6fe0",
   "metadata": {},
   "outputs": [],
   "source": [
    "student2 = Student(105, 'Hari', 'IT')"
   ]
  },
  {
   "cell_type": "code",
   "execution_count": 202,
   "id": "701c383e",
   "metadata": {},
   "outputs": [
    {
     "name": "stdout",
     "output_type": "stream",
     "text": [
      "Student Id : 105,  Student name : Hari,  Student Choice Subject : IT\n"
     ]
    }
   ],
   "source": [
    "student2.dispalyStudent()"
   ]
  },
  {
   "cell_type": "code",
   "execution_count": 203,
   "id": "5a8083e4",
   "metadata": {},
   "outputs": [],
   "source": [
    "count = Student.stdCount"
   ]
  },
  {
   "cell_type": "code",
   "execution_count": 204,
   "id": "395b4b45",
   "metadata": {},
   "outputs": [
    {
     "data": {
      "text/plain": [
       "2"
      ]
     },
     "execution_count": 204,
     "metadata": {},
     "output_type": "execute_result"
    }
   ],
   "source": [
    "count"
   ]
  },
  {
   "cell_type": "code",
   "execution_count": 205,
   "id": "1f3da98f",
   "metadata": {},
   "outputs": [],
   "source": [
    "student3 = Student(105, 'Ram', 'MGT')"
   ]
  },
  {
   "cell_type": "code",
   "execution_count": 206,
   "id": "7b0cf062",
   "metadata": {},
   "outputs": [
    {
     "name": "stdout",
     "output_type": "stream",
     "text": [
      "Student Id : 105,  Student name : Ram,  Student Choice Subject : MGT\n"
     ]
    }
   ],
   "source": [
    "student3.dispalyStudent()"
   ]
  },
  {
   "cell_type": "code",
   "execution_count": 207,
   "id": "7835fcdd",
   "metadata": {},
   "outputs": [
    {
     "data": {
      "text/plain": [
       "2"
      ]
     },
     "execution_count": 207,
     "metadata": {},
     "output_type": "execute_result"
    }
   ],
   "source": [
    "count"
   ]
  },
  {
   "cell_type": "code",
   "execution_count": 208,
   "id": "10043839",
   "metadata": {},
   "outputs": [],
   "source": [
    "allsubjects = Student.subjects"
   ]
  },
  {
   "cell_type": "code",
   "execution_count": 209,
   "id": "fa53f396",
   "metadata": {},
   "outputs": [
    {
     "data": {
      "text/plain": [
       "['IT', 'IT', 'MGT']"
      ]
     },
     "execution_count": 209,
     "metadata": {},
     "output_type": "execute_result"
    }
   ],
   "source": [
    "allsubjects"
   ]
  },
  {
   "cell_type": "code",
   "execution_count": 216,
   "id": "2837033e",
   "metadata": {},
   "outputs": [
    {
     "name": "stdout",
     "output_type": "stream",
     "text": [
      "The total number of students by Subjects are : {'IT': 2, 'MGT': 1}\n"
     ]
    }
   ],
   "source": [
    "Student.countSub()"
   ]
  },
  {
   "cell_type": "code",
   "execution_count": null,
   "id": "12644d16",
   "metadata": {},
   "outputs": [],
   "source": [
    "class Student:\n",
    "    marks = []\n",
    "    def getData(self, rn, name, m1, m2, m3):\n",
    "        Student.rn = rn\n",
    "        Student.name = name\n",
    "        Student.marks.append(m1)\n",
    "        Student.marks.append(m2)\n",
    "        Student.marks.append(m3)\n",
    "        \n",
    "    def displayData(self):\n",
    "        print (\"Roll Number is: \", Student.rn)\n",
    "        print (\"Name is: \", Student.name)\n",
    "        print (\"Marks are: \", Student.marks)\n",
    "        print (\"Total Marks are: \", self.total())\n",
    "        print (\"Average Marks are: \", self.average())\n",
    "        \n",
    "    def total(self):\n",
    "        return (Student.marks[0] + Student.marks[1] +Student.marks[2])\n",
    "    \n",
    "    def average(self):\n",
    "        return ((Student.marks[0] + Student.marks[1] +Student.marks[2])/3)\n",
    "    \n",
    "r = int (input(\"Enter the roll number: \"))\n",
    "name = input(\"Enter the name: \")\n",
    "m1 = int (input(\"Enter the marks in first subject: \"))\n",
    "m2 = int (input(\"Enter the marks in second subject: \"))\n",
    "m3 = int (input(\"Enter the marks in third subject: \"))\n",
    "\n",
    "s1 = Student()\n",
    "s1.getData(r, name, m1, m2, m3)\n",
    "s1.displayData()"
   ]
  },
  {
   "cell_type": "code",
   "execution_count": null,
   "id": "26a81085",
   "metadata": {},
   "outputs": [],
   "source": []
  },
  {
   "cell_type": "code",
   "execution_count": null,
   "id": "21840209",
   "metadata": {},
   "outputs": [],
   "source": []
  },
  {
   "cell_type": "code",
   "execution_count": null,
   "id": "cbd5642c",
   "metadata": {},
   "outputs": [],
   "source": []
  }
 ],
 "metadata": {
  "kernelspec": {
   "display_name": "Python 3",
   "language": "python",
   "name": "python3"
  },
  "language_info": {
   "codemirror_mode": {
    "name": "ipython",
    "version": 3
   },
   "file_extension": ".py",
   "mimetype": "text/x-python",
   "name": "python",
   "nbconvert_exporter": "python",
   "pygments_lexer": "ipython3",
   "version": "3.8.8"
  }
 },
 "nbformat": 4,
 "nbformat_minor": 5
}
