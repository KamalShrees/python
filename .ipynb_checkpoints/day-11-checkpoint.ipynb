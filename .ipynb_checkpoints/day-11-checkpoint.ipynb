{
 "cells": [
  {
   "cell_type": "markdown",
   "id": "6c5b28bc",
   "metadata": {},
   "source": [
    "# Decorator (@)"
   ]
  },
  {
   "cell_type": "code",
   "execution_count": 1,
   "id": "4ef304d6",
   "metadata": {},
   "outputs": [],
   "source": [
    "def login(arg):\n",
    "    print(\"login checked\")\n",
    "    return arg"
   ]
  },
  {
   "cell_type": "code",
   "execution_count": 2,
   "id": "aa066353",
   "metadata": {},
   "outputs": [],
   "source": [
    "def purches():\n",
    "    print(\"purches successfully\")"
   ]
  },
  {
   "cell_type": "code",
   "execution_count": 3,
   "id": "e01aaa7d",
   "metadata": {},
   "outputs": [],
   "source": [
    "#decoretor lai argument pass garnu pryo vane kasari garney"
   ]
  },
  {
   "cell_type": "code",
   "execution_count": 9,
   "id": "211936d3",
   "metadata": {},
   "outputs": [],
   "source": [
    "def factorial_recursive(x):\n",
    "    if x < 3:\n",
    "        return x\n",
    "    return x*factorial_recursive(x-1)"
   ]
  },
  {
   "cell_type": "code",
   "execution_count": 10,
   "id": "7b2cb732",
   "metadata": {},
   "outputs": [
    {
     "data": {
      "text/plain": [
       "120"
      ]
     },
     "execution_count": 10,
     "metadata": {},
     "output_type": "execute_result"
    }
   ],
   "source": [
    "factorial_recursive(5)"
   ]
  },
  {
   "cell_type": "code",
   "execution_count": 11,
   "id": "9ac376fc",
   "metadata": {},
   "outputs": [],
   "source": [
    "def factorial_loop(n):\n",
    "    a=1\n",
    "    for i in range(2, n+1):\n",
    "        a=a*i\n",
    "    return a"
   ]
  },
  {
   "cell_type": "code",
   "execution_count": 12,
   "id": "18c1d0f0",
   "metadata": {},
   "outputs": [
    {
     "data": {
      "text/plain": [
       "120"
      ]
     },
     "execution_count": 12,
     "metadata": {},
     "output_type": "execute_result"
    }
   ],
   "source": [
    "factorial_loop(5)"
   ]
  },
  {
   "cell_type": "code",
   "execution_count": 29,
   "id": "4fc5deb1",
   "metadata": {},
   "outputs": [
    {
     "ename": "SyntaxError",
     "evalue": "invalid syntax (<ipython-input-29-bdabb125a1fb>, line 4)",
     "output_type": "error",
     "traceback": [
      "\u001b[1;36m  File \u001b[1;32m\"<ipython-input-29-bdabb125a1fb>\"\u001b[1;36m, line \u001b[1;32m4\u001b[0m\n\u001b[1;33m    time.f()\u001b[0m\n\u001b[1;37m    ^\u001b[0m\n\u001b[1;31mSyntaxError\u001b[0m\u001b[1;31m:\u001b[0m invalid syntax\n"
     ]
    }
   ],
   "source": [
    "import time\n",
    "def timer(f):\n",
    "    @wraps(f)\n",
    "    def inner(*args, **kwargs):\n",
    "        start_time = time.perf_counter()\n",
    "        \n",
    "        "
   ]
  },
  {
   "cell_type": "code",
   "execution_count": 30,
   "id": "1899229f",
   "metadata": {},
   "outputs": [
    {
     "ename": "TypeError",
     "evalue": "factorial_recursive() missing 1 required positional argument: 'x'",
     "output_type": "error",
     "traceback": [
      "\u001b[1;31m---------------------------------------------------------------------------\u001b[0m",
      "\u001b[1;31mTypeError\u001b[0m                                 Traceback (most recent call last)",
      "\u001b[1;32m<ipython-input-30-f226d0ddbd2c>\u001b[0m in \u001b[0;36m<module>\u001b[1;34m\u001b[0m\n\u001b[0;32m      1\u001b[0m \u001b[1;33m@\u001b[0m\u001b[0mtimer\u001b[0m\u001b[1;33m\u001b[0m\u001b[1;33m\u001b[0m\u001b[0m\n\u001b[1;32m----> 2\u001b[1;33m \u001b[1;32mdef\u001b[0m \u001b[0mfactorial_recursive\u001b[0m\u001b[1;33m(\u001b[0m\u001b[0mx\u001b[0m\u001b[1;33m)\u001b[0m\u001b[1;33m:\u001b[0m\u001b[1;33m\u001b[0m\u001b[1;33m\u001b[0m\u001b[0m\n\u001b[0m\u001b[0;32m      3\u001b[0m     \u001b[1;32mif\u001b[0m \u001b[0mx\u001b[0m \u001b[1;33m<\u001b[0m \u001b[1;36m3\u001b[0m\u001b[1;33m:\u001b[0m\u001b[1;33m\u001b[0m\u001b[1;33m\u001b[0m\u001b[0m\n\u001b[0;32m      4\u001b[0m         \u001b[1;32mreturn\u001b[0m \u001b[0mx\u001b[0m\u001b[1;33m\u001b[0m\u001b[1;33m\u001b[0m\u001b[0m\n\u001b[0;32m      5\u001b[0m     \u001b[1;32mreturn\u001b[0m \u001b[0mx\u001b[0m\u001b[1;33m*\u001b[0m\u001b[0mfactorial_recursive\u001b[0m\u001b[1;33m(\u001b[0m\u001b[0mx\u001b[0m\u001b[1;33m-\u001b[0m\u001b[1;36m1\u001b[0m\u001b[1;33m)\u001b[0m\u001b[1;33m\u001b[0m\u001b[1;33m\u001b[0m\u001b[0m\n",
      "\u001b[1;32m<ipython-input-26-a685ac45e3b7>\u001b[0m in \u001b[0;36mtimer\u001b[1;34m(f)\u001b[0m\n\u001b[0;32m      1\u001b[0m \u001b[1;32mimport\u001b[0m \u001b[0mtime\u001b[0m\u001b[1;33m\u001b[0m\u001b[1;33m\u001b[0m\u001b[0m\n\u001b[0;32m      2\u001b[0m \u001b[1;32mdef\u001b[0m \u001b[0mtimer\u001b[0m\u001b[1;33m(\u001b[0m\u001b[0mf\u001b[0m\u001b[1;33m)\u001b[0m\u001b[1;33m:\u001b[0m\u001b[1;33m\u001b[0m\u001b[1;33m\u001b[0m\u001b[0m\n\u001b[1;32m----> 3\u001b[1;33m     \u001b[1;32mreturn\u001b[0m \u001b[0mf\u001b[0m\u001b[1;33m(\u001b[0m\u001b[1;33m)\u001b[0m\u001b[1;33m\u001b[0m\u001b[1;33m\u001b[0m\u001b[0m\n\u001b[0m\u001b[0;32m      4\u001b[0m \u001b[1;33m\u001b[0m\u001b[0m\n\u001b[0;32m      5\u001b[0m \u001b[1;33m\u001b[0m\u001b[0m\n",
      "\u001b[1;31mTypeError\u001b[0m: factorial_recursive() missing 1 required positional argument: 'x'"
     ]
    }
   ],
   "source": [
    "@timer\n",
    "def factorial_recursive(x):\n",
    "    if x < 3:\n",
    "        return x\n",
    "    return x*factorial_recursive(x-1)"
   ]
  },
  {
   "cell_type": "code",
   "execution_count": 28,
   "id": "6e8b3e38",
   "metadata": {},
   "outputs": [],
   "source": [
    "# phebonia seris and prime numbers (using recursion and iteration method)"
   ]
  },
  {
   "cell_type": "code",
   "execution_count": null,
   "id": "0814be19",
   "metadata": {},
   "outputs": [],
   "source": []
  }
 ],
 "metadata": {
  "kernelspec": {
   "display_name": "Python 3",
   "language": "python",
   "name": "python3"
  },
  "language_info": {
   "codemirror_mode": {
    "name": "ipython",
    "version": 3
   },
   "file_extension": ".py",
   "mimetype": "text/x-python",
   "name": "python",
   "nbconvert_exporter": "python",
   "pygments_lexer": "ipython3",
   "version": "3.8.8"
  }
 },
 "nbformat": 4,
 "nbformat_minor": 5
}
