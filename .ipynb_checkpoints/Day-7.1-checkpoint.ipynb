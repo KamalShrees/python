{
 "cells": [
  {
   "cell_type": "code",
   "execution_count": 1,
   "id": "45a6b4a9",
   "metadata": {},
   "outputs": [],
   "source": [
    "tdict = {'one': 1, 'two': 2}"
   ]
  },
  {
   "cell_type": "code",
   "execution_count": 3,
   "id": "5dc1fddb",
   "metadata": {},
   "outputs": [
    {
     "data": {
      "text/plain": [
       "2"
      ]
     },
     "execution_count": 3,
     "metadata": {},
     "output_type": "execute_result"
    }
   ],
   "source": [
    "tdict['two']"
   ]
  },
  {
   "cell_type": "code",
   "execution_count": 4,
   "id": "e6070842",
   "metadata": {},
   "outputs": [],
   "source": [
    "a =[1,2,3,4,5]"
   ]
  },
  {
   "cell_type": "code",
   "execution_count": 5,
   "id": "73726a37",
   "metadata": {},
   "outputs": [],
   "source": [
    "b= [5,6,7,8,9]"
   ]
  },
  {
   "cell_type": "code",
   "execution_count": 7,
   "id": "701d565a",
   "metadata": {},
   "outputs": [
    {
     "name": "stdout",
     "output_type": "stream",
     "text": [
      "(1, 5) 6\n",
      "(2, 6) 8\n",
      "(3, 7) 10\n",
      "(4, 8) 12\n",
      "(5, 9) 14\n"
     ]
    }
   ],
   "source": [
    "for i in zip(a,b):\n",
    "    print(i, sum(i))"
   ]
  },
  {
   "cell_type": "code",
   "execution_count": 9,
   "id": "a7786e66",
   "metadata": {},
   "outputs": [
    {
     "data": {
      "text/plain": [
       "{1: 5, 2: 6, 3: 7, 4: 8, 5: 9}"
      ]
     },
     "execution_count": 9,
     "metadata": {},
     "output_type": "execute_result"
    }
   ],
   "source": [
    "dict(zip(a,b))"
   ]
  },
  {
   "cell_type": "code",
   "execution_count": 10,
   "id": "7367ffad",
   "metadata": {},
   "outputs": [],
   "source": [
    "d=dict(zip(a,b))"
   ]
  },
  {
   "cell_type": "code",
   "execution_count": 12,
   "id": "9d4801a0",
   "metadata": {},
   "outputs": [],
   "source": [
    "result=d.items()"
   ]
  },
  {
   "cell_type": "code",
   "execution_count": 13,
   "id": "872f5510",
   "metadata": {},
   "outputs": [
    {
     "data": {
      "text/plain": [
       "dict_items([(1, 5), (2, 6), (3, 7), (4, 8), (5, 9)])"
      ]
     },
     "execution_count": 13,
     "metadata": {},
     "output_type": "execute_result"
    }
   ],
   "source": [
    "result"
   ]
  },
  {
   "cell_type": "code",
   "execution_count": 14,
   "id": "26794433",
   "metadata": {},
   "outputs": [
    {
     "data": {
      "text/plain": [
       "{1: 5, 2: 6, 3: 7, 4: 8, 5: 9}"
      ]
     },
     "execution_count": 14,
     "metadata": {},
     "output_type": "execute_result"
    }
   ],
   "source": [
    "dict(result)"
   ]
  },
  {
   "cell_type": "code",
   "execution_count": null,
   "id": "42fb2f9e",
   "metadata": {},
   "outputs": [],
   "source": []
  }
 ],
 "metadata": {
  "kernelspec": {
   "display_name": "Python 3",
   "language": "python",
   "name": "python3"
  },
  "language_info": {
   "codemirror_mode": {
    "name": "ipython",
    "version": 3
   },
   "file_extension": ".py",
   "mimetype": "text/x-python",
   "name": "python",
   "nbconvert_exporter": "python",
   "pygments_lexer": "ipython3",
   "version": "3.8.8"
  }
 },
 "nbformat": 4,
 "nbformat_minor": 5
}
