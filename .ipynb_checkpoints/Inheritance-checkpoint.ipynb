{
 "cells": [
  {
   "cell_type": "code",
   "execution_count": 1,
   "metadata": {},
   "outputs": [],
   "source": [
    "class Base:\n",
    "    def __init__(self,value):\n",
    "        self.value=value\n",
    "        print('Ase class __init__ is called')\n",
    "    def info(self):\n",
    "        print(f'Base.info:{self.value}')\n",
    "        \n",
    "class A(Base):\n",
    "    def __init__(self,value):\n",
    "        self.value=value\n",
    "        print('A class __init__ is called')\n",
    "    def info(self):\n",
    "        print(f'A.info: {self.value}')\n",
    "\n",
    "class B(Base):\n",
    "    def __init__(self,value):\n",
    "        self.value=value\n",
    "        print('B class __init__ is called')\n",
    "    def info(self):\n",
    "        print(f'B.info: {self.value}')\n",
    "        \n",
    "class C(A,B):\n",
    "    def __init__(self,value):\n",
    "        self.value=value\n",
    "        print('C class __init__ is called')\n",
    "    def info(self):\n",
    "        print(f'C.info: {self.value}')"
   ]
  },
  {
   "cell_type": "code",
   "execution_count": 2,
   "metadata": {},
   "outputs": [
    {
     "name": "stdout",
     "output_type": "stream",
     "text": [
      "C class __init__ is called\n"
     ]
    }
   ],
   "source": [
    "c=C('python')"
   ]
  },
  {
   "cell_type": "code",
   "execution_count": 3,
   "metadata": {},
   "outputs": [
    {
     "name": "stdout",
     "output_type": "stream",
     "text": [
      "C.info: python\n"
     ]
    }
   ],
   "source": [
    "c.info()"
   ]
  },
  {
   "cell_type": "code",
   "execution_count": 4,
   "metadata": {},
   "outputs": [],
   "source": [
    "class Base:\n",
    "    def __init__(self,value):\n",
    "        self.value=value\n",
    "        print('Ase class __init__ is called')\n",
    "    def info(self):\n",
    "        print(f'Base.info:{self.value}')\n",
    "    def info_base(self):\n",
    "        print(f'Base.info_Base: {self.value}')\n",
    "        \n",
    "class A(Base):\n",
    "    def __init__(self,value):\n",
    "        self.value=value\n",
    "        print('A class __init__ is called')\n",
    "    def info(self):\n",
    "        print(f'A.info: {self.value}')\n",
    "    def info_A(self):\n",
    "        print(f'A.info_Base: {self.value}')\n",
    "\n",
    "class B(Base):\n",
    "    def __init__(self,value):\n",
    "        self.value=value\n",
    "        print('B class __init__ is called')\n",
    "    def info(self):\n",
    "        print(f'B.info: {self.value}')\n",
    "    def info_b(self):\n",
    "        print(f'B.info_Base: {self.value}')\n",
    "        \n",
    "class C(A,B):\n",
    "    def __init__(self,value):\n",
    "        self.value=value\n",
    "        print('C class __init__ is called')\n",
    "    def info(self):\n",
    "        print(f'C.info: {self.value}')"
   ]
  },
  {
   "cell_type": "code",
   "execution_count": 5,
   "metadata": {},
   "outputs": [
    {
     "name": "stdout",
     "output_type": "stream",
     "text": [
      "C class __init__ is called\n",
      "Base.info_Base: python\n"
     ]
    }
   ],
   "source": [
    "c=C('python')\n",
    "c.info_base()   #Base class ko call vai rako xa"
   ]
  },
  {
   "cell_type": "code",
   "execution_count": 6,
   "metadata": {},
   "outputs": [],
   "source": [
    "class Base:\n",
    "    def __init__(self,value):\n",
    "        self.value=value\n",
    "        print('Ase class __init__ is called')\n",
    "    def info(self):\n",
    "        print(f'Base.info:{self.value}')\n",
    "    def info_base(self):\n",
    "        print(f'Base.info_Base: {self.value}')\n",
    "        \n",
    "class A(Base):\n",
    "    def __init__(self,value):\n",
    "        self.value=value\n",
    "        print('A class __init__ is called')\n",
    "    def info(self):\n",
    "        print(f'A.info: {self.value}')\n",
    "    def info_A(self):\n",
    "        print(f'A.info_Base: {self.value}')\n",
    "\n",
    "class B(Base):\n",
    "    def __init__(self,value):\n",
    "        self.value=value\n",
    "        print('B class __init__ is called')\n",
    "    def info(self):\n",
    "        print(f'B.info: {self.value}')\n",
    "    def info_b(self):\n",
    "        print(f'B.info_Base: {self.value}')\n",
    "        \n",
    "class C(A,B):\n",
    "    def __init__(self,value):\n",
    "        self.value=value\n",
    "        print('C class __init__ is called')\n",
    "    \n",
    "        "
   ]
  },
  {
   "cell_type": "code",
   "execution_count": 7,
   "metadata": {},
   "outputs": [
    {
     "name": "stdout",
     "output_type": "stream",
     "text": [
      "C class __init__ is called\n"
     ]
    }
   ],
   "source": [
    "c=C('python')"
   ]
  },
  {
   "cell_type": "code",
   "execution_count": 8,
   "metadata": {},
   "outputs": [
    {
     "data": {
      "text/plain": [
       "(__main__.C, __main__.A, __main__.B, __main__.Base, object)"
      ]
     },
     "execution_count": 8,
     "metadata": {},
     "output_type": "execute_result"
    }
   ],
   "source": [
    "C.__mro__  #python ma inbuild method resultion order xa tesko aadar ma check hunxa  "
   ]
  },
  {
   "cell_type": "code",
   "execution_count": 9,
   "metadata": {},
   "outputs": [],
   "source": [
    "class Base:\n",
    "    def __init__(self,xyz):\n",
    "        self.xyz=xyz\n",
    "        print('Ase class __init__ is called')\n",
    "    def info(self):\n",
    "        print(f'Base.info:{self.xyz}')\n",
    "    def info_base(self):\n",
    "        print(f'Base.info_Base: {self.xyz}')\n",
    "        \n",
    "class A(Base):\n",
    "    def __init__(self,abc):\n",
    "        self.abc=abc\n",
    "        print('A class __init__ is called')\n",
    "    def info(self):\n",
    "        print(f'A.info: {self.abc}')\n",
    "    def info_A(self):\n",
    "        print(f'A.info_Base: {self.abc}')\n",
    "\n",
    "class B(Base):\n",
    "    def __init__(self,i):\n",
    "        self.i=i\n",
    "        print('B class __init__ is called')\n",
    "    def info(self):\n",
    "        print(f'B.info: {self.i}')\n",
    "    def info_b(self):\n",
    "        print(f'B.info_Base: {self.i}')\n",
    "        \n",
    "class C(A,B):\n",
    "    def __init__(self,value):\n",
    "        self.value=value\n",
    "        print('C class __init__ is called')\n",
    "    \n",
    "        "
   ]
  },
  {
   "cell_type": "code",
   "execution_count": 10,
   "metadata": {},
   "outputs": [
    {
     "name": "stdout",
     "output_type": "stream",
     "text": [
      "C class __init__ is called\n"
     ]
    }
   ],
   "source": [
    "c=C('python')"
   ]
  },
  {
   "cell_type": "code",
   "execution_count": 15,
   "metadata": {},
   "outputs": [
    {
     "ename": "AttributeError",
     "evalue": "'C' object has no attribute 'abc'",
     "output_type": "error",
     "traceback": [
      "\u001b[1;31m---------------------------------------------------------------------------\u001b[0m",
      "\u001b[1;31mAttributeError\u001b[0m                            Traceback (most recent call last)",
      "\u001b[1;32m<ipython-input-15-f4024a004a5c>\u001b[0m in \u001b[0;36m<module>\u001b[1;34m\u001b[0m\n\u001b[1;32m----> 1\u001b[1;33m \u001b[0mc\u001b[0m\u001b[1;33m.\u001b[0m\u001b[0minfo\u001b[0m\u001b[1;33m(\u001b[0m\u001b[1;33m)\u001b[0m \u001b[1;31m#a class ma variable abc xa jun chai c class ma xaina tei vayerw override vayena\u001b[0m\u001b[1;33m\u001b[0m\u001b[1;33m\u001b[0m\u001b[0m\n\u001b[0m",
      "\u001b[1;32m<ipython-input-12-c20c7329f743>\u001b[0m in \u001b[0;36minfo\u001b[1;34m(self)\u001b[0m\n\u001b[0;32m     13\u001b[0m         \u001b[0mprint\u001b[0m\u001b[1;33m(\u001b[0m\u001b[1;34m'A class __init__ is called'\u001b[0m\u001b[1;33m)\u001b[0m\u001b[1;33m\u001b[0m\u001b[1;33m\u001b[0m\u001b[0m\n\u001b[0;32m     14\u001b[0m     \u001b[1;32mdef\u001b[0m \u001b[0minfo\u001b[0m\u001b[1;33m(\u001b[0m\u001b[0mself\u001b[0m\u001b[1;33m)\u001b[0m\u001b[1;33m:\u001b[0m\u001b[1;33m\u001b[0m\u001b[1;33m\u001b[0m\u001b[0m\n\u001b[1;32m---> 15\u001b[1;33m         \u001b[0mprint\u001b[0m\u001b[1;33m(\u001b[0m\u001b[1;34mf'A.info: {self.abc}'\u001b[0m\u001b[1;33m)\u001b[0m\u001b[1;33m\u001b[0m\u001b[1;33m\u001b[0m\u001b[0m\n\u001b[0m\u001b[0;32m     16\u001b[0m     \u001b[1;32mdef\u001b[0m \u001b[0minfo_A\u001b[0m\u001b[1;33m(\u001b[0m\u001b[0mself\u001b[0m\u001b[1;33m)\u001b[0m\u001b[1;33m:\u001b[0m\u001b[1;33m\u001b[0m\u001b[1;33m\u001b[0m\u001b[0m\n\u001b[0;32m     17\u001b[0m         \u001b[0mprint\u001b[0m\u001b[1;33m(\u001b[0m\u001b[1;34mf'A.info_Base: {self.abc}'\u001b[0m\u001b[1;33m)\u001b[0m\u001b[1;33m\u001b[0m\u001b[1;33m\u001b[0m\u001b[0m\n",
      "\u001b[1;31mAttributeError\u001b[0m: 'C' object has no attribute 'abc'"
     ]
    }
   ],
   "source": [
    "c.info() #a class ma variable abc xa jun chai c class ma xaina tei vayerw override vayena"
   ]
  },
  {
   "cell_type": "raw",
   "metadata": {},
   "source": [
    "child class ley parent class lai afu vitra call gareko xa"
   ]
  },
  {
   "cell_type": "code",
   "execution_count": 11,
   "metadata": {},
   "outputs": [],
   "source": [
    "class Base:\n",
    "    def __init__(self,xyz):\n",
    "        self.xyz=xyz\n",
    "        print('Ase class __init__ is called')\n",
    "    def info(self):\n",
    "        print(f'Base.info:{self.xyz}')\n",
    "    def info_base(self):\n",
    "        print(f'Base.info_Base: {self.xyz}')\n",
    "        \n",
    "class A(Base):\n",
    "    def __init__(self,abc):\n",
    "        self.abc=abc\n",
    "        Base.__init__(self,self.value)\n",
    "        print('A class __init__ is called')\n",
    "    def info(self):\n",
    "        print(f'A.info: {self.abc}')\n",
    "    def info_A(self):\n",
    "        print(f'A.info_Base: {self.abc}')\n",
    "\n",
    "class B(Base):\n",
    "    def __init__(self,i):\n",
    "        self.i=i\n",
    "        Base.__init__(self,self.value)\n",
    "        print('B class __init__ is called')\n",
    "    def info(self):\n",
    "        print(f'B.info: {self.i}')\n",
    "    def info_b(self):\n",
    "        print(f'B.info_Base: {self.i}')\n",
    "        \n",
    "class C(A,B):\n",
    "    def __init__(self,value):\n",
    "        self.value=value\n",
    "        B.__init__(self,self.value)\n",
    "        A.__init__(self,self.value)\n",
    "        print('C class __init__ is called')"
   ]
  },
  {
   "cell_type": "code",
   "execution_count": 12,
   "metadata": {},
   "outputs": [
    {
     "name": "stdout",
     "output_type": "stream",
     "text": [
      "Ase class __init__ is called\n",
      "B class __init__ is called\n",
      "Ase class __init__ is called\n",
      "A class __init__ is called\n",
      "C class __init__ is called\n"
     ]
    }
   ],
   "source": [
    "c=C('python') #base class 2 choti call vayo ni teslai resolve garna ko lagi k garna sakinxa ta"
   ]
  },
  {
   "cell_type": "code",
   "execution_count": 13,
   "metadata": {},
   "outputs": [],
   "source": [
    "class Base:\n",
    "    def __init__(self,value):\n",
    "        self.value=value\n",
    "        print('Ase class __init__ is called')\n",
    "    def info(self):\n",
    "        print(f'Base.info:{self.value}')\n",
    "        \n",
    "class A(Base):\n",
    "    def __init__(self,value):\n",
    "        self.value=value\n",
    "        super().__init__(self.value)\n",
    "        print('A class __init__ is called')\n",
    "    def info(self):\n",
    "        print(f'A.info: {self.value}')\n",
    "\n",
    "class B(Base):\n",
    "    def __init__(self,value):\n",
    "        self.value=value\n",
    "        super().__init__(self.value)\n",
    "        print('B class __init__ is called')\n",
    "    def info(self):\n",
    "        print(f'B.info: {self.value}')\n",
    "        \n",
    "class C(B,A):\n",
    "    def __init__(self,value):\n",
    "        self.value=value\n",
    "        super().__init__(self.value)\n",
    "        print('C class __init__ is called')\n",
    "    def info(self):\n",
    "        print(f'C.info: {self.value}')"
   ]
  },
  {
   "cell_type": "code",
   "execution_count": 14,
   "metadata": {},
   "outputs": [
    {
     "name": "stdout",
     "output_type": "stream",
     "text": [
      "Ase class __init__ is called\n",
      "A class __init__ is called\n",
      "B class __init__ is called\n",
      "C class __init__ is called\n"
     ]
    }
   ],
   "source": [
    "c=C('python')"
   ]
  },
  {
   "cell_type": "code",
   "execution_count": 15,
   "metadata": {},
   "outputs": [
    {
     "data": {
      "text/plain": [
       "(__main__.C, __main__.B, __main__.A, __main__.Base, object)"
      ]
     },
     "execution_count": 15,
     "metadata": {},
     "output_type": "execute_result"
    }
   ],
   "source": [
    "C.__mro__"
   ]
  },
  {
   "cell_type": "code",
   "execution_count": null,
   "metadata": {},
   "outputs": [],
   "source": []
  }
 ],
 "metadata": {
  "kernelspec": {
   "display_name": "Python 3",
   "language": "python",
   "name": "python3"
  },
  "language_info": {
   "codemirror_mode": {
    "name": "ipython",
    "version": 3
   },
   "file_extension": ".py",
   "mimetype": "text/x-python",
   "name": "python",
   "nbconvert_exporter": "python",
   "pygments_lexer": "ipython3",
   "version": "3.8.8"
  }
 },
 "nbformat": 4,
 "nbformat_minor": 4
}
