{
 "cells": [
  {
   "cell_type": "markdown",
   "id": "9767dc10",
   "metadata": {},
   "source": [
    "# Descriptor"
   ]
  },
  {
   "cell_type": "code",
   "execution_count": 1,
   "id": "a21fc07d",
   "metadata": {},
   "outputs": [],
   "source": [
    "# get, set, del\n",
    "# get - non dada descr\n",
    "# set, del - data descr"
   ]
  },
  {
   "cell_type": "code",
   "execution_count": 59,
   "id": "6abc33b0",
   "metadata": {},
   "outputs": [],
   "source": [
    "class String:\n",
    "    def __init__(self, name=''):\n",
    "        self.name = name\n",
    "    def __get__(self, obj, objtype):\n",
    "        return f\" {self.name}\"\n",
    "    def __set__(self, obj, name):\n",
    "        if not isinstance(name, str):\n",
    "            raise ValueError(\"Value must be string\")\n",
    "        self.name = name\n",
    "    def __delete__(self):\n",
    "        raise AttributeError(f\"value cant be removed\")"
   ]
  },
  {
   "cell_type": "code",
   "execution_count": 60,
   "id": "e4634938",
   "metadata": {},
   "outputs": [],
   "source": [
    "name = String()"
   ]
  },
  {
   "cell_type": "code",
   "execution_count": 61,
   "id": "e9b8ba09",
   "metadata": {},
   "outputs": [
    {
     "data": {
      "text/plain": [
       "<__main__.String at 0x24667bfd6a0>"
      ]
     },
     "execution_count": 61,
     "metadata": {},
     "output_type": "execute_result"
    }
   ],
   "source": [
    "name"
   ]
  },
  {
   "cell_type": "code",
   "execution_count": 62,
   "id": "3033cb06",
   "metadata": {},
   "outputs": [],
   "source": [
    "class Profile:\n",
    "    name = String(name = 'python')\n",
    "    age = 22"
   ]
  },
  {
   "cell_type": "code",
   "execution_count": 63,
   "id": "2efcc48a",
   "metadata": {},
   "outputs": [],
   "source": [
    "p = Profile()"
   ]
  },
  {
   "cell_type": "code",
   "execution_count": 64,
   "id": "5f01b494",
   "metadata": {},
   "outputs": [
    {
     "data": {
      "text/plain": [
       "' python'"
      ]
     },
     "execution_count": 64,
     "metadata": {},
     "output_type": "execute_result"
    }
   ],
   "source": [
    "p.name"
   ]
  },
  {
   "cell_type": "code",
   "execution_count": 65,
   "id": "b974e5df",
   "metadata": {},
   "outputs": [
    {
     "data": {
      "text/plain": [
       "22"
      ]
     },
     "execution_count": 65,
     "metadata": {},
     "output_type": "execute_result"
    }
   ],
   "source": [
    "p.age"
   ]
  },
  {
   "cell_type": "code",
   "execution_count": 66,
   "id": "d2545380",
   "metadata": {},
   "outputs": [],
   "source": [
    "class Profile:\n",
    "    first_name = String()\n",
    "    last_name = String()\n",
    "    age = ()\n",
    "    @property # builtin descr and works like get\n",
    "    def full_name(self):\n",
    "        return f\"{self.first_name} {self.last_name}\".title()\n",
    "    "
   ]
  },
  {
   "cell_type": "code",
   "execution_count": 54,
   "id": "0b9f2bfe",
   "metadata": {},
   "outputs": [],
   "source": [
    "p= Profile()\n"
   ]
  },
  {
   "cell_type": "code",
   "execution_count": 55,
   "id": "61d06611",
   "metadata": {},
   "outputs": [],
   "source": [
    "p.first_name = \"Hari\""
   ]
  },
  {
   "cell_type": "code",
   "execution_count": 56,
   "id": "6846e87b",
   "metadata": {},
   "outputs": [],
   "source": [
    "p.last_name = \"Nepal\""
   ]
  },
  {
   "cell_type": "code",
   "execution_count": 57,
   "id": "78767746",
   "metadata": {},
   "outputs": [
    {
     "data": {
      "text/plain": [
       "' Hari  Nepal'"
      ]
     },
     "execution_count": 57,
     "metadata": {},
     "output_type": "execute_result"
    }
   ],
   "source": [
    "p.full_name"
   ]
  },
  {
   "cell_type": "code",
   "execution_count": 67,
   "id": "39d3a017",
   "metadata": {},
   "outputs": [],
   "source": [
    "class Integer:\n",
    "    def __init__(self, num):\n",
    "        self._num =num\n",
    "    @property\n",
    "    def num(self):\n",
    "        return slef._num\n",
    "    @num.setter\n",
    "    def num(self, value):\n",
    "        if not isinstance(value, int):\n",
    "            raise ValueError(\"Value must be number\")\n",
    "        self._num = value\n",
    "    @num .deleter\n",
    "    def num(self):\n",
    "        raise AttributeError(f\"Value cant be removed\")"
   ]
  },
  {
   "cell_type": "code",
   "execution_count": 68,
   "id": "a805603d",
   "metadata": {},
   "outputs": [],
   "source": [
    "class String:\n",
    "    def __init__(self, name=''):\n",
    "        self.name=name\n",
    "    def setvalue(self, value):\n",
    "        if not isinstance(value,str):\n",
    "            raise ValueError(\"Value must be str\")\n",
    "        self.name = value\n",
    "    def getvalue(self):\n",
    "        return self.name\n",
    "    property(fget=getvalue, fset=setvalue)"
   ]
  },
  {
   "cell_type": "code",
   "execution_count": 69,
   "id": "aa25dc5a",
   "metadata": {},
   "outputs": [],
   "source": [
    "s= String()"
   ]
  },
  {
   "cell_type": "code",
   "execution_count": 70,
   "id": "f452af21",
   "metadata": {},
   "outputs": [],
   "source": [
    "s=43"
   ]
  },
  {
   "cell_type": "code",
   "execution_count": 71,
   "id": "0aca6a60",
   "metadata": {},
   "outputs": [],
   "source": [
    "class Profile:\n",
    "    firstname = String()"
   ]
  },
  {
   "cell_type": "code",
   "execution_count": 72,
   "id": "e3021df7",
   "metadata": {},
   "outputs": [],
   "source": [
    "p = Profile()"
   ]
  },
  {
   "cell_type": "code",
   "execution_count": 73,
   "id": "e83c2257",
   "metadata": {},
   "outputs": [
    {
     "data": {
      "text/plain": [
       "<__main__.String at 0x24667b7b490>"
      ]
     },
     "execution_count": 73,
     "metadata": {},
     "output_type": "execute_result"
    }
   ],
   "source": [
    "p.firstname"
   ]
  },
  {
   "cell_type": "code",
   "execution_count": 74,
   "id": "eb5bf311",
   "metadata": {},
   "outputs": [],
   "source": [
    "# dataclass in descriptor"
   ]
  },
  {
   "cell_type": "code",
   "execution_count": null,
   "id": "a50f306f",
   "metadata": {},
   "outputs": [],
   "source": []
  }
 ],
 "metadata": {
  "kernelspec": {
   "display_name": "Python 3",
   "language": "python",
   "name": "python3"
  },
  "language_info": {
   "codemirror_mode": {
    "name": "ipython",
    "version": 3
   },
   "file_extension": ".py",
   "mimetype": "text/x-python",
   "name": "python",
   "nbconvert_exporter": "python",
   "pygments_lexer": "ipython3",
   "version": "3.8.8"
  }
 },
 "nbformat": 4,
 "nbformat_minor": 5
}
