{
 "cells": [
  {
   "cell_type": "code",
   "execution_count": 8,
   "id": "e4b5dc27",
   "metadata": {},
   "outputs": [],
   "source": [
    "a= \"welearnpython\"\n",
    "b=\"pythonwelearn\"\n",
    "def is_rotate(a,b):\n",
    "    a1 = len(a)\n",
    "    b1 = len(b)\n",
    "    temp = ' '\n",
    "    \n",
    "    if a1 != b1:\n",
    "        return 0\n",
    "    tem = a1 + a1\n",
    "    \n",
    "    if (temp.count(b1)> 0):\n",
    "        return 1\n",
    "    else:\n",
    "        return 0\n",
    "    \n",
    "    if areRotations(a, b):\n",
    "        print(\"Strings are rotations of each other\")\n",
    "    else:\n",
    "        print(\"Strings are not rotations of each other\") "
   ]
  },
  {
   "cell_type": "markdown",
   "id": "7cf4b6c4",
   "metadata": {},
   "source": [
    "# inheritance"
   ]
  },
  {
   "cell_type": "code",
   "execution_count": 9,
   "id": "9bc78ccd",
   "metadata": {},
   "outputs": [],
   "source": [
    "class Base():\n",
    "    def __init__(self,value):\n",
    "        self.value=value\n",
    "        print(f\"Base.__init__ is called\")\n",
    "    def info(self):\n",
    "        print(f\"Base.info: {self.value}\")"
   ]
  },
  {
   "cell_type": "code",
   "execution_count": 10,
   "id": "27e9037c",
   "metadata": {},
   "outputs": [],
   "source": [
    "class A(Base):\n",
    "    def __init__(self, value):\n",
    "        self.value = value\n",
    "        print(\"A.__init__ is called\")\n",
    "    def info(self):\n",
    "        print(f\"A.info: {self.value}\")"
   ]
  },
  {
   "cell_type": "code",
   "execution_count": 11,
   "id": "afe86a71",
   "metadata": {},
   "outputs": [],
   "source": [
    "class B(Base):\n",
    "    def __init__(self, value):\n",
    "        self.value = value\n",
    "        print(\"B.__init__ is called\")\n",
    "    def info(self):\n",
    "        print(f\"B.info: {self.value}\")"
   ]
  },
  {
   "cell_type": "code",
   "execution_count": 12,
   "id": "2540a1c3",
   "metadata": {},
   "outputs": [],
   "source": [
    "class C(A,B):\n",
    "    def __init__(self, value):\n",
    "        self.value = value\n",
    "        print(\"A.__init__ is called\")\n",
    "    def info(self):\n",
    "        print(f\"C.info: {self.value}\")"
   ]
  },
  {
   "cell_type": "code",
   "execution_count": 13,
   "id": "af907b1a",
   "metadata": {},
   "outputs": [
    {
     "name": "stdout",
     "output_type": "stream",
     "text": [
      "A.__init__ is called\n"
     ]
    }
   ],
   "source": [
    "c = C('python')"
   ]
  },
  {
   "cell_type": "code",
   "execution_count": 14,
   "id": "c654b04d",
   "metadata": {},
   "outputs": [
    {
     "name": "stdout",
     "output_type": "stream",
     "text": [
      "C.info: python\n"
     ]
    }
   ],
   "source": [
    "c.info()"
   ]
  },
  {
   "cell_type": "code",
   "execution_count": 15,
   "id": "c7b0a1b5",
   "metadata": {},
   "outputs": [],
   "source": [
    "class Base():\n",
    "    def __init__(self,value):\n",
    "        self.value=value\n",
    "        print(f\"Base.__init__ is called\")\n",
    "    def info(self):\n",
    "        print(f\"Base.info: {self.value}\")\n",
    "    def info_base(self):\n",
    "        print(f\"Base.info_base: {self.value}\")"
   ]
  },
  {
   "cell_type": "code",
   "execution_count": 16,
   "id": "2ed5daa6",
   "metadata": {},
   "outputs": [],
   "source": [
    "class A(Base):\n",
    "    def __init__(self,value):\n",
    "        self.value=value\n",
    "        print(f\"A.__init__ is called\")\n",
    "    def info(self):\n",
    "        print(f\"A.info: {self.value}\")\n",
    "    def info_base(self):\n",
    "        print(f\"A.info_a: {self.value}\")"
   ]
  },
  {
   "cell_type": "code",
   "execution_count": 17,
   "id": "06245265",
   "metadata": {},
   "outputs": [],
   "source": [
    "class B(Base):\n",
    "    def __init__(self,value):\n",
    "        self.value=value\n",
    "        print(f\"B.__init__ is called\")\n",
    "    def info(self):\n",
    "        print(f\"B.info: {self.value}\")\n",
    "    def info_base(self):\n",
    "        print(f\"B.info_b: {self.value}\")"
   ]
  },
  {
   "cell_type": "code",
   "execution_count": 18,
   "id": "2b7c0e50",
   "metadata": {},
   "outputs": [],
   "source": [
    "class C(A,B):\n",
    "    def __init__(self, value):\n",
    "        self.value = value\n",
    "        print(\"C.__init__ is called\")"
   ]
  },
  {
   "cell_type": "code",
   "execution_count": 19,
   "id": "1296ce21",
   "metadata": {},
   "outputs": [
    {
     "name": "stdout",
     "output_type": "stream",
     "text": [
      "C.__init__ is called\n"
     ]
    }
   ],
   "source": [
    "c = C('python')"
   ]
  },
  {
   "cell_type": "code",
   "execution_count": 20,
   "id": "2e0feea3",
   "metadata": {},
   "outputs": [
    {
     "name": "stdout",
     "output_type": "stream",
     "text": [
      "A.info: python\n"
     ]
    }
   ],
   "source": [
    "c.info()"
   ]
  },
  {
   "cell_type": "code",
   "execution_count": 21,
   "id": "c67953b3",
   "metadata": {},
   "outputs": [
    {
     "data": {
      "text/plain": [
       "(__main__.C, __main__.A, __main__.B, __main__.Base, object)"
      ]
     },
     "execution_count": 21,
     "metadata": {},
     "output_type": "execute_result"
    }
   ],
   "source": [
    "C.__mro__ #method resoultion oder "
   ]
  },
  {
   "cell_type": "code",
   "execution_count": 22,
   "id": "97226e8d",
   "metadata": {},
   "outputs": [],
   "source": [
    "class C(B,A):\n",
    "    def __init__(self, value):\n",
    "        self.value = value\n",
    "        print(\"C.__init__ is called\")"
   ]
  },
  {
   "cell_type": "code",
   "execution_count": 23,
   "id": "36fd73ab",
   "metadata": {},
   "outputs": [
    {
     "data": {
      "text/plain": [
       "(__main__.C, __main__.B, __main__.A, __main__.Base, object)"
      ]
     },
     "execution_count": 23,
     "metadata": {},
     "output_type": "execute_result"
    }
   ],
   "source": [
    "C.__mro__"
   ]
  },
  {
   "cell_type": "code",
   "execution_count": 24,
   "id": "44e3bc5d",
   "metadata": {},
   "outputs": [
    {
     "name": "stdout",
     "output_type": "stream",
     "text": [
      "A.info: python\n"
     ]
    }
   ],
   "source": [
    "c.info()"
   ]
  },
  {
   "cell_type": "code",
   "execution_count": 25,
   "id": "82aa36c7",
   "metadata": {},
   "outputs": [],
   "source": [
    "# __ in python is private class"
   ]
  },
  {
   "cell_type": "code",
   "execution_count": null,
   "id": "4dd0f25f",
   "metadata": {},
   "outputs": [],
   "source": []
  },
  {
   "cell_type": "code",
   "execution_count": null,
   "id": "9288491d",
   "metadata": {},
   "outputs": [],
   "source": []
  }
 ],
 "metadata": {
  "kernelspec": {
   "display_name": "Python 3",
   "language": "python",
   "name": "python3"
  },
  "language_info": {
   "codemirror_mode": {
    "name": "ipython",
    "version": 3
   },
   "file_extension": ".py",
   "mimetype": "text/x-python",
   "name": "python",
   "nbconvert_exporter": "python",
   "pygments_lexer": "ipython3",
   "version": "3.8.8"
  }
 },
 "nbformat": 4,
 "nbformat_minor": 5
}
