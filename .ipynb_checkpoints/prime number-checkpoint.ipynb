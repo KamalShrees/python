{
 "cells": [
  {
   "cell_type": "code",
   "execution_count": 1,
   "id": "08c4d4e2",
   "metadata": {},
   "outputs": [],
   "source": [
    "# find out prime numbers"
   ]
  },
  {
   "cell_type": "code",
   "execution_count": null,
   "id": "be8a0a63",
   "metadata": {},
   "outputs": [],
   "source": [
    "n = int(input(\"enter a number : \"))\n",
    "for i in range(1, n+1):\n",
    "    if i > 1:\n",
    "        for j in range(2,i):\n",
    "            if (i % j) == 0:\n",
    "                break\n",
    "            else:\n",
    "                print(i, end = ' ')"
   ]
  },
  {
   "cell_type": "code",
   "execution_count": null,
   "id": "c6c18f3d",
   "metadata": {},
   "outputs": [],
   "source": []
  },
  {
   "cell_type": "code",
   "execution_count": null,
   "id": "34903ed2",
   "metadata": {},
   "outputs": [],
   "source": []
  }
 ],
 "metadata": {
  "kernelspec": {
   "display_name": "Python 3",
   "language": "python",
   "name": "python3"
  },
  "language_info": {
   "codemirror_mode": {
    "name": "ipython",
    "version": 3
   },
   "file_extension": ".py",
   "mimetype": "text/x-python",
   "name": "python",
   "nbconvert_exporter": "python",
   "pygments_lexer": "ipython3",
   "version": "3.8.8"
  }
 },
 "nbformat": 4,
 "nbformat_minor": 5
}
