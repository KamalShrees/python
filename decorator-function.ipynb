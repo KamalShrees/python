{
 "cells": [
  {
   "cell_type": "markdown",
   "metadata": {},
   "source": [
    "3 points important in Decorator: \n",
    "    1. first class object/function\n",
    "    2. inner function\n",
    "    3. returning function"
   ]
  },
  {
   "cell_type": "code",
   "execution_count": 20,
   "metadata": {},
   "outputs": [
    {
     "name": "stdout",
     "output_type": "stream",
     "text": [
      "you arenot logged in\n"
     ]
    }
   ],
   "source": [
    "is_login= False\n",
    "def login(arg):\n",
    "    if is_login:\n",
    "        print(\"login checked\")\n",
    "        return arg\n",
    "    else:\n",
    "        print('you arenot logged in')\n",
    "\n",
    "def purchase():\n",
    "    print(\"purchase successful\")\n",
    "    \n",
    "purchase = login(purchase)"
   ]
  },
  {
   "cell_type": "code",
   "execution_count": 21,
   "metadata": {},
   "outputs": [
    {
     "name": "stdout",
     "output_type": "stream",
     "text": [
      "login checked\n"
     ]
    }
   ],
   "source": [
    "is_login= True\n",
    "def login(arg):\n",
    "    if is_login:\n",
    "        print(\"login checked\")\n",
    "        return arg\n",
    "    else:\n",
    "        print('you arenot logged in')\n",
    "\n",
    "def purchase():\n",
    "    print(\"purchase successful\")\n",
    "    \n",
    "purchase = login(purchase)"
   ]
  },
  {
   "cell_type": "code",
   "execution_count": 22,
   "metadata": {},
   "outputs": [
    {
     "name": "stdout",
     "output_type": "stream",
     "text": [
      "purchase successful\n"
     ]
    }
   ],
   "source": [
    "purchase()"
   ]
  },
  {
   "cell_type": "markdown",
   "metadata": {},
   "source": [
    "# High order function"
   ]
  },
  {
   "cell_type": "code",
   "execution_count": 23,
   "metadata": {},
   "outputs": [],
   "source": [
    "def outer():\n",
    "    def hello():\n",
    "        print(\"hello all\")\n",
    "    def greet():\n",
    "        print(\"Good morning\")\n",
    "    hello()\n",
    "    greet()"
   ]
  },
  {
   "cell_type": "code",
   "execution_count": 24,
   "metadata": {},
   "outputs": [
    {
     "name": "stdout",
     "output_type": "stream",
     "text": [
      "hello all\n",
      "Good morning\n"
     ]
    }
   ],
   "source": [
    "outer()"
   ]
  },
  {
   "cell_type": "code",
   "execution_count": 25,
   "metadata": {},
   "outputs": [],
   "source": [
    "def outer():\n",
    "    def hello():\n",
    "        print(\"hello all\")\n",
    "    def greet():\n",
    "        print(\"Good morning\")\n",
    "    return hello, greet"
   ]
  },
  {
   "cell_type": "code",
   "execution_count": 26,
   "metadata": {},
   "outputs": [],
   "source": [
    "a,b=outer()"
   ]
  },
  {
   "cell_type": "code",
   "execution_count": 27,
   "metadata": {},
   "outputs": [
    {
     "name": "stdout",
     "output_type": "stream",
     "text": [
      "hello all\n"
     ]
    }
   ],
   "source": [
    "a()"
   ]
  },
  {
   "cell_type": "code",
   "execution_count": 28,
   "metadata": {},
   "outputs": [
    {
     "name": "stdout",
     "output_type": "stream",
     "text": [
      "Good morning\n"
     ]
    }
   ],
   "source": [
    "b()"
   ]
  },
  {
   "cell_type": "code",
   "execution_count": null,
   "metadata": {},
   "outputs": [],
   "source": []
  },
  {
   "cell_type": "code",
   "execution_count": 29,
   "metadata": {},
   "outputs": [],
   "source": [
    "def outer(f):\n",
    "    def inner():\n",
    "        print(f\"before calling main function {f.__name__!r}\")\n",
    "        f()\n",
    "        print(f\"after calling main function {f.__name__!r}\")\n",
    "    return inner"
   ]
  },
  {
   "cell_type": "code",
   "execution_count": 30,
   "metadata": {},
   "outputs": [],
   "source": [
    "def purchase():\n",
    "    print(\"purchase successful\")\n",
    "    \n",
    "purchase = outer(purchase)"
   ]
  },
  {
   "cell_type": "code",
   "execution_count": 31,
   "metadata": {},
   "outputs": [
    {
     "name": "stdout",
     "output_type": "stream",
     "text": [
      "before calling main function 'purchase'\n",
      "purchase successful\n",
      "after calling main function 'purchase'\n"
     ]
    }
   ],
   "source": [
    "purchase()"
   ]
  },
  {
   "cell_type": "code",
   "execution_count": 32,
   "metadata": {},
   "outputs": [
    {
     "data": {
      "text/plain": [
       "'inner'"
      ]
     },
     "execution_count": 32,
     "metadata": {},
     "output_type": "execute_result"
    }
   ],
   "source": [
    "purchase.__name__"
   ]
  },
  {
   "cell_type": "code",
   "execution_count": 33,
   "metadata": {},
   "outputs": [],
   "source": [
    "def login(f):\n",
    "    def inner():\n",
    "        print(f\"before calling main function {f.__name__!r}\")\n",
    "        f()\n",
    "        print(f\"after calling main function {f.__name__!r}\")\n",
    "    return inner"
   ]
  },
  {
   "cell_type": "code",
   "execution_count": 34,
   "metadata": {},
   "outputs": [],
   "source": [
    "@login   #decorator\n",
    "def purchase():\n",
    "    print(\"purchase successful\")\n"
   ]
  },
  {
   "cell_type": "code",
   "execution_count": 35,
   "metadata": {},
   "outputs": [
    {
     "name": "stdout",
     "output_type": "stream",
     "text": [
      "before calling main function 'purchase'\n",
      "purchase successful\n",
      "after calling main function 'purchase'\n"
     ]
    }
   ],
   "source": [
    "purchase()"
   ]
  },
  {
   "cell_type": "code",
   "execution_count": null,
   "metadata": {},
   "outputs": [],
   "source": []
  },
  {
   "cell_type": "code",
   "execution_count": 36,
   "metadata": {},
   "outputs": [],
   "source": [
    "from functools import wraps"
   ]
  },
  {
   "cell_type": "code",
   "execution_count": 37,
   "metadata": {},
   "outputs": [],
   "source": [
    "def login(f):\n",
    "    wraps(f)\n",
    "    def inner():\n",
    "        print(f\"before calling main function {f.__name__!r}\")\n",
    "        f()\n",
    "        print(f\"after calling main function {f.__name__!r}\")\n",
    "    return inner"
   ]
  },
  {
   "cell_type": "code",
   "execution_count": 38,
   "metadata": {},
   "outputs": [],
   "source": [
    "@login   #decorator\n",
    "def purchase():\n",
    "    print(\"purchase successful\")"
   ]
  },
  {
   "cell_type": "code",
   "execution_count": 39,
   "metadata": {},
   "outputs": [
    {
     "name": "stdout",
     "output_type": "stream",
     "text": [
      "before calling main function 'purchase'\n",
      "purchase successful\n",
      "after calling main function 'purchase'\n"
     ]
    }
   ],
   "source": [
    "purchase()"
   ]
  },
  {
   "cell_type": "markdown",
   "metadata": {},
   "source": [
    "# example"
   ]
  },
  {
   "cell_type": "code",
   "execution_count": null,
   "metadata": {},
   "outputs": [],
   "source": []
  },
  {
   "cell_type": "code",
   "execution_count": 40,
   "metadata": {},
   "outputs": [
    {
     "data": {
      "text/plain": [
       "120"
      ]
     },
     "execution_count": 40,
     "metadata": {},
     "output_type": "execute_result"
    }
   ],
   "source": [
    "def fact(x):\n",
    "    if x<3:\n",
    "        return x\n",
    "    return x*fact(x-1)\n",
    "fact(5)"
   ]
  },
  {
   "cell_type": "code",
   "execution_count": 41,
   "metadata": {},
   "outputs": [
    {
     "data": {
      "text/plain": [
       "120"
      ]
     },
     "execution_count": 41,
     "metadata": {},
     "output_type": "execute_result"
    }
   ],
   "source": [
    "def fact_iter(x):\n",
    "    result=1\n",
    "    if x<3:\n",
    "        return x\n",
    "    for i in range(n,1,-1):\n",
    "        result=result*i\n",
    "    return result\n",
    "fact(5)"
   ]
  },
  {
   "cell_type": "code",
   "execution_count": 45,
   "metadata": {},
   "outputs": [],
   "source": [
    "import time\n",
    "def timer(func):\n",
    "    @wraps(func)\n",
    "    def actualtime(*args,**kwargs):\n",
    "        starting_time=time.perf_counter()\n",
    "        print(f\"calling function {func.__name__!r}\")\n",
    "        func(*args,**kwargs)\n",
    "        ending_time=time.perf_counter()\n",
    "        print(f'the time taken by funcation is : {ending_time-starting_time}')\n",
    "    return actualtime\n",
    "    "
   ]
  },
  {
   "cell_type": "code",
   "execution_count": 46,
   "metadata": {},
   "outputs": [],
   "source": [
    "@timer\n",
    "def fact_iter(x):\n",
    "    result=1\n",
    "    if x<3:\n",
    "        return x\n",
    "    for i in range(x,1,-1):\n",
    "        result=result*i\n",
    "    return result"
   ]
  },
  {
   "cell_type": "code",
   "execution_count": 47,
   "metadata": {},
   "outputs": [
    {
     "name": "stdout",
     "output_type": "stream",
     "text": [
      "calling function 'fact_iter'\n",
      "the time taken by funcation is : 0.00011000000000649379\n"
     ]
    }
   ],
   "source": [
    "fact_iter(5)\n"
   ]
  },
  {
   "cell_type": "code",
   "execution_count": 48,
   "metadata": {},
   "outputs": [],
   "source": [
    "@timer\n",
    "def fact(x):\n",
    "    if x<3:\n",
    "        return x\n",
    "    return x*fact(x-1)"
   ]
  },
  {
   "cell_type": "code",
   "execution_count": 53,
   "metadata": {},
   "outputs": [
    {
     "name": "stdout",
     "output_type": "stream",
     "text": [
      "calling function 'fact'\n",
      "the time taken by funcation is : 0.0002475000000004002\n"
     ]
    }
   ],
   "source": [
    "fact(2)"
   ]
  },
  {
   "cell_type": "code",
   "execution_count": 29,
   "metadata": {},
   "outputs": [
    {
     "data": {
      "text/plain": [
       "{'__name__': '__main__',\n",
       " '__doc__': 'Automatically created module for IPython interactive environment',\n",
       " '__package__': None,\n",
       " '__loader__': None,\n",
       " '__spec__': None,\n",
       " '__builtin__': <module 'builtins' (built-in)>,\n",
       " '__builtins__': <module 'builtins' (built-in)>,\n",
       " '_ih': ['',\n",
       "  'is_login= False\\ndef login(arg):\\n    if is_login:\\n        print(\"login checked\")\\n        return arg\\n    else:\\n        print(\\'you arenot logged in\\')\\n\\ndef purchase():\\n    print(\"purchase successful\")\\n    \\npurchase = login(purchase)',\n",
       "  'is_login= True\\ndef login(arg):\\n    if is_login:\\n        print(\"login checked\")\\n        return arg\\n    else:\\n        print(\\'you arenot logged in\\')\\n\\ndef purchase():\\n    print(\"purchase successful\")\\n    \\npurchase = login(purchase)',\n",
       "  'purchase()',\n",
       "  'def outer():\\n    def hello():\\n        print(\"hello all\")\\n    def greet():\\n        print(\"Good morning\")\\n    hello()\\n    greet()',\n",
       "  'outer()',\n",
       "  'def outer():\\n    def hello():\\n        print(\"hello all\")\\n    def greet():\\n        print(\"Good morning\")\\n    return hello, greet',\n",
       "  'a,b=outer()',\n",
       "  'a()',\n",
       "  'b()',\n",
       "  'def outer(f):\\n    def inner():\\n        print(f\"before calling main function {f.__name__!r}\")\\n        f()\\n        print(f\"after calling main function {f.__name__!r}\")\\n    return inner',\n",
       "  'def purchase():\\n    print(\"purchase successful\")\\n    \\npurchase = outer(purchase)',\n",
       "  'purchase()',\n",
       "  'purchase.__name__',\n",
       "  'def login(f):\\n    def inner():\\n        print(f\"before calling main function {f.__name__!r}\")\\n        f()\\n        print(f\"after calling main function {f.__name__!r}\")\\n    return inner',\n",
       "  '@login   #decorator\\ndef purchase():\\n    print(\"purchase successful\")',\n",
       "  'purchase()',\n",
       "  'from functools import wraps',\n",
       "  'def login(f):\\n    wraps(f)\\n    def inner():\\n        print(f\"before calling main function {f.__name__!r}\")\\n        f()\\n        print(f\"after calling main function {f.__name__!r}\")\\n    return inner',\n",
       "  '@login   #decorator\\ndef purchase():\\n    print(\"purchase successful\")',\n",
       "  'purchase()',\n",
       "  'def fact(x):\\n    if x<3:\\n        return x\\n    return x*fact(x-1)\\nfact(5)',\n",
       "  'def fact_iter(x):\\n    result=1\\n    if x<3:\\n        return x\\n    for i in range(n,1,-1):\\n        result=result*i\\n    return result\\nfact(5)',\n",
       "  'import time\\ndef timer(func):\\n    @wraps(func)\\n    def actualtime(*args,**kwargs):\\n        starting_time=time.perf_counter()\\n        print(f\"calling function {func.__name__!r}\")\\n        func(*args,**kwargs)\\n        ending_time=time.perf_counter()\\n        print(f\\'the time taken by funcation is{ending_time-starting_time}\\')\\n    return actualtime\\n    ',\n",
       "  'import time\\ndef timer(func):\\n    @wraps(func)\\n    def actualtime(*args,**kwargs):\\n        starting_time=time.perf_counter()\\n        print(f\"calling function {func.__name__!r}\")\\n        func(*args,**kwargs)\\n        ending_time=time.perf_counter()\\n        print(f\\'the time taken by funcation is{ending_time-starting_time}\\')\\n    return actualtime\\n    ',\n",
       "  '@timer\\ndef fact_iter(x):\\n    result=1\\n    if x<3:\\n        return x\\n    for i in range(x,1,-1):\\n        result=result*i\\n    return result',\n",
       "  'fact_iter(5)',\n",
       "  '@timer\\ndef fact(x):\\n    if x<3:\\n        return x\\n    return x*fact(x-1)',\n",
       "  'fact(5)',\n",
       "  'globals()'],\n",
       " '_oh': {13: 'inner', 21: 120, 22: 120},\n",
       " '_dh': ['C:\\\\Users\\\\Toshiba\\\\Desktop\\\\corePython'],\n",
       " 'In': ['',\n",
       "  'is_login= False\\ndef login(arg):\\n    if is_login:\\n        print(\"login checked\")\\n        return arg\\n    else:\\n        print(\\'you arenot logged in\\')\\n\\ndef purchase():\\n    print(\"purchase successful\")\\n    \\npurchase = login(purchase)',\n",
       "  'is_login= True\\ndef login(arg):\\n    if is_login:\\n        print(\"login checked\")\\n        return arg\\n    else:\\n        print(\\'you arenot logged in\\')\\n\\ndef purchase():\\n    print(\"purchase successful\")\\n    \\npurchase = login(purchase)',\n",
       "  'purchase()',\n",
       "  'def outer():\\n    def hello():\\n        print(\"hello all\")\\n    def greet():\\n        print(\"Good morning\")\\n    hello()\\n    greet()',\n",
       "  'outer()',\n",
       "  'def outer():\\n    def hello():\\n        print(\"hello all\")\\n    def greet():\\n        print(\"Good morning\")\\n    return hello, greet',\n",
       "  'a,b=outer()',\n",
       "  'a()',\n",
       "  'b()',\n",
       "  'def outer(f):\\n    def inner():\\n        print(f\"before calling main function {f.__name__!r}\")\\n        f()\\n        print(f\"after calling main function {f.__name__!r}\")\\n    return inner',\n",
       "  'def purchase():\\n    print(\"purchase successful\")\\n    \\npurchase = outer(purchase)',\n",
       "  'purchase()',\n",
       "  'purchase.__name__',\n",
       "  'def login(f):\\n    def inner():\\n        print(f\"before calling main function {f.__name__!r}\")\\n        f()\\n        print(f\"after calling main function {f.__name__!r}\")\\n    return inner',\n",
       "  '@login   #decorator\\ndef purchase():\\n    print(\"purchase successful\")',\n",
       "  'purchase()',\n",
       "  'from functools import wraps',\n",
       "  'def login(f):\\n    wraps(f)\\n    def inner():\\n        print(f\"before calling main function {f.__name__!r}\")\\n        f()\\n        print(f\"after calling main function {f.__name__!r}\")\\n    return inner',\n",
       "  '@login   #decorator\\ndef purchase():\\n    print(\"purchase successful\")',\n",
       "  'purchase()',\n",
       "  'def fact(x):\\n    if x<3:\\n        return x\\n    return x*fact(x-1)\\nfact(5)',\n",
       "  'def fact_iter(x):\\n    result=1\\n    if x<3:\\n        return x\\n    for i in range(n,1,-1):\\n        result=result*i\\n    return result\\nfact(5)',\n",
       "  'import time\\ndef timer(func):\\n    @wraps(func)\\n    def actualtime(*args,**kwargs):\\n        starting_time=time.perf_counter()\\n        print(f\"calling function {func.__name__!r}\")\\n        func(*args,**kwargs)\\n        ending_time=time.perf_counter()\\n        print(f\\'the time taken by funcation is{ending_time-starting_time}\\')\\n    return actualtime\\n    ',\n",
       "  'import time\\ndef timer(func):\\n    @wraps(func)\\n    def actualtime(*args,**kwargs):\\n        starting_time=time.perf_counter()\\n        print(f\"calling function {func.__name__!r}\")\\n        func(*args,**kwargs)\\n        ending_time=time.perf_counter()\\n        print(f\\'the time taken by funcation is{ending_time-starting_time}\\')\\n    return actualtime\\n    ',\n",
       "  '@timer\\ndef fact_iter(x):\\n    result=1\\n    if x<3:\\n        return x\\n    for i in range(x,1,-1):\\n        result=result*i\\n    return result',\n",
       "  'fact_iter(5)',\n",
       "  '@timer\\ndef fact(x):\\n    if x<3:\\n        return x\\n    return x*fact(x-1)',\n",
       "  'fact(5)',\n",
       "  'globals()'],\n",
       " 'Out': {13: 'inner', 21: 120, 22: 120},\n",
       " 'get_ipython': <bound method InteractiveShell.get_ipython of <ipykernel.zmqshell.ZMQInteractiveShell object at 0x000002101C1F2F70>>,\n",
       " 'exit': <IPython.core.autocall.ZMQExitAutocall at 0x2101c2af670>,\n",
       " 'quit': <IPython.core.autocall.ZMQExitAutocall at 0x2101c2af670>,\n",
       " '_': 120,\n",
       " '__': 120,\n",
       " '___': 'inner',\n",
       " '_i': 'fact(5)',\n",
       " '_ii': '@timer\\ndef fact(x):\\n    if x<3:\\n        return x\\n    return x*fact(x-1)',\n",
       " '_iii': 'fact_iter(5)',\n",
       " '_i1': 'is_login= False\\ndef login(arg):\\n    if is_login:\\n        print(\"login checked\")\\n        return arg\\n    else:\\n        print(\\'you arenot logged in\\')\\n\\ndef purchase():\\n    print(\"purchase successful\")\\n    \\npurchase = login(purchase)',\n",
       " 'is_login': True,\n",
       " 'login': <function __main__.login(f)>,\n",
       " 'purchase': <function __main__.login.<locals>.inner()>,\n",
       " '_i2': 'is_login= True\\ndef login(arg):\\n    if is_login:\\n        print(\"login checked\")\\n        return arg\\n    else:\\n        print(\\'you arenot logged in\\')\\n\\ndef purchase():\\n    print(\"purchase successful\")\\n    \\npurchase = login(purchase)',\n",
       " '_i3': 'purchase()',\n",
       " '_i4': 'def outer():\\n    def hello():\\n        print(\"hello all\")\\n    def greet():\\n        print(\"Good morning\")\\n    hello()\\n    greet()',\n",
       " 'outer': <function __main__.outer(f)>,\n",
       " '_i5': 'outer()',\n",
       " '_i6': 'def outer():\\n    def hello():\\n        print(\"hello all\")\\n    def greet():\\n        print(\"Good morning\")\\n    return hello, greet',\n",
       " '_i7': 'a,b=outer()',\n",
       " 'a': <function __main__.outer.<locals>.hello()>,\n",
       " 'b': <function __main__.outer.<locals>.greet()>,\n",
       " '_i8': 'a()',\n",
       " '_i9': 'b()',\n",
       " '_i10': 'def outer(f):\\n    def inner():\\n        print(f\"before calling main function {f.__name__!r}\")\\n        f()\\n        print(f\"after calling main function {f.__name__!r}\")\\n    return inner',\n",
       " '_i11': 'def purchase():\\n    print(\"purchase successful\")\\n    \\npurchase = outer(purchase)',\n",
       " '_i12': 'purchase()',\n",
       " '_i13': 'purchase.__name__',\n",
       " '_13': 'inner',\n",
       " '_i14': 'def login(f):\\n    def inner():\\n        print(f\"before calling main function {f.__name__!r}\")\\n        f()\\n        print(f\"after calling main function {f.__name__!r}\")\\n    return inner',\n",
       " '_i15': '@login   #decorator\\ndef purchase():\\n    print(\"purchase successful\")',\n",
       " '_i16': 'purchase()',\n",
       " '_i17': 'from functools import wraps',\n",
       " 'wraps': <function functools.wraps(wrapped, assigned=('__module__', '__name__', '__qualname__', '__doc__', '__annotations__'), updated=('__dict__',))>,\n",
       " '_i18': 'def login(f):\\n    wraps(f)\\n    def inner():\\n        print(f\"before calling main function {f.__name__!r}\")\\n        f()\\n        print(f\"after calling main function {f.__name__!r}\")\\n    return inner',\n",
       " '_i19': '@login   #decorator\\ndef purchase():\\n    print(\"purchase successful\")',\n",
       " '_i20': 'purchase()',\n",
       " '_i21': 'def fact(x):\\n    if x<3:\\n        return x\\n    return x*fact(x-1)\\nfact(5)',\n",
       " 'fact': <function __main__.fact(x)>,\n",
       " '_21': 120,\n",
       " '_i22': 'def fact_iter(x):\\n    result=1\\n    if x<3:\\n        return x\\n    for i in range(n,1,-1):\\n        result=result*i\\n    return result\\nfact(5)',\n",
       " 'fact_iter': <function __main__.fact_iter(x)>,\n",
       " '_22': 120,\n",
       " '_i23': 'import time\\ndef timer(func):\\n    @wraps(func)\\n    def actualtime(*args,**kwargs):\\n        starting_time=time.perf_counter()\\n        print(f\"calling function {func.__name__!r}\")\\n        func(*args,**kwargs)\\n        ending_time=time.perf_counter()\\n        print(f\\'the time taken by funcation is{ending_time-starting_time}\\')\\n    return actualtime\\n    ',\n",
       " 'time': <module 'time' (built-in)>,\n",
       " 'timer': <function __main__.timer(func)>,\n",
       " '_i24': 'import time\\ndef timer(func):\\n    @wraps(func)\\n    def actualtime(*args,**kwargs):\\n        starting_time=time.perf_counter()\\n        print(f\"calling function {func.__name__!r}\")\\n        func(*args,**kwargs)\\n        ending_time=time.perf_counter()\\n        print(f\\'the time taken by funcation is{ending_time-starting_time}\\')\\n    return actualtime\\n    ',\n",
       " '_i25': '@timer\\ndef fact_iter(x):\\n    result=1\\n    if x<3:\\n        return x\\n    for i in range(x,1,-1):\\n        result=result*i\\n    return result',\n",
       " '_i26': 'fact_iter(5)',\n",
       " '_i27': '@timer\\ndef fact(x):\\n    if x<3:\\n        return x\\n    return x*fact(x-1)',\n",
       " '_i28': 'fact(5)',\n",
       " '_i29': 'globals()'}"
      ]
     },
     "execution_count": 29,
     "metadata": {},
     "output_type": "execute_result"
    }
   ],
   "source": [
    "globals()"
   ]
  },
  {
   "cell_type": "markdown",
   "metadata": {},
   "source": [
    "# practise"
   ]
  },
  {
   "cell_type": "code",
   "execution_count": 66,
   "metadata": {},
   "outputs": [],
   "source": [
    "def decor1(func):\n",
    "    def decor1_inner():\n",
    "        b=func()\n",
    "        multiply=10*b\n",
    "        return multiply\n",
    "    return decor1_inner()"
   ]
  },
  {
   "cell_type": "code",
   "execution_count": 67,
   "metadata": {},
   "outputs": [],
   "source": [
    "def decor2(func):\n",
    "    def decor2_inner():\n",
    "        b=func()\n",
    "        add=10+b\n",
    "        return add\n",
    "    return decor2_inner()"
   ]
  },
  {
   "cell_type": "code",
   "execution_count": 68,
   "metadata": {},
   "outputs": [],
   "source": [
    "def num():\n",
    "    return num\n"
   ]
  },
  {
   "cell_type": "code",
   "execution_count": 71,
   "metadata": {},
   "outputs": [
    {
     "ename": "NameError",
     "evalue": "name 'func' is not defined",
     "output_type": "error",
     "traceback": [
      "\u001b[1;31m---------------------------------------------------------------------------\u001b[0m",
      "\u001b[1;31mNameError\u001b[0m                                 Traceback (most recent call last)",
      "\u001b[1;32m<ipython-input-71-741306cb42f8>\u001b[0m in \u001b[0;36m<module>\u001b[1;34m\u001b[0m\n\u001b[1;32m----> 1\u001b[1;33m \u001b[0mstore\u001b[0m\u001b[1;33m=\u001b[0m\u001b[0mdecor2\u001b[0m\u001b[1;33m(\u001b[0m\u001b[0mfunc\u001b[0m\u001b[1;33m)\u001b[0m\u001b[1;33m\u001b[0m\u001b[1;33m\u001b[0m\u001b[0m\n\u001b[0m\u001b[0;32m      2\u001b[0m \u001b[0mstore\u001b[0m\u001b[1;33m(\u001b[0m\u001b[1;33m)\u001b[0m\u001b[1;33m\u001b[0m\u001b[1;33m\u001b[0m\u001b[0m\n",
      "\u001b[1;31mNameError\u001b[0m: name 'func' is not defined"
     ]
    }
   ],
   "source": [
    "store=decor2()\n",
    "store()"
   ]
  },
  {
   "cell_type": "code",
   "execution_count": 34,
   "metadata": {},
   "outputs": [
    {
     "name": "stdout",
     "output_type": "stream",
     "text": [
      "*****\n",
      "%%%%%\n",
      "hello\n",
      "%%%%%\n",
      "*****\n"
     ]
    }
   ],
   "source": [
    "def f(x):\n",
    "    def f1(*args, **kwargs):\n",
    "        print(\"*\"* 5)\n",
    "        x(*args, **kwargs)\n",
    "        print(\"*\"* 5)\n",
    "    return f1\n",
    "def a(x):\n",
    "    def f1(*args, **kwargs):\n",
    "        print(\"%\"* 5)\n",
    "        x(*args, **kwargs)\n",
    "        print(\"%\"* 5)\n",
    "    return f1\n",
    "@f\n",
    "@a\n",
    "def p(m):\n",
    "    print(m)\n",
    "p(\"hello\")"
   ]
  },
  {
   "cell_type": "code",
   "execution_count": 35,
   "metadata": {},
   "outputs": [
    {
     "name": "stdout",
     "output_type": "stream",
     "text": [
      "*****\n",
      "%%%%%\n",
      "*****\n",
      "%%%%%\n",
      "hello\n",
      "%%%%%\n",
      "*****\n",
      "%%%%%\n",
      "*****\n"
     ]
    }
   ],
   "source": [
    "store=f(a(p))   #p ma method call hanerw number dina mildaina kina?\n",
    "store('hello')   "
   ]
  },
  {
   "cell_type": "code",
   "execution_count": 36,
   "metadata": {},
   "outputs": [],
   "source": [
    "def smart_divide(func):\n",
    "    def inner(a, b):\n",
    "        if b == 0:\n",
    "            print(\"Whoops! cannot divide\")\n",
    "            return\n",
    "\n",
    "        return func(a, b)\n",
    "    return inner\n",
    "\n",
    "\n",
    "@smart_divide\n",
    "def divide(a, b):\n",
    "    print(a/b)"
   ]
  },
  {
   "cell_type": "code",
   "execution_count": 37,
   "metadata": {},
   "outputs": [
    {
     "name": "stdout",
     "output_type": "stream",
     "text": [
      "2.0\n"
     ]
    }
   ],
   "source": [
    "divide(4,2)"
   ]
  },
  {
   "cell_type": "code",
   "execution_count": 38,
   "metadata": {},
   "outputs": [
    {
     "name": "stdout",
     "output_type": "stream",
     "text": [
      "-1.0\n"
     ]
    }
   ],
   "source": [
    "divide(2,-2)"
   ]
  },
  {
   "cell_type": "code",
   "execution_count": 39,
   "metadata": {},
   "outputs": [
    {
     "name": "stdout",
     "output_type": "stream",
     "text": [
      "Whoops! cannot divide\n"
     ]
    }
   ],
   "source": [
    "divide(0,0)"
   ]
  },
  {
   "cell_type": "code",
   "execution_count": 40,
   "metadata": {},
   "outputs": [
    {
     "name": "stdout",
     "output_type": "stream",
     "text": [
      "-1.0\n"
     ]
    }
   ],
   "source": [
    "div=smart_divide(divide(2,-2))"
   ]
  },
  {
   "cell_type": "code",
   "execution_count": 41,
   "metadata": {},
   "outputs": [],
   "source": [
    "div=smart_divide(divide)"
   ]
  },
  {
   "cell_type": "code",
   "execution_count": 43,
   "metadata": {},
   "outputs": [
    {
     "name": "stdout",
     "output_type": "stream",
     "text": [
      "2.0\n"
     ]
    }
   ],
   "source": [
    "div(4,2)"
   ]
  },
  {
   "cell_type": "code",
   "execution_count": 44,
   "metadata": {},
   "outputs": [],
   "source": [
    "#if the ans is more than 2 while dividing print it using another decorator"
   ]
  },
  {
   "cell_type": "code",
   "execution_count": 16,
   "metadata": {},
   "outputs": [],
   "source": [
    "def smart_divide(func):\n",
    "    def inner(a, b):\n",
    "        if b == 0:\n",
    "            print(\"Whoops! cannot divide\")\n",
    "            return\n",
    "        result = a/b\n",
    "        return result\n",
    "    return inner\n",
    "\n",
    "def is_greater(*args):\n",
    "    def inner(*args):\n",
    "        if func>2:\n",
    "            return \"the number is greater than 2\"\n",
    "        return \"the number isnot greater than 2\"\n",
    "    return inner\n",
    "\n",
    "def divide(a, b):\n",
    "    print(f'The value is {a} and {b}')"
   ]
  },
  {
   "cell_type": "code",
   "execution_count": 17,
   "metadata": {},
   "outputs": [],
   "source": [
    "div=smart_divide(is_greater(divide))"
   ]
  },
  {
   "cell_type": "code",
   "execution_count": 18,
   "metadata": {},
   "outputs": [
    {
     "data": {
      "text/plain": [
       "2.0"
      ]
     },
     "execution_count": 18,
     "metadata": {},
     "output_type": "execute_result"
    }
   ],
   "source": [
    "div(6,3)"
   ]
  },
  {
   "cell_type": "code",
   "execution_count": null,
   "metadata": {},
   "outputs": [],
   "source": []
  },
  {
   "cell_type": "code",
   "execution_count": null,
   "metadata": {},
   "outputs": [],
   "source": [
    "#decoretor must 2 fuction one outer and inner and returns inner function. sometimes cant return inner whic is expectional"
   ]
  }
 ],
 "metadata": {
  "kernelspec": {
   "display_name": "Python 3",
   "language": "python",
   "name": "python3"
  },
  "language_info": {
   "codemirror_mode": {
    "name": "ipython",
    "version": 3
   },
   "file_extension": ".py",
   "mimetype": "text/x-python",
   "name": "python",
   "nbconvert_exporter": "python",
   "pygments_lexer": "ipython3",
   "version": "3.8.8"
  }
 },
 "nbformat": 4,
 "nbformat_minor": 4
}
